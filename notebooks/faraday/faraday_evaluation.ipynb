{
 "cells": [
  {
   "cell_type": "markdown",
   "metadata": {},
   "source": [
    "# Privacy evaluation \n",
    "\n",
    "This tutorial explains how to evaluate the privacy of synthetic smart meter data. This notebook is based on the Faraday architecture, trained on Low Carbon London dataset.\n",
    "\n",
    "- For more information on Faraday's architecture, refer to the [Faraday paper](https://arxiv.org/abs/2404.04314).\n",
    "- For more information on evaluation method, refer to the paper by Centre for Net Zero on [Defining 'Good': Evaluation Framework for Synthetic Smart Meter Data\n",
    "](https://arxiv.org/abs/2407.11785). \n",
    "\n",
    "### Pre-requisites\n",
    "\n",
    "1. If you haven't already, please download LCL dataset from [data.london.gov.uk](https://data.london.gov.uk/dataset/smartmeter-energy-use-data-in-london-households).\n",
    "2. If you haven't already, you need to first train a model (refer to the `faraday_tutorial.ipynb` notebook).\n"
   ]
  },
  {
   "cell_type": "code",
   "execution_count": 1,
   "metadata": {},
   "outputs": [],
   "source": [
    "%load_ext autoreload\n",
    "%autoreload 2"
   ]
  },
  {
   "cell_type": "code",
   "execution_count": 2,
   "metadata": {},
   "outputs": [],
   "source": [
    "import os\n",
    "import sys\n",
    "\n",
    "import logging\n",
    "logging.basicConfig(level=logging.INFO)"
   ]
  },
  {
   "cell_type": "markdown",
   "metadata": {},
   "source": [
    "# 💿 Loading LCL Data"
   ]
  },
  {
   "cell_type": "code",
   "execution_count": 138,
   "metadata": {},
   "outputs": [],
   "source": [
    "from pathlib import Path\n",
    "from opensynth.data_modules.lcl_data_module import LCLDataModule\n",
    "import pytorch_lightning as pl\n",
    "\n",
    "import matplotlib.pyplot as plt\n",
    "\n",
    "data_path = Path(\"../../data/processed/historical/train/lcl_data.csv\")\n",
    "stats_path = Path(\"../../data/processed/historical/train/mean_std.csv\")\n",
    "outlier_path = Path(\"../../data/processed/historical/train/outliers.csv\")\n",
    "\n",
    "# Original training data with no outliers\n",
    "dm = LCLDataModule(data_path=data_path, stats_path=stats_path, batch_size=200, n_samples=20000)\n",
    "dm.setup()"
   ]
  },
  {
   "cell_type": "code",
   "execution_count": 139,
   "metadata": {},
   "outputs": [],
   "source": [
    "# Training data with implausible outliers injected for privacy attacks\n",
    "dm_with_outliers = LCLDataModule(data_path=data_path, stats_path=stats_path, batch_size=200, n_samples=20000, outlier_path=outlier_path)\n",
    "dm_with_outliers.setup()"
   ]
  },
  {
   "cell_type": "code",
   "execution_count": 140,
   "metadata": {},
   "outputs": [],
   "source": [
    "# Holdout data\n",
    "holdout_path = Path(\"../../data/processed/historical/holdout/lcl_data.csv\")\n",
    "dm_holdout = LCLDataModule(data_path=holdout_path, stats_path=stats_path, batch_size=200, n_samples=20000)\n",
    "dm_holdout.setup()"
   ]
  },
  {
   "cell_type": "markdown",
   "metadata": {},
   "source": [
    "# 🤖 Load Pretrained Faraday model"
   ]
  },
  {
   "cell_type": "code",
   "execution_count": 141,
   "metadata": {},
   "outputs": [],
   "source": [
    "from opensynth.models.faraday.model import FaradayModel\n",
    "import numpy as np\n",
    "import torch"
   ]
  },
  {
   "cell_type": "code",
   "execution_count": 142,
   "metadata": {},
   "outputs": [],
   "source": [
    "faraday1500 = torch.load(\"faraday_model_1500.pt\", weights_only=False)\n",
    "faraday150 = torch.load(\"faraday_model_150.pt\", weights_only=False)\n",
    "faraday50 = torch.load(\"faraday_model_50.pt\", weights_only=False)\n",
    "faraday10 = torch.load(\"faraday_model_10.pt\", weights_only=False)\n",
    "faraday1 = torch.load(\"faraday_model_1.pt\", weights_only=False)"
   ]
  },
  {
   "cell_type": "markdown",
   "metadata": {},
   "source": [
    "# 1️⃣ Reconstruction Attack"
   ]
  },
  {
   "cell_type": "markdown",
   "metadata": {},
   "source": [
    "As described in the Defining good paper, the reconstruction attack involves:\n",
    "\n",
    "1. Train the generative model with implausible outliers injected (100)\n",
    "2. Generate a random sample of data from the injected outliers (10000)\n",
    "3. Calculate the pairwise euclidean distances of each injected outlier with every sample in the batch of randomly generated data.\n",
    "4. Aggregate the results to retrieve the nearest generated sample for each outlier, and express the distance as a ratio of the norm of the outlier's vector.\n",
    "5. Visualise results in a cumulative distribution function."
   ]
  },
  {
   "cell_type": "markdown",
   "metadata": {},
   "source": [
    "### 🏭 Create Reconstruction Attack Dataset"
   ]
  },
  {
   "cell_type": "code",
   "execution_count": 143,
   "metadata": {},
   "outputs": [],
   "source": [
    "from opensynth.evaluation.privacy import reconstruction_attack\n",
    "\n",
    "faraday1500_attack_dataset = reconstruction_attack.create_attack_dataset(\n",
    "    model=faraday1500, dm=dm_with_outliers, n_samples=10000\n",
    ")\n",
    "\n",
    "faraday150_attack_dataset = reconstruction_attack.create_attack_dataset(\n",
    "    model=faraday150, dm=dm_with_outliers, n_samples=10000\n",
    ")\n",
    "\n",
    "faraday50_attack_dataset = reconstruction_attack.create_attack_dataset(\n",
    "    model=faraday50, dm=dm_with_outliers, n_samples=10000\n",
    ")\n",
    "\n",
    "faraday10_attack_dataset = reconstruction_attack.create_attack_dataset(\n",
    "    model=faraday10, dm=dm_with_outliers, n_samples=10000\n",
    ")\n",
    "faraday1_attack_dataset = reconstruction_attack.create_attack_dataset(\n",
    "    model=faraday1, dm=dm_with_outliers, n_samples=10000\n",
    ")"
   ]
  },
  {
   "cell_type": "markdown",
   "metadata": {},
   "source": [
    "### 🧮 Calculating pair-wise euclidean distances"
   ]
  },
  {
   "cell_type": "code",
   "execution_count": 178,
   "metadata": {},
   "outputs": [
    {
     "name": "stderr",
     "output_type": "stream",
     "text": [
      "INFO:opensynth.evaluation.privacy.reconstruction_attack:Calculating pairwise euclidean distance..\n",
      "INFO:opensynth.evaluation.privacy.reconstruction_attack:Converting wide to long table..\n",
      "INFO:opensynth.evaluation.privacy.reconstruction_attack:Calculating vector norm..\n",
      "INFO:opensynth.evaluation.privacy.reconstruction_attack:Calculating pairwise euclidean distance..\n",
      "INFO:opensynth.evaluation.privacy.reconstruction_attack:Converting wide to long table..\n",
      "INFO:opensynth.evaluation.privacy.reconstruction_attack:Calculating vector norm..\n",
      "INFO:opensynth.evaluation.privacy.reconstruction_attack:Calculating pairwise euclidean distance..\n",
      "INFO:opensynth.evaluation.privacy.reconstruction_attack:Converting wide to long table..\n",
      "INFO:opensynth.evaluation.privacy.reconstruction_attack:Calculating vector norm..\n",
      "INFO:opensynth.evaluation.privacy.reconstruction_attack:Calculating pairwise euclidean distance..\n",
      "INFO:opensynth.evaluation.privacy.reconstruction_attack:Converting wide to long table..\n",
      "INFO:opensynth.evaluation.privacy.reconstruction_attack:Calculating vector norm..\n",
      "INFO:opensynth.evaluation.privacy.reconstruction_attack:Calculating pairwise euclidean distance..\n",
      "INFO:opensynth.evaluation.privacy.reconstruction_attack:Converting wide to long table..\n",
      "INFO:opensynth.evaluation.privacy.reconstruction_attack:Calculating vector norm..\n"
     ]
    }
   ],
   "source": [
    "\n",
    "faraday1500_distance_norm = reconstruction_attack.calculate_distance_norm(\n",
    "    real = faraday1500_attack_dataset.outlier_samples,\n",
    "    fake = faraday1500_attack_dataset.synthetic_samples,\n",
    "    group_min=True\n",
    ")\n",
    "\n",
    "faraday150_distance_norm = reconstruction_attack.calculate_distance_norm(\n",
    "    real = faraday150_attack_dataset.outlier_samples,\n",
    "    fake = faraday150_attack_dataset.synthetic_samples,\n",
    "    group_min=True\n",
    ")\n",
    "\n",
    "faraday50_distance_norm = reconstruction_attack.calculate_distance_norm(\n",
    "    real = faraday50_attack_dataset.outlier_samples,\n",
    "    fake = faraday50_attack_dataset.synthetic_samples,\n",
    "    group_min=True\n",
    ")\n",
    "\n",
    "faraday10_distance_norm = reconstruction_attack.calculate_distance_norm(\n",
    "    real = faraday10_attack_dataset.outlier_samples,\n",
    "    fake = faraday10_attack_dataset.synthetic_samples,\n",
    "    group_min=True\n",
    ")\n",
    "\n",
    "faraday1_distance_norm = reconstruction_attack.calculate_distance_norm(\n",
    "    real = faraday1_attack_dataset.outlier_samples,\n",
    "    fake = faraday1_attack_dataset.synthetic_samples,\n",
    "    group_min=True\n",
    ")"
   ]
  },
  {
   "cell_type": "markdown",
   "metadata": {},
   "source": [
    "### 📈 Plotting cumulative distribution function"
   ]
  },
  {
   "cell_type": "markdown",
   "metadata": {},
   "source": [
    "In the defining good paper, it is recommended that threshold ratio be set to 0.3. This is analogous to saying that for a outlier profile with daily total consumption of 30kwh, a generated profile with total consumption within 30% (21±9kwh) is sufficient to render that outlier compromised.\n",
    "\n",
    "Using this threshold, we can see that GMMs trained with 1500 clusters, about 16.5% of outliers would have rended about 53% of outliers successfully reconstructed, whilst GMM trained with only 1 cluster is very private. All synthetic data generated lies outside of 0.6 X norm of injected outliers. "
   ]
  },
  {
   "cell_type": "code",
   "execution_count": 184,
   "metadata": {},
   "outputs": [
    {
     "data": {
      "text/plain": [
       "(0.0, 1.0)"
      ]
     },
     "execution_count": 184,
     "metadata": {},
     "output_type": "execute_result"
    },
    {
     "data": {
      "image/png": "[encoded data removed]",
      "text/plain": [
       "<Figure size 640x480 with 1 Axes>"
      ]
     },
     "metadata": {},
     "output_type": "display_data"
    }
   ],
   "source": [
    "import pandas as pd\n",
    "import seaborn as sns\n",
    "\n",
    "\n",
    "faraday1500_distance_norm[\"model\"] = \"faraday1500\"\n",
    "faraday150_distance_norm[\"model\"] = \"faraday150\"\n",
    "faraday50_distance_norm[\"model\"] = \"faraday50\"\n",
    "faraday10_distance_norm[\"model\"] = \"faraday10\"\n",
    "faraday1_distance_norm[\"model\"] = \"faraday1\"\n",
    "\n",
    "df_reconstruction_attack_results = pd.concat([\n",
    "    faraday1500_distance_norm,\n",
    "    faraday150_distance_norm,\n",
    "    faraday50_distance_norm,\n",
    "    faraday10_distance_norm,\n",
    "    faraday1_distance_norm\n",
    "]).reset_index(drop=True)\n",
    "\n",
    "sns.ecdfplot(data=df_reconstruction_attack_results, x=\"ratio\", hue=\"model\")\n",
    "plt.xlim(0, 1)"
   ]
  },
  {
   "cell_type": "markdown",
   "metadata": {},
   "source": [
    "# 2️⃣ Membership Inference Attacks"
   ]
  },
  {
   "cell_type": "markdown",
   "metadata": {},
   "source": [
    "As described in the Defining good paper, the membership inference attack involves:\n",
    "\n",
    "1. Train a discriminator that attempts to distinguish between synthetically generated data and the holdout set (real data but unseen during training of the generative model.)\n",
    "2. Create an 'attack dataset' that comprises of 1) Seen outliers during the training of the generative model 2) Unseen outliers but belonging to the same distribution to the seen outliers, and 3) Unseen outliers but belonging to a different distribution. A random guess would yield a precision of 33%.\n",
    "3. Use the trained discriminative model to predict on the attack dataset and report on the precision, and check that it is no better than random guess."
   ]
  },
  {
   "cell_type": "markdown",
   "metadata": {},
   "source": [
    "### 🏭 Create Membership Inference Attack Dataset"
   ]
  },
  {
   "cell_type": "code",
   "execution_count": 185,
   "metadata": {},
   "outputs": [
    {
     "name": "stderr",
     "output_type": "stream",
     "text": [
      "INFO:opensynth.datasets.low_carbon_london.preprocess_lcl:🎲 Generating unseen outliers with mean:0.2079 and mean_factor: 20.0000\n",
      "INFO:opensynth.datasets.low_carbon_london.preprocess_lcl:🎲 Generating unseen outliers with mean:0.0000 and mean_factor: 20.0000\n",
      "INFO:opensynth.datasets.low_carbon_london.preprocess_lcl:🎲 Generating unseen outliers with mean:0.2079 and mean_factor: 20.0000\n",
      "INFO:opensynth.datasets.low_carbon_london.preprocess_lcl:🎲 Generating unseen outliers with mean:0.0000 and mean_factor: 20.0000\n",
      "INFO:opensynth.datasets.low_carbon_london.preprocess_lcl:🎲 Generating unseen outliers with mean:0.2079 and mean_factor: 20.0000\n",
      "INFO:opensynth.datasets.low_carbon_london.preprocess_lcl:🎲 Generating unseen outliers with mean:0.0000 and mean_factor: 20.0000\n",
      "INFO:opensynth.datasets.low_carbon_london.preprocess_lcl:🎲 Generating unseen outliers with mean:0.2079 and mean_factor: 20.0000\n",
      "INFO:opensynth.datasets.low_carbon_london.preprocess_lcl:🎲 Generating unseen outliers with mean:0.0000 and mean_factor: 20.0000\n"
     ]
    }
   ],
   "source": [
    "from opensynth.evaluation.privacy import membership_inference_attack as mia\n",
    "import pytorch_lightning as pl\n",
    "\n",
    "dm_mia_faraday1500 = mia.MembershipInferenceDataModule(\n",
    "    model=faraday1500,\n",
    "    dm_train=dm_with_outliers,\n",
    "    dm_holdout=dm_holdout,\n",
    "    batch_size=5000\n",
    ")\n",
    "dm_mia_faraday1500.setup(\"\")\n",
    "\n",
    "dm_mia_faraday150 = mia.MembershipInferenceDataModule(\n",
    "    model=faraday150,\n",
    "    dm_train=dm_with_outliers,\n",
    "    dm_holdout=dm_holdout,\n",
    "    batch_size=5000\n",
    ")\n",
    "dm_mia_faraday150.setup(\"\")\n",
    "\n",
    "dm_mia_faraday50 = mia.MembershipInferenceDataModule(\n",
    "    model=faraday50,\n",
    "    dm_train=dm_with_outliers,\n",
    "    dm_holdout=dm_holdout,\n",
    "    batch_size=5000\n",
    ")\n",
    "dm_mia_faraday50.setup(\"\")\n",
    "\n",
    "dm_mia_faraday1 = mia.MembershipInferenceDataModule(\n",
    "    model=faraday1,\n",
    "    dm_train=dm_with_outliers,\n",
    "    dm_holdout=dm_holdout,\n",
    "    batch_size=5000\n",
    ")\n",
    "dm_mia_faraday1.setup(\"\")"
   ]
  },
  {
   "cell_type": "markdown",
   "metadata": {},
   "source": [
    "### 🤖 Train discriminator models"
   ]
  },
  {
   "cell_type": "markdown",
   "metadata": {},
   "source": [
    "#### GMM with 1500 Clusters"
   ]
  },
  {
   "cell_type": "code",
   "execution_count": 186,
   "metadata": {},
   "outputs": [
    {
     "name": "stderr",
     "output_type": "stream",
     "text": [
      "INFO:pytorch_lightning.utilities.rank_zero:GPU available: True (mps), used: True\n",
      "INFO:pytorch_lightning.utilities.rank_zero:TPU available: False, using: 0 TPU cores\n",
      "INFO:pytorch_lightning.utilities.rank_zero:HPU available: False, using: 0 HPUs\n",
      "INFO:pytorch_lightning.callbacks.model_summary:\n",
      "  | Name    | Type                      | Params | Mode \n",
      "--------------------------------------------------------------\n",
      "0 | loss_fn | BCEWithLogitsLoss         | 0      | train\n",
      "1 | model   | MembershipInferenceModule | 2.2 K  | train\n",
      "--------------------------------------------------------------\n",
      "2.2 K     Trainable params\n",
      "0         Non-trainable params\n",
      "2.2 K     Total params\n",
      "0.009     Total estimated model params size (MB)\n",
      "11        Modules in train mode\n",
      "0         Modules in eval mode\n"
     ]
    },
    {
     "name": "stdout",
     "output_type": "stream",
     "text": [
      "                                                                           "
     ]
    },
    {
     "name": "stderr",
     "output_type": "stream",
     "text": [
      "/Users/shengchai/.local/share/virtualenvs/OpenSynth-EhRIPYd3/lib/python3.11/site-packages/pytorch_lightning/trainer/connectors/data_connector.py:424: The 'val_dataloader' does not have many workers which may be a bottleneck. Consider increasing the value of the `num_workers` argument` to `num_workers=7` in the `DataLoader` to improve performance.\n",
      "/Users/shengchai/.local/share/virtualenvs/OpenSynth-EhRIPYd3/lib/python3.11/site-packages/pytorch_lightning/trainer/connectors/data_connector.py:424: The 'train_dataloader' does not have many workers which may be a bottleneck. Consider increasing the value of the `num_workers` argument` to `num_workers=7` in the `DataLoader` to improve performance.\n",
      "/Users/shengchai/.local/share/virtualenvs/OpenSynth-EhRIPYd3/lib/python3.11/site-packages/pytorch_lightning/loops/fit_loop.py:298: The number of training batches (6) is smaller than the logging interval Trainer(log_every_n_steps=50). Set a lower value for log_every_n_steps if you want to see logs for the training epoch.\n"
     ]
    },
    {
     "name": "stdout",
     "output_type": "stream",
     "text": [
      "Epoch 99: 100%|██████████| 6/6 [00:00<00:00, 30.72it/s, v_num=49, Eval BCE Loss=0.308, Eval Accuracy=0.879, Train BCE Loss=0.330, Train Accuracy=0.864]"
     ]
    },
    {
     "name": "stderr",
     "output_type": "stream",
     "text": [
      "INFO:pytorch_lightning.utilities.rank_zero:`Trainer.fit` stopped: `max_epochs=100` reached.\n"
     ]
    },
    {
     "name": "stdout",
     "output_type": "stream",
     "text": [
      "Epoch 99: 100%|██████████| 6/6 [00:00<00:00, 29.00it/s, v_num=49, Eval BCE Loss=0.308, Eval Accuracy=0.879, Train BCE Loss=0.330, Train Accuracy=0.864]\n"
     ]
    }
   ],
   "source": [
    "mia_model_faraday1500 = mia.MembershipInferenceModel(learning_rate=0.02, input_size=48)\n",
    "train_dl = dm_mia_faraday1500.train_dataloader()\n",
    "eval_dl = dm_mia_faraday1500.eval_dataloader()\n",
    "trainer = pl.Trainer(max_epochs=100, accelerator=\"auto\", strategy=\"auto\")\n",
    "trainer.fit(mia_model_faraday1500, train_dataloaders=train_dl, val_dataloaders=eval_dl)"
   ]
  },
  {
   "cell_type": "markdown",
   "metadata": {},
   "source": [
    "#### GMM with 150 Clusters"
   ]
  },
  {
   "cell_type": "code",
   "execution_count": 187,
   "metadata": {},
   "outputs": [
    {
     "name": "stderr",
     "output_type": "stream",
     "text": [
      "INFO:pytorch_lightning.utilities.rank_zero:GPU available: True (mps), used: True\n",
      "INFO:pytorch_lightning.utilities.rank_zero:TPU available: False, using: 0 TPU cores\n",
      "INFO:pytorch_lightning.utilities.rank_zero:HPU available: False, using: 0 HPUs\n",
      "INFO:pytorch_lightning.callbacks.model_summary:\n",
      "  | Name    | Type                      | Params | Mode \n",
      "--------------------------------------------------------------\n",
      "0 | loss_fn | BCEWithLogitsLoss         | 0      | train\n",
      "1 | model   | MembershipInferenceModule | 2.2 K  | train\n",
      "--------------------------------------------------------------\n",
      "2.2 K     Trainable params\n",
      "0         Non-trainable params\n",
      "2.2 K     Total params\n",
      "0.009     Total estimated model params size (MB)\n",
      "11        Modules in train mode\n",
      "0         Modules in eval mode\n"
     ]
    },
    {
     "name": "stdout",
     "output_type": "stream",
     "text": [
      "                                                                            "
     ]
    },
    {
     "name": "stderr",
     "output_type": "stream",
     "text": [
      "/Users/shengchai/.local/share/virtualenvs/OpenSynth-EhRIPYd3/lib/python3.11/site-packages/pytorch_lightning/trainer/connectors/data_connector.py:424: The 'val_dataloader' does not have many workers which may be a bottleneck. Consider increasing the value of the `num_workers` argument` to `num_workers=7` in the `DataLoader` to improve performance.\n",
      "/Users/shengchai/.local/share/virtualenvs/OpenSynth-EhRIPYd3/lib/python3.11/site-packages/pytorch_lightning/trainer/connectors/data_connector.py:424: The 'train_dataloader' does not have many workers which may be a bottleneck. Consider increasing the value of the `num_workers` argument` to `num_workers=7` in the `DataLoader` to improve performance.\n",
      "/Users/shengchai/.local/share/virtualenvs/OpenSynth-EhRIPYd3/lib/python3.11/site-packages/pytorch_lightning/loops/fit_loop.py:298: The number of training batches (5) is smaller than the logging interval Trainer(log_every_n_steps=50). Set a lower value for log_every_n_steps if you want to see logs for the training epoch.\n"
     ]
    },
    {
     "name": "stdout",
     "output_type": "stream",
     "text": [
      "Epoch 99: 100%|██████████| 5/5 [00:00<00:00, 31.92it/s, v_num=50, Eval BCE Loss=0.531, Eval Accuracy=0.798, Train BCE Loss=0.409, Train Accuracy=0.814]"
     ]
    },
    {
     "name": "stderr",
     "output_type": "stream",
     "text": [
      "INFO:pytorch_lightning.utilities.rank_zero:`Trainer.fit` stopped: `max_epochs=100` reached.\n"
     ]
    },
    {
     "name": "stdout",
     "output_type": "stream",
     "text": [
      "Epoch 99: 100%|██████████| 5/5 [00:00<00:00, 29.89it/s, v_num=50, Eval BCE Loss=0.531, Eval Accuracy=0.798, Train BCE Loss=0.409, Train Accuracy=0.814]\n"
     ]
    }
   ],
   "source": [
    "mia_model_faraday150 = mia.MembershipInferenceModel(learning_rate=0.02, input_size=48)\n",
    "train_dl = dm_mia_faraday150.train_dataloader()\n",
    "eval_dl = dm_mia_faraday150.eval_dataloader()\n",
    "trainer = pl.Trainer(max_epochs=100, accelerator=\"auto\", strategy=\"auto\")\n",
    "trainer.fit(mia_model_faraday150, train_dataloaders=train_dl, val_dataloaders=eval_dl)"
   ]
  },
  {
   "cell_type": "markdown",
   "metadata": {},
   "source": [
    "#### GMM with 50 Clusters"
   ]
  },
  {
   "cell_type": "code",
   "execution_count": 188,
   "metadata": {},
   "outputs": [
    {
     "name": "stderr",
     "output_type": "stream",
     "text": [
      "INFO:pytorch_lightning.utilities.rank_zero:GPU available: True (mps), used: True\n",
      "INFO:pytorch_lightning.utilities.rank_zero:TPU available: False, using: 0 TPU cores\n",
      "INFO:pytorch_lightning.utilities.rank_zero:HPU available: False, using: 0 HPUs\n",
      "INFO:pytorch_lightning.callbacks.model_summary:\n",
      "  | Name    | Type                      | Params | Mode \n",
      "--------------------------------------------------------------\n",
      "0 | loss_fn | BCEWithLogitsLoss         | 0      | train\n",
      "1 | model   | MembershipInferenceModule | 2.2 K  | train\n",
      "--------------------------------------------------------------\n",
      "2.2 K     Trainable params\n",
      "0         Non-trainable params\n",
      "2.2 K     Total params\n",
      "0.009     Total estimated model params size (MB)\n",
      "11        Modules in train mode\n",
      "0         Modules in eval mode\n"
     ]
    },
    {
     "name": "stdout",
     "output_type": "stream",
     "text": [
      "                                                                            "
     ]
    },
    {
     "name": "stderr",
     "output_type": "stream",
     "text": [
      "/Users/shengchai/.local/share/virtualenvs/OpenSynth-EhRIPYd3/lib/python3.11/site-packages/pytorch_lightning/trainer/connectors/data_connector.py:424: The 'val_dataloader' does not have many workers which may be a bottleneck. Consider increasing the value of the `num_workers` argument` to `num_workers=7` in the `DataLoader` to improve performance.\n",
      "/Users/shengchai/.local/share/virtualenvs/OpenSynth-EhRIPYd3/lib/python3.11/site-packages/pytorch_lightning/trainer/connectors/data_connector.py:424: The 'train_dataloader' does not have many workers which may be a bottleneck. Consider increasing the value of the `num_workers` argument` to `num_workers=7` in the `DataLoader` to improve performance.\n",
      "/Users/shengchai/.local/share/virtualenvs/OpenSynth-EhRIPYd3/lib/python3.11/site-packages/pytorch_lightning/loops/fit_loop.py:298: The number of training batches (5) is smaller than the logging interval Trainer(log_every_n_steps=50). Set a lower value for log_every_n_steps if you want to see logs for the training epoch.\n"
     ]
    },
    {
     "name": "stdout",
     "output_type": "stream",
     "text": [
      "Epoch 99: 100%|██████████| 5/5 [00:00<00:00, 33.42it/s, v_num=51, Eval BCE Loss=0.616, Eval Accuracy=0.799, Train BCE Loss=0.380, Train Accuracy=0.833]"
     ]
    },
    {
     "name": "stderr",
     "output_type": "stream",
     "text": [
      "INFO:pytorch_lightning.utilities.rank_zero:`Trainer.fit` stopped: `max_epochs=100` reached.\n"
     ]
    },
    {
     "name": "stdout",
     "output_type": "stream",
     "text": [
      "Epoch 99: 100%|██████████| 5/5 [00:00<00:00, 31.36it/s, v_num=51, Eval BCE Loss=0.616, Eval Accuracy=0.799, Train BCE Loss=0.380, Train Accuracy=0.833]\n"
     ]
    }
   ],
   "source": [
    "mia_model_faraday50 = mia.MembershipInferenceModel(learning_rate=0.02, input_size=48)\n",
    "train_dl = dm_mia_faraday50.train_dataloader()\n",
    "eval_dl = dm_mia_faraday50.eval_dataloader()\n",
    "trainer = pl.Trainer(max_epochs=100, accelerator=\"auto\", strategy=\"auto\")\n",
    "trainer.fit(mia_model_faraday50, train_dataloaders=train_dl, val_dataloaders=eval_dl)"
   ]
  },
  {
   "cell_type": "markdown",
   "metadata": {},
   "source": [
    "#### GMM with only 1 Cluster"
   ]
  },
  {
   "cell_type": "code",
   "execution_count": 129,
   "metadata": {},
   "outputs": [
    {
     "name": "stderr",
     "output_type": "stream",
     "text": [
      "INFO:pytorch_lightning.utilities.rank_zero:GPU available: True (mps), used: True\n",
      "INFO:pytorch_lightning.utilities.rank_zero:TPU available: False, using: 0 TPU cores\n",
      "INFO:pytorch_lightning.utilities.rank_zero:HPU available: False, using: 0 HPUs\n",
      "INFO:pytorch_lightning.callbacks.model_summary:\n",
      "  | Name    | Type                      | Params | Mode \n",
      "--------------------------------------------------------------\n",
      "0 | loss_fn | BCEWithLogitsLoss         | 0      | train\n",
      "1 | model   | MembershipInferenceModule | 2.2 K  | train\n",
      "--------------------------------------------------------------\n",
      "2.2 K     Trainable params\n",
      "0         Non-trainable params\n",
      "2.2 K     Total params\n",
      "0.009     Total estimated model params size (MB)\n",
      "11        Modules in train mode\n",
      "0         Modules in eval mode\n"
     ]
    },
    {
     "name": "stdout",
     "output_type": "stream",
     "text": [
      "                                                                            "
     ]
    },
    {
     "name": "stderr",
     "output_type": "stream",
     "text": [
      "/Users/shengchai/.local/share/virtualenvs/OpenSynth-EhRIPYd3/lib/python3.11/site-packages/pytorch_lightning/loops/fit_loop.py:298: The number of training batches (5) is smaller than the logging interval Trainer(log_every_n_steps=50). Set a lower value for log_every_n_steps if you want to see logs for the training epoch.\n"
     ]
    },
    {
     "name": "stdout",
     "output_type": "stream",
     "text": [
      "Epoch 99: 100%|██████████| 5/5 [00:00<00:00, 14.15it/s, v_num=48, Eval BCE Loss=0.356, Eval Accuracy=0.868, Train BCE Loss=0.300, Train Accuracy=0.875]"
     ]
    },
    {
     "name": "stderr",
     "output_type": "stream",
     "text": [
      "INFO:pytorch_lightning.utilities.rank_zero:`Trainer.fit` stopped: `max_epochs=100` reached.\n"
     ]
    },
    {
     "name": "stdout",
     "output_type": "stream",
     "text": [
      "Epoch 99: 100%|██████████| 5/5 [00:00<00:00, 13.76it/s, v_num=48, Eval BCE Loss=0.356, Eval Accuracy=0.868, Train BCE Loss=0.300, Train Accuracy=0.875]\n"
     ]
    }
   ],
   "source": [
    "mia_model_faraday1 = mia.MembershipInferenceModel(learning_rate=0.02, input_size=48)\n",
    "train_dl = dm_mia_faraday1.train_dataloader()\n",
    "eval_dl = dm_mia_faraday1.eval_dataloader()\n",
    "trainer = pl.Trainer(max_epochs=100, accelerator=\"auto\", strategy=\"auto\")\n",
    "trainer.fit(mia_model_faraday1, train_dataloaders=train_dl, val_dataloaders=eval_dl)"
   ]
  },
  {
   "cell_type": "markdown",
   "metadata": {},
   "source": [
    "### 🎯 Check Precision"
   ]
  },
  {
   "cell_type": "markdown",
   "metadata": {},
   "source": [
    "Results show that Faraday trained with 1500 and 150 GMM Clusters failed membership inference attacks, whilst 50 GMM Clusters and 1 GMM cluster passed. However we also see that 50 GMM cluster failed the reconstruction attack, hence it is not safe for release.\n",
    "\n",
    "In the `faraday_tutorial.ipynb` notebook, we also see that GMM with only 1 clusters is less accurate compared to 50, 150 and 1500 clusters. There is therefore a trade-off between privacy and fidelity. Perhaps there is a cluster between 1 and 50 that could meet both privacy and fidelity requirements."
   ]
  },
  {
   "cell_type": "code",
   "execution_count": 189,
   "metadata": {},
   "outputs": [
    {
     "name": "stdout",
     "output_type": "stream",
     "text": [
      "Segment: Precision: 0.41 +/- 0.06,\n",
      "F1: 0.41, Acc: 0.61,\n",
      "True Positives: 41,\n",
      "False Positive: 59,\n",
      "Total N: 300,\n",
      "Total Positive: 100,\n",
      "Random Precision : 0.33,\n"
     ]
    }
   ],
   "source": [
    "df_mia_results_faraday1500 = mia.get_mia_predictions(mia_model_faraday1500, dm_mia_faraday1500)\n",
    "mia.print_mia_results(df_mia_results_faraday1500)"
   ]
  },
  {
   "cell_type": "code",
   "execution_count": 190,
   "metadata": {},
   "outputs": [
    {
     "name": "stdout",
     "output_type": "stream",
     "text": [
      "Segment: Precision: 0.46 +/- 0.06,\n",
      "F1: 0.46, Acc: 0.64,\n",
      "True Positives: 46,\n",
      "False Positive: 54,\n",
      "Total N: 300,\n",
      "Total Positive: 100,\n",
      "Random Precision : 0.33,\n"
     ]
    }
   ],
   "source": [
    "df_mia_results_faraday150 = mia.get_mia_predictions(mia_model_faraday150, dm_mia_faraday150)\n",
    "mia.print_mia_results(df_mia_results_faraday150)"
   ]
  },
  {
   "cell_type": "code",
   "execution_count": 191,
   "metadata": {},
   "outputs": [
    {
     "name": "stdout",
     "output_type": "stream",
     "text": [
      "Segment: Precision: 0.26 +/- 0.05,\n",
      "F1: 0.26, Acc: 0.51,\n",
      "True Positives: 26,\n",
      "False Positive: 74,\n",
      "Total N: 300,\n",
      "Total Positive: 100,\n",
      "Random Precision : 0.33,\n"
     ]
    }
   ],
   "source": [
    "df_mia_results_faraday50 = mia.get_mia_predictions(mia_model_faraday50, dm_mia_faraday50)\n",
    "mia.print_mia_results(df_mia_results_faraday50)"
   ]
  },
  {
   "cell_type": "code",
   "execution_count": 192,
   "metadata": {},
   "outputs": [
    {
     "name": "stdout",
     "output_type": "stream",
     "text": [
      "Segment: Precision: 0.24 +/- 0.05,\n",
      "F1: 0.24, Acc: 0.49,\n",
      "True Positives: 24,\n",
      "False Positive: 76,\n",
      "Total N: 300,\n",
      "Total Positive: 100,\n",
      "Random Precision : 0.33,\n"
     ]
    }
   ],
   "source": [
    "df_mia_results_faraday1 = mia.get_mia_predictions(mia_model_faraday1, dm_mia_faraday1)\n",
    "mia.print_mia_results(df_mia_results_faraday1)"
   ]
  },
  {
   "cell_type": "markdown",
   "metadata": {},
   "source": [
    "#### Check MIA attack outlier distribution"
   ]
  },
  {
   "cell_type": "code",
   "execution_count": 132,
   "metadata": {},
   "outputs": [],
   "source": [
    "dfseen = dm_mia_faraday1500.attack_dataset.df.query(\"type=='seen'\")\n",
    "dfunseen_same = dm_mia_faraday1500.attack_dataset.df.query(\"type=='unseen_same'\")\n",
    "dfunseen_diff = dm_mia_faraday1500.attack_dataset.df.query(\"type=='unseen_diff'\")\n",
    "assert len(dfseen) == len(dfunseen_same) == len(dfunseen_diff) == 100"
   ]
  },
  {
   "cell_type": "code",
   "execution_count": 133,
   "metadata": {},
   "outputs": [],
   "source": [
    "seen_tensor = np.array(dfseen[\"tensors\"].tolist())\n",
    "unseen_same_tensor = np.array(dfunseen_same[\"tensors\"].tolist())\n",
    "unseen_diff_tensor = np.array(dfunseen_diff[\"tensors\"].tolist())\n",
    "\n",
    "tsne_input = np.concatenate([seen_tensor, unseen_same_tensor, unseen_diff_tensor])\n",
    "\n",
    "from sklearn.manifold import TSNE\n",
    "tsne = TSNE(n_components=2, random_state=0)\n",
    "tsne_output = tsne.fit_transform(tsne_input)"
   ]
  },
  {
   "cell_type": "code",
   "execution_count": 134,
   "metadata": {},
   "outputs": [
    {
     "data": {
      "text/plain": [
       "<matplotlib.legend.Legend at 0x339879cd0>"
      ]
     },
     "execution_count": 134,
     "metadata": {},
     "output_type": "execute_result"
    },
    {
     "data": {
      "image/png": "[encoded data removed]",
      "text/plain": [
       "<Figure size 640x480 with 1 Axes>"
      ]
     },
     "metadata": {},
     "output_type": "display_data"
    }
   ],
   "source": [
    "plt.scatter(tsne_output[:100, 0], tsne_output[:100, 1], label=\"Seen\")\n",
    "plt.scatter(tsne_output[100:200, 0], tsne_output[100:200, 1], label=\"Unseen (Same)\")\n",
    "plt.scatter(tsne_output[200:, 0], tsne_output[200:, 1], label=\"Unseen (Diff)\")\n",
    "plt.legend()"
   ]
  },
  {
   "cell_type": "code",
   "execution_count": 135,
   "metadata": {},
   "outputs": [
    {
     "data": {
      "text/plain": [
       "<matplotlib.legend.Legend at 0x39347a290>"
      ]
     },
     "execution_count": 135,
     "metadata": {},
     "output_type": "execute_result"
    },
    {
     "data": {
      "image/png": "[encoded data removed]",
      "text/plain": [
       "<Figure size 640x480 with 1 Axes>"
      ]
     },
     "metadata": {},
     "output_type": "display_data"
    }
   ],
   "source": [
    "from sklearn.decomposition import PCA\n",
    "pca = PCA(n_components=2)\n",
    "pca.fit(seen_tensor)\n",
    "\n",
    "seen_pca = pca.transform(seen_tensor)\n",
    "unseen_same_pca = pca.transform(unseen_same_tensor)\n",
    "unseen_diff_pca = pca.transform(unseen_diff_tensor)\n",
    "\n",
    "plt.scatter(seen_pca[:, 0], seen_pca[:, 1], label=\"Seen\")\n",
    "plt.scatter(unseen_same_pca[:, 0], unseen_same_pca[:, 1], label=\"Unseen (Same)\")\n",
    "plt.scatter(unseen_diff_pca[:, 0], unseen_diff_pca[:, 1], label=\"Unseen (Diff)\")\n",
    "plt.legend()"
   ]
  },
  {
   "cell_type": "code",
   "execution_count": null,
   "metadata": {},
   "outputs": [],
   "source": []
  },
  {
   "cell_type": "markdown",
   "metadata": {},
   "source": []
  }
 ],
 "metadata": {
  "kernelspec": {
   "display_name": "OpenSynth-EhRIPYd3",
   "language": "python",
   "name": "python3"
  },
  "language_info": {
   "codemirror_mode": {
    "name": "ipython",
    "version": 3
   },
   "file_extension": ".py",
   "mimetype": "text/x-python",
   "name": "python",
   "nbconvert_exporter": "python",
   "pygments_lexer": "ipython3",
   "version": "3.11.9"
  }
 },
 "nbformat": 4,
 "nbformat_minor": 2
}
