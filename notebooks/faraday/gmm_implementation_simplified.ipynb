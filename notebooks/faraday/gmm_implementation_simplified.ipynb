{
 "cells": [
  {
   "cell_type": "markdown",
   "metadata": {},
   "source": [
    "# Load Data"
   ]
  },
  {
   "cell_type": "code",
   "execution_count": 15,
   "metadata": {},
   "outputs": [],
   "source": [
    "from pathlib import Path\n",
    "from opensynth.data_modules.lcl_data_module import LCLDataModule\n",
    "import pytorch_lightning as pl\n",
    "\n",
    "import matplotlib.pyplot as plt\n",
    "\n",
    "data_path = Path(\"../../data/processed/historical/train/lcl_data.csv\")\n",
    "stats_path = Path(\"../../data/processed/historical/train/mean_std.csv\")\n",
    "outlier_path = Path(\"../../data/processed/historical/train/outliers.csv\")\n",
    "\n",
    "dm = LCLDataModule(data_path=data_path, stats_path=stats_path, batch_size=25000, n_samples=50000)\n",
    "dm.setup()"
   ]
  },
  {
   "cell_type": "code",
   "execution_count": 8,
   "metadata": {},
   "outputs": [
    {
     "name": "stderr",
     "output_type": "stream",
     "text": [
      "/var/folders/lj/tc13qh690297rzt9q9c3qdbm0000gn/T/ipykernel_57788/3246375714.py:3: FutureWarning: You are using `torch.load` with `weights_only=False` (the current default value), which uses the default pickle module implicitly. It is possible to construct malicious pickle data which will execute arbitrary code during unpickling (See https://github.com/pytorch/pytorch/blob/main/SECURITY.md#untrusted-models for more details). In a future release, the default value for `weights_only` will be flipped to `True`. This limits the functions that could be executed during unpickling. Arbitrary objects will no longer be allowed to be loaded via this mode unless they are explicitly allowlisted by the user via `torch.serialization.add_safe_globals`. We recommend you start setting `weights_only=True` for any use case where you don't have full control of the loaded file. Please open an issue on GitHub for any issues related to this experimental feature.\n",
      "  vae_model = torch.load(\"vae_model.pt\")\n"
     ]
    }
   ],
   "source": [
    "import torch\n",
    "from opensynth.models.faraday import FaradayVAE\n",
    "vae_model = torch.load(\"vae_model.pt\")"
   ]
  },
  {
   "cell_type": "code",
   "execution_count": 127,
   "metadata": {},
   "outputs": [],
   "source": [
    "from opensynth.models.faraday.gaussian_mixture.prepare_gmm_input import encode_data_for_gmm\n",
    "\n",
    "next_batch = next(iter(dm.train_dataloader()))\n",
    "input_tensor = encode_data_for_gmm(data=next_batch, vae_module=vae_model)\n",
    "input_data = input_tensor.detach().numpy()\n",
    "n_samples = len(input_tensor)"
   ]
  },
  {
   "cell_type": "markdown",
   "metadata": {},
   "source": [
    "# Init GMM"
   ]
  },
  {
   "cell_type": "code",
   "execution_count": 122,
   "metadata": {},
   "outputs": [],
   "source": [
    "import torch\n",
    "import numpy as np\n",
    "from sklearn.cluster import KMeans\n",
    "from torch.utils.data import DataLoader\n",
    "from opensynth.models.faraday import FaradayVAE\n",
    "\n",
    "def initialise_gmm(dataloader: DataLoader, vae_module: FaradayVAE, n_components: int, init_method: str = \"kmeans\", random_state: int = 0):\n",
    "    \n",
    "    # Get input\n",
    "    next_batch = next(iter(dataloader))\n",
    "    input_data = encode_data_for_gmm(data=next_batch, vae_module=vae_module).detach().numpy()\n",
    "    n_samples = len(input_data)\n",
    "    \n",
    "    if init_method == \"kmeans\":\n",
    "        kmeans_model = KMeans(n_clusters=n_components, random_state=random_state)\n",
    "        kmeans_model.fit(input_data)\n",
    "        labels = torch.from_numpy(kmeans_model.labels_)\n",
    "        means = torch.from_numpy(kmeans_model.cluster_centers_)\n",
    "        \n",
    "        responsibilities = np.zeros((n_samples, n_components))\n",
    "        responsibilities[np.arange(n_samples), labels] = 1\n",
    "        responsibilities = torch.from_numpy(responsibilities)\n",
    "        return labels, means, responsibilities\n",
    "    else:\n",
    "        raise NotImplementedError(\"Only kmeans is supported for now\")"
   ]
  },
  {
   "cell_type": "code",
   "execution_count": 184,
   "metadata": {},
   "outputs": [],
   "source": [
    "from scipy import linalg\n",
    "\n",
    "def sk_estimate_gaussian_parameters(X, means, resp, reg_covar):\n",
    "    nk = (\n",
    "        resp.sum(axis=0) + 10 * np.finfo(resp.dtype).eps\n",
    "    )  # This adds small white noise to avoid division by zero\n",
    "    means = means + 10 * np.finfo(resp.dtype).eps\n",
    "\n",
    "    n_components, n_features = means.shape\n",
    "    covariances = np.empty((n_components, n_features, n_features))\n",
    "    for k in range(n_components):\n",
    "        diff = X - means[k]\n",
    "        covariances[k] = np.dot(resp[:, k] * diff.T, diff) / nk[k]\n",
    "        covariances[k].flat[:: n_features + 1] += reg_covar\n",
    "\n",
    "    return nk, means, covariances\n",
    "\n",
    "\n",
    "def sk_compute_precision_cholesky(covariances):\n",
    "    estimate_precision_error_message = (\n",
    "        \"Fitting the mixture model failed because some components have \"\n",
    "        \"ill-defined empirical covariance (for instance caused by singleton \"\n",
    "        \"or collapsed samples). Try to decrease the number of components, \"\n",
    "        \"or increase reg_covar.\"\n",
    "    )\n",
    "\n",
    "    n_components, n_features, _ = covariances.shape\n",
    "    precisions_chol = np.empty((n_components, n_features, n_features))\n",
    "    for k, covariance in enumerate(covariances):\n",
    "        try:\n",
    "            cov_chol = linalg.cholesky(covariance, lower=True)\n",
    "        except linalg.LinAlgError:\n",
    "            raise ValueError(estimate_precision_error_message)\n",
    "        precisions_chol[k] = linalg.solve_triangular(\n",
    "            cov_chol, np.eye(n_features), lower=True\n",
    "        ).T\n",
    "\n",
    "    return precisions_chol"
   ]
  },
  {
   "cell_type": "code",
   "execution_count": 185,
   "metadata": {},
   "outputs": [],
   "source": [
    "labels_, means_, responsibilities_ = initialise_gmm(dm.train_dataloader(), vae_model, n_components=2)"
   ]
  },
  {
   "cell_type": "code",
   "execution_count": 251,
   "metadata": {},
   "outputs": [],
   "source": [
    "def torch_estimate_gaussian_parameters(X: torch.Tensor, responsibilities: torch.Tensor, means: torch.Tensor, reg_covar: float):\n",
    "    \"\"\"\n",
    "    Pytorch port of SK Learn's method to estimate gaussian parameters\n",
    "    link\n",
    "\n",
    "    Args:\n",
    "        X (torch.Tensor): Input data\n",
    "        responsibilities (torch.Tensor): Reponsibilities, i.e. 1-hot encoded tensor of each data and it's cluster label. \n",
    "        means (torch.Tensor): Coordinate of centroids\n",
    "        reg_covar (float): Covariance regularisor\n",
    "\n",
    "    Returns:\n",
    "        _type_: _description_\n",
    "    \"\"\"\n",
    "    n_components, n_features = means.shape\n",
    "    weights = responsibilities.sum(axis=0) + torch.finfo(responsibilities.dtype).eps\n",
    "    covariances = torch.empty((n_components, n_features, n_features))\n",
    "    # Avoid division by zero error\n",
    "    means_eps = means_ + torch.finfo(means.dtype).eps\n",
    "\n",
    "    for k in range(n_components):\n",
    "        diff = X - means_eps[k]\n",
    "        covariances[k] = torch.matmul(responsibilities_[:, k].float() * diff.T, diff) / weights[k]\n",
    "    \n",
    "    # Add small regularisation\n",
    "    covariances += reg_covar\n",
    "    return weights, covariances\n",
    "\n",
    "\n",
    "def torch_compute_precision_cholesky(covariances: torch.Tensor):\n",
    "    estimate_precision_error_message = (\n",
    "        \"Fitting the mixture model failed because some components have \"\n",
    "        \"ill-defined empirical covariance (for instance caused by singleton \"\n",
    "        \"or collapsed samples). Try to decrease the number of components, \"\n",
    "        \"or increase reg_covar.\"\n",
    "    )\n",
    "\n",
    "    n_components, n_features, _ = covariances.shape\n",
    "    precisions_chol = torch.empty((n_components, n_features, n_features))\n",
    "    for k, covariance in enumerate(covariances):\n",
    "        try:\n",
    "            cov_chol = torch.linalg.cholesky(covariance, upper=False)\n",
    "        except torch.linalg.LinAlgError:\n",
    "            raise ValueError(estimate_precision_error_message)\n",
    "        precisions_chol[k] = torch.linalg.solve_triangular(\n",
    "            cov_chol, torch.eye(n_features), upper = False\n",
    "        ).T\n",
    "    return precisions_chol"
   ]
  },
  {
   "cell_type": "code",
   "execution_count": 210,
   "metadata": {},
   "outputs": [],
   "source": [
    "sknk, skmeans, skcovars = sk_estimate_gaussian_parameters(input_data, responsibilities_.detach().numpy(), 1e-6)\n",
    "torch_weights, torch_covars = torch_estimate_gaussian_parameters(input_tensor, responsibilities_, means_, 1e-6)"
   ]
  },
  {
   "cell_type": "code",
   "execution_count": 252,
   "metadata": {},
   "outputs": [],
   "source": [
    "sk_precision_cholesky = sk_compute_precision_cholesky(skcovars)\n",
    "torch_precision_cholesky = torch_compute_precision_cholesky(torch_covars)"
   ]
  },
  {
   "cell_type": "code",
   "execution_count": 211,
   "metadata": {},
   "outputs": [
    {
     "data": {
      "text/plain": [
       "tensor([ 252.1244, -137.3482,  -14.4317,  -95.1547,   71.9191, -146.8477,\n",
       "         -72.0670, -109.0057,  -56.2617, -236.9324,  155.4083,  -47.3323,\n",
       "          41.4401,   31.5037,   23.1437, -109.2889,    8.4186,   -6.4330],\n",
       "       grad_fn=<SelectBackward0>)"
      ]
     },
     "execution_count": 211,
     "metadata": {},
     "output_type": "execute_result"
    }
   ],
   "source": [
    "torch_covars[0][0]"
   ]
  },
  {
   "cell_type": "code",
   "execution_count": 212,
   "metadata": {},
   "outputs": [
    {
     "data": {
      "text/plain": [
       "array([ 252.12438633, -137.34862861,  -14.43184656,  -95.15741666,\n",
       "         71.91888238, -146.84746139,  -72.06651698, -109.00537524,\n",
       "        -56.26219416, -236.93248741,  155.40830527,  -47.3335113 ,\n",
       "         41.44068616,   31.50417677,   23.14397379, -109.28911124,\n",
       "          8.41860832,   -6.43301864])"
      ]
     },
     "execution_count": 212,
     "metadata": {},
     "output_type": "execute_result"
    }
   ],
   "source": [
    "skcovars[0][0]"
   ]
  },
  {
   "cell_type": "code",
   "execution_count": 254,
   "metadata": {},
   "outputs": [
    {
     "data": {
      "text/plain": [
       "array([ 0.06297854,  0.05716094,  0.05703893,  0.09549221,  0.03216006,\n",
       "        0.25168734, -0.02355435, -0.15893924, -0.60385687, -0.04904175,\n",
       "       -0.22987771,  0.10108616, -0.83541574,  0.38884346, -0.35199873,\n",
       "        0.15953552,  0.10748288, -0.13349632])"
      ]
     },
     "execution_count": 254,
     "metadata": {},
     "output_type": "execute_result"
    }
   ],
   "source": [
    "sk_precision_cholesky[0][0]"
   ]
  },
  {
   "cell_type": "code",
   "execution_count": 255,
   "metadata": {},
   "outputs": [
    {
     "data": {
      "text/plain": [
       "tensor([ 0.0630,  0.0572,  0.0570,  0.0952,  0.0320,  0.2501, -0.0226, -0.1563,\n",
       "        -0.6052, -0.0482, -0.2303,  0.0977, -0.8269,  0.3978, -0.3384,  0.1544,\n",
       "         0.1112, -0.1292], grad_fn=<SelectBackward0>)"
      ]
     },
     "execution_count": 255,
     "metadata": {},
     "output_type": "execute_result"
    }
   ],
   "source": [
    "torch_precision_cholesky[0][0]"
   ]
  }
 ],
 "metadata": {
  "kernelspec": {
   "display_name": "OpenSynth-EhRIPYd3",
   "language": "python",
   "name": "python3"
  },
  "language_info": {
   "codemirror_mode": {
    "name": "ipython",
    "version": 3
   },
   "file_extension": ".py",
   "mimetype": "text/x-python",
   "name": "python",
   "nbconvert_exporter": "python",
   "pygments_lexer": "ipython3",
   "version": "3.11.9"
  }
 },
 "nbformat": 4,
 "nbformat_minor": 2
}
