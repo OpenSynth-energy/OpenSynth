{
 "cells": [
  {
   "cell_type": "code",
   "execution_count": 1,
   "metadata": {},
   "outputs": [],
   "source": [
    "%load_ext autoreload\n",
    "%autoreload 2"
   ]
  },
  {
   "cell_type": "code",
   "execution_count": 130,
   "metadata": {},
   "outputs": [],
   "source": [
    "import pandas as pd\n",
    "full_data = pd.read_csv(\"../../data/processed/historical/train/lcl_data.csv\")\n",
    "df_25K = full_data.sample(25000, random_state=0)\n",
    "df_25K.to_csv(\"../../data/processed/historical/train/lcl_data_25K.csv\", index=False)"
   ]
  },
  {
   "cell_type": "markdown",
   "metadata": {},
   "source": [
    "# Load Data"
   ]
  },
  {
   "cell_type": "code",
   "execution_count": 113,
   "metadata": {},
   "outputs": [],
   "source": [
    "import torch\n",
    "import numpy as np\n",
    "import random\n",
    "RANDOM_STATE = 0\n",
    "torch.manual_seed(RANDOM_STATE)\n",
    "torch.use_deterministic_algorithms(True)\n",
    "g = torch.Generator()\n",
    "g.manual_seed(RANDOM_STATE)\n",
    "\n",
    "def seed_worker(worker_id):\n",
    "    worker_seed = torch.initial_seed() % 2**32\n",
    "    np.random.seed(worker_seed)\n",
    "    random.seed(worker_seed)"
   ]
  },
  {
   "cell_type": "code",
   "execution_count": 3,
   "metadata": {},
   "outputs": [],
   "source": [
    "from pathlib import Path\n",
    "from opensynth.data_modules.lcl_data_module import LCLDataModule\n",
    "import pytorch_lightning as pl\n",
    "\n",
    "import matplotlib.pyplot as plt\n",
    "\n",
    "data_path = Path(\"../../data/processed/historical/train/lcl_data_25K.csv\")\n",
    "stats_path = Path(\"../../data/processed/historical/train/mean_std.csv\")\n",
    "outlier_path = Path(\"../../data/processed/historical/train/outliers.csv\")\n",
    "\n",
    "dm = LCLDataModule(data_path=data_path, stats_path=stats_path, batch_size=25000, n_samples=25000)\n",
    "dm.setup()"
   ]
  },
  {
   "cell_type": "code",
   "execution_count": 4,
   "metadata": {},
   "outputs": [
    {
     "name": "stderr",
     "output_type": "stream",
     "text": [
      "/var/folders/lj/tc13qh690297rzt9q9c3qdbm0000gn/T/ipykernel_13315/2311655816.py:3: FutureWarning: You are using `torch.load` with `weights_only=False` (the current default value), which uses the default pickle module implicitly. It is possible to construct malicious pickle data which will execute arbitrary code during unpickling (See https://github.com/pytorch/pytorch/blob/main/SECURITY.md#untrusted-models for more details). In a future release, the default value for `weights_only` will be flipped to `True`. This limits the functions that could be executed during unpickling. Arbitrary objects will no longer be allowed to be loaded via this mode unless they are explicitly allowlisted by the user via `torch.serialization.add_safe_globals`. We recommend you start setting `weights_only=True` for any use case where you don't have full control of the loaded file. Please open an issue on GitHub for any issues related to this experimental feature.\n",
      "  vae_model = torch.load(\"vae_model.pt\")\n"
     ]
    },
    {
     "data": {
      "text/plain": [
       "FaradayVAE(\n",
       "  (encoder): Encoder(\n",
       "    (encoder_layers): Sequential(\n",
       "      (0): Linear(in_features=50, out_features=512, bias=True)\n",
       "      (1): GELU(approximate='none')\n",
       "      (2): Linear(in_features=512, out_features=256, bias=True)\n",
       "      (3): GELU(approximate='none')\n",
       "      (4): Linear(in_features=256, out_features=128, bias=True)\n",
       "      (5): GELU(approximate='none')\n",
       "      (6): Linear(in_features=128, out_features=64, bias=True)\n",
       "      (7): GELU(approximate='none')\n",
       "      (8): Linear(in_features=64, out_features=32, bias=True)\n",
       "      (9): GELU(approximate='none')\n",
       "      (10): Linear(in_features=32, out_features=16, bias=True)\n",
       "    )\n",
       "  )\n",
       "  (decoder): Decoder(\n",
       "    (latent): Linear(in_features=18, out_features=16, bias=True)\n",
       "    (latent_activations): GELU(approximate='none')\n",
       "    (decoder_layers): Sequential(\n",
       "      (0): Linear(in_features=16, out_features=32, bias=True)\n",
       "      (1): GELU(approximate='none')\n",
       "      (2): Linear(in_features=32, out_features=64, bias=True)\n",
       "      (3): GELU(approximate='none')\n",
       "      (4): Linear(in_features=64, out_features=128, bias=True)\n",
       "      (5): GELU(approximate='none')\n",
       "      (6): Linear(in_features=128, out_features=256, bias=True)\n",
       "      (7): GELU(approximate='none')\n",
       "      (8): Linear(in_features=256, out_features=512, bias=True)\n",
       "      (9): GELU(approximate='none')\n",
       "      (10): Linear(in_features=512, out_features=48, bias=True)\n",
       "    )\n",
       "  )\n",
       "  (reparametriser): ReparametrisationModule(\n",
       "    (mean): Linear(in_features=16, out_features=16, bias=True)\n",
       "    (logvar): Linear(in_features=16, out_features=16, bias=True)\n",
       "  )\n",
       ")"
      ]
     },
     "execution_count": 4,
     "metadata": {},
     "output_type": "execute_result"
    }
   ],
   "source": [
    "import torch\n",
    "from opensynth.models.faraday import FaradayVAE\n",
    "vae_model = torch.load(\"vae_model.pt\")\n",
    "vae_model.eval()"
   ]
  },
  {
   "cell_type": "code",
   "execution_count": 5,
   "metadata": {},
   "outputs": [],
   "source": [
    "from opensynth.models.faraday.gaussian_mixture.prepare_gmm_input import encode_data_for_gmm\n",
    "\n",
    "next_batch = next(iter(dm.train_dataloader()))\n",
    "input_tensor = encode_data_for_gmm(data=next_batch, vae_module=vae_model)\n",
    "input_data = input_tensor.detach().numpy()\n",
    "n_samples = len(input_tensor)"
   ]
  },
  {
   "cell_type": "code",
   "execution_count": 136,
   "metadata": {},
   "outputs": [],
   "source": [
    "N_COMPONENTS = 250\n",
    "REG_COVAR = 1e-4\n",
    "EPOCHS = 25\n",
    "IDX = 0\n"
   ]
  },
  {
   "cell_type": "code",
   "execution_count": 137,
   "metadata": {},
   "outputs": [
    {
     "data": {
      "text/plain": [
       "tensor(-0.9579, grad_fn=<SelectBackward0>)"
      ]
     },
     "execution_count": 137,
     "metadata": {},
     "output_type": "execute_result"
    }
   ],
   "source": [
    "input_tensor[0][0]"
   ]
  },
  {
   "cell_type": "markdown",
   "metadata": {},
   "source": [
    "# Init GMM"
   ]
  },
  {
   "cell_type": "code",
   "execution_count": 138,
   "metadata": {},
   "outputs": [
    {
     "name": "stdout",
     "output_type": "stream",
     "text": [
      "torch.float32 torch.float32 torch.float32\n"
     ]
    }
   ],
   "source": [
    "from opensynth.models.faraday.new_gmm import gmm_utils\n",
    "\n",
    "labels_, means_, responsibilities_ = gmm_utils.initialise_centroids(\n",
    "        X=input_data, n_components=N_COMPONENTS\n",
    "    )\n",
    "print(labels_.dtype, responsibilities_.dtype, means_.dtype)"
   ]
  },
  {
   "cell_type": "code",
   "execution_count": 139,
   "metadata": {},
   "outputs": [
    {
     "name": "stdout",
     "output_type": "stream",
     "text": [
      "tensor(1.4373)\n",
      "tensor(1.)\n"
     ]
    }
   ],
   "source": [
    "from opensynth.models.faraday.new_gmm.train_gmm import initialise_gmm_params\n",
    "\n",
    "gmm_init_params = initialise_gmm_params(\n",
    "    X=input_data,\n",
    "    n_components = N_COMPONENTS,\n",
    "    reg_covar=REG_COVAR,\n",
    ")\n",
    "print(gmm_init_params[\"precision_cholesky\"][IDX][0][0])\n",
    "print(gmm_init_params[\"weights\"].sum())"
   ]
  },
  {
   "cell_type": "code",
   "execution_count": 140,
   "metadata": {},
   "outputs": [
    {
     "name": "stderr",
     "output_type": "stream",
     "text": [
      "100%|██████████| 25/25 [00:08<00:00,  2.91it/s]\n"
     ]
    }
   ],
   "source": [
    "from opensynth.models.faraday.new_gmm.train_gmm import initialise_gmm_params, training_loop\n",
    "from opensynth.models.faraday.new_gmm.new_gmm_model import GaussianMixtureModel\n",
    "\n",
    "\n",
    "gmm_init_params = initialise_gmm_params(\n",
    "    X=input_data,\n",
    "    n_components = N_COMPONENTS,\n",
    "    reg_covar=REG_COVAR,\n",
    ")\n",
    "torch_gmm = GaussianMixtureModel(\n",
    "    num_components=N_COMPONENTS,\n",
    "    num_features = input_data.shape[1],\n",
    "    reg_covar=REG_COVAR,\n",
    "    print_idx=IDX\n",
    ")\n",
    "torch_gmm.initialise(gmm_init_params)\n",
    "trained_model = training_loop(model=torch_gmm, data=input_tensor, max_iter=EPOCHS)"
   ]
  },
  {
   "cell_type": "markdown",
   "metadata": {},
   "source": [
    "# SK Learn GMM Manual"
   ]
  },
  {
   "cell_type": "code",
   "execution_count": 141,
   "metadata": {},
   "outputs": [],
   "source": [
    "import numpy as np\n",
    "from scipy.special import logsumexp\n",
    "from scipy import linalg\n",
    "\n",
    "def _estimate_gaussian_parameters(X, resp, reg_covar=REG_COVAR):\n",
    "    nk = resp.sum(axis=0) + 10 * np.finfo(resp.dtype).eps\n",
    "    means = np.dot(resp.T, X) / nk[:, np.newaxis]\n",
    "    n_components, n_features = means.shape\n",
    "    covariances = np.empty((n_components, n_features, n_features))\n",
    "    for k in range(n_components):\n",
    "        diff = X - means[k]\n",
    "        covariances[k] = np.dot(resp[:, k] * diff.T, diff) / nk[k]\n",
    "        covariances[k].flat[:: n_features + 1] += reg_covar\n",
    "    return nk, means, covariances\n",
    "\n",
    "def _compute_precision_cholesky(covariances):\n",
    "    estimate_precision_error_message = (\n",
    "        \"Fitting the mixture model failed because some components have \"\n",
    "        \"ill-defined empirical covariance (for instance caused by singleton \"\n",
    "        \"or collapsed samples). Try to decrease the number of components, \"\n",
    "        \"or increase reg_covar.\"\n",
    "    )\n",
    "\n",
    "    n_components, n_features, _ = covariances.shape\n",
    "    precisions_chol = np.empty((n_components, n_features, n_features))\n",
    "    for k, covariance in enumerate(covariances):\n",
    "        try:\n",
    "            cov_chol = linalg.cholesky(covariance, lower=True)\n",
    "        except linalg.LinAlgError:\n",
    "            raise ValueError(estimate_precision_error_message)\n",
    "        precisions_chol[k] = linalg.solve_triangular(\n",
    "            cov_chol, np.eye(n_features), lower=True\n",
    "        ).T\n",
    "    return precisions_chol\n",
    "\n",
    "def _compute_log_det_cholesky(matrix_chol, n_features):\n",
    "    n_components, _, _ = matrix_chol.shape\n",
    "    log_det_chol = np.sum(\n",
    "        np.log(matrix_chol.reshape(n_components, -1)[:, :: n_features + 1]), 1\n",
    "    )\n",
    "    return log_det_chol\n",
    "\n",
    "def _estimate_log_gaussian_prob(X, means, precisions_chol):\n",
    "    n_samples, n_features = X.shape\n",
    "    n_components, _ = means.shape\n",
    "\n",
    "    log_det = _compute_log_det_cholesky(precisions_chol, n_features)\n",
    "\n",
    "    log_prob = np.empty((n_samples, n_components))\n",
    "    for k, (mu, prec_chol) in enumerate(zip(means, precisions_chol)):\n",
    "        y = np.dot(X, prec_chol) - np.dot(mu, prec_chol)\n",
    "        log_prob[:, k] = np.sum(np.square(y), axis=1)\n",
    "    return -0.5 * (n_features * np.log(2 * np.pi) + log_prob) + log_det\n",
    "\n",
    "def _estimate_log_weights(weights):\n",
    "        return np.log(weights)\n",
    "\n",
    "def _estimate_weighted_log_prob(X, means, precisions_chol, weights):\n",
    "        return _estimate_log_gaussian_prob(X, means, precisions_chol) + _estimate_log_weights(weights)\n",
    "\n",
    "\n",
    "def _estimate_log_prob_resp(X, means, precisions_chol, weights):\n",
    "    weighted_log_prob = _estimate_weighted_log_prob(X, means, precisions_chol, weights)\n",
    "    log_prob_norm = logsumexp(weighted_log_prob, axis=1)\n",
    "    with np.errstate(under=\"ignore\"):\n",
    "        log_resp = weighted_log_prob - log_prob_norm[:, np.newaxis]\n",
    "    return log_prob_norm, log_resp\n",
    "\n",
    "def _e_step(X,means, precisions_chol, weights):\n",
    "    log_prob_norm, log_resp = _estimate_log_prob_resp(X, means, precisions_chol, weights)\n",
    "    return np.mean(log_prob_norm), log_resp\n",
    "\n",
    "def _m_step(X, log_reponsibilities, reg_covar=REG_COVAR):\n",
    "\n",
    "    weights_, means_, covariances_ = _estimate_gaussian_parameters(X,np.exp(log_reponsibilities),reg_covar=reg_covar)\n",
    "\n",
    "    precision_cholesky_ = _compute_precision_cholesky(covariances=covariances_)\n",
    "\n",
    "    return precision_cholesky_, weights_, means_"
   ]
  },
  {
   "cell_type": "code",
   "execution_count": 142,
   "metadata": {},
   "outputs": [
    {
     "name": "stdout",
     "output_type": "stream",
     "text": [
      "Initial prec chol: 1.437282919883728. Initial mean: -0.6032145619392395\n",
      "Old Prec Chol: 1.437282919883728. Old means: -0.6032145619392395\n",
      "New prec chol: 1.356676582448056. New means: -0.6564950422496009\n",
      "Old Prec Chol: 1.356676582448056. Old means: -0.6564950422496009\n",
      "New prec chol: 1.343302477406987. New means: -0.7412085299427853\n",
      "Old Prec Chol: 1.343302477406987. Old means: -0.7412085299427853\n",
      "New prec chol: 1.3766638852839175. New means: -0.8058698654684163\n",
      "Old Prec Chol: 1.3766638852839175. Old means: -0.8058698654684163\n",
      "New prec chol: 1.4099579201898764. New means: -0.8480703891338682\n",
      "Old Prec Chol: 1.4099579201898764. Old means: -0.8480703891338682\n",
      "New prec chol: 1.4122963005953943. New means: -0.8940405435380274\n",
      "Old Prec Chol: 1.4122963005953943. Old means: -0.8940405435380274\n",
      "New prec chol: 1.4044184574059342. New means: -0.9452993465093517\n",
      "Old Prec Chol: 1.4044184574059342. Old means: -0.9452993465093517\n",
      "New prec chol: 1.4028725597386835. New means: -0.99117607471704\n",
      "Old Prec Chol: 1.4028725597386835. Old means: -0.99117607471704\n",
      "New prec chol: 1.406788999693226. New means: -1.0296583152064733\n",
      "Old Prec Chol: 1.406788999693226. Old means: -1.0296583152064733\n",
      "New prec chol: 1.4165626960128905. New means: -1.0541033709303296\n",
      "Old Prec Chol: 1.4165626960128905. Old means: -1.0541033709303296\n",
      "New prec chol: 1.423493300667513. New means: -1.0675855201176114\n",
      "Old Prec Chol: 1.423493300667513. Old means: -1.0675855201176114\n",
      "New prec chol: 1.431285195349389. New means: -1.081421912047245\n",
      "Old Prec Chol: 1.431285195349389. Old means: -1.081421912047245\n",
      "New prec chol: 1.4438051931399138. New means: -1.098674872330175\n",
      "Old Prec Chol: 1.4438051931399138. Old means: -1.098674872330175\n",
      "New prec chol: 1.4476428892187472. New means: -1.1132236461974039\n",
      "Old Prec Chol: 1.4476428892187472. Old means: -1.1132236461974039\n",
      "New prec chol: 1.4385062275243268. New means: -1.1284443355471643\n",
      "Old Prec Chol: 1.4385062275243268. Old means: -1.1284443355471643\n",
      "New prec chol: 1.4269445012900484. New means: -1.1444730105546972\n",
      "Old Prec Chol: 1.4269445012900484. Old means: -1.1444730105546972\n",
      "New prec chol: 1.4214340270754229. New means: -1.156942418136335\n",
      "Old Prec Chol: 1.4214340270754229. Old means: -1.156942418136335\n",
      "New prec chol: 1.4185346915987123. New means: -1.1655055737678561\n",
      "Old Prec Chol: 1.4185346915987123. Old means: -1.1655055737678561\n",
      "New prec chol: 1.4181977037287685. New means: -1.1715038100255604\n",
      "Old Prec Chol: 1.4181977037287685. Old means: -1.1715038100255604\n",
      "New prec chol: 1.4201158167368486. New means: -1.1768185123330954\n",
      "Old Prec Chol: 1.4201158167368486. Old means: -1.1768185123330954\n",
      "New prec chol: 1.4235724016861797. New means: -1.1823371880111266\n",
      "Old Prec Chol: 1.4235724016861797. Old means: -1.1823371880111266\n",
      "New prec chol: 1.4282619101079608. New means: -1.187922567389307\n",
      "Old Prec Chol: 1.4282619101079608. Old means: -1.187922567389307\n",
      "New prec chol: 1.433049478409663. New means: -1.193330680861523\n",
      "Old Prec Chol: 1.433049478409663. Old means: -1.193330680861523\n",
      "New prec chol: 1.4368071151359072. New means: -1.1982077514503704\n",
      "Old Prec Chol: 1.4368071151359072. Old means: -1.1982077514503704\n",
      "New prec chol: 1.43982410362997. New means: -1.2025073595200984\n",
      "Old Prec Chol: 1.43982410362997. Old means: -1.2025073595200984\n",
      "New prec chol: 1.4412035973036763. New means: -1.2061692077106336\n"
     ]
    }
   ],
   "source": [
    "means = gmm_init_params[\"means\"].detach().numpy()\n",
    "weights = gmm_init_params[\"weights\"].detach().numpy()\n",
    "prec_chol = gmm_init_params[\"precision_cholesky\"].detach().numpy()\n",
    "\n",
    "print(f\"Initial prec chol: {prec_chol[IDX][0][0]}. Initial mean: {means[IDX][0]}\")\n",
    "\n",
    "for i in range(EPOCHS):\n",
    "    print(f\"Old Prec Chol: {prec_chol[IDX][0][0]}. Old means: {means[IDX][0]}\")\n",
    "    log_prob, log_resp = _e_step(input_data, means, prec_chol, weights)\n",
    "    prec_chol, weights, means = _m_step(input_data, log_resp)\n",
    "    print(f\"New prec chol: {prec_chol[IDX][0][0]}. New means: {means[IDX][0]}\")"
   ]
  },
  {
   "cell_type": "markdown",
   "metadata": {},
   "source": [
    "# SK Learn GMM Epoch"
   ]
  },
  {
   "cell_type": "code",
   "execution_count": 143,
   "metadata": {},
   "outputs": [
    {
     "name": "stderr",
     "output_type": "stream",
     "text": [
      "/Users/shengchai/.local/share/virtualenvs/OpenSynth-EhRIPYd3/lib/python3.11/site-packages/sklearn/mixture/_base.py:270: ConvergenceWarning: Best performing initialization did not converge. Try different init parameters, or increase max_iter, tol, or check for degenerate data.\n",
      "  warnings.warn(\n"
     ]
    }
   ],
   "source": [
    "from sklearn.mixture import GaussianMixture\n",
    "\n",
    "init_weights = gmm_init_params[\"weights\"]\n",
    "init_means = gmm_init_params[\"means\"]\n",
    "\n",
    "skgmm = GaussianMixture(n_components=N_COMPONENTS, covariance_type='full', max_iter=EPOCHS, random_state=0, means_init = init_means, weights_init=init_weights)\n",
    "skgmm.fit(input_data)\n",
    "skgmm_pred = skgmm.predict(input_data)"
   ]
  },
  {
   "cell_type": "markdown",
   "metadata": {},
   "source": [
    "# Torch Lightning"
   ]
  },
  {
   "cell_type": "code",
   "execution_count": 144,
   "metadata": {},
   "outputs": [],
   "source": [
    "from torch.utils.data import Dataset, DataLoader\n",
    "from pytorch_lightning import LightningDataModule\n",
    "class CustomDataset(Dataset):\n",
    "    def __init__(self, data_tensor: torch.Tensor):\n",
    "        self.data = data_tensor\n",
    "    def __len__(self):\n",
    "        return len(self.data)\n",
    "    def __getitem__(self, idx):\n",
    "        return self.data[idx]\n",
    "    \n",
    "class CustomDataModule(LightningDataModule):\n",
    "    def __init__(self, data_tensor: torch.Tensor, batch_size: int):\n",
    "        super().__init__()\n",
    "        self.data_tensor = data_tensor\n",
    "        self.batch_size = batch_size\n",
    "    def setup(self, stage=\"\"):\n",
    "        self.custom_ds = CustomDataset(self.data_tensor)\n",
    "    def train_dataloader(self):\n",
    "        return DataLoader(self.custom_ds, batch_size=self.batch_size, shuffle=False, generator=g, worker_init_fn=seed_worker)\n",
    "    \n",
    "custom_dm = CustomDataModule(data_tensor=input_tensor, batch_size=25000)\n",
    "custom_dm.setup(stage=\"\")"
   ]
  },
  {
   "cell_type": "code",
   "execution_count": 145,
   "metadata": {},
   "outputs": [
    {
     "name": "stdout",
     "output_type": "stream",
     "text": [
      "tensor(-0.9579, grad_fn=<SelectBackward0>)\n",
      "tensor(-0.9579, grad_fn=<SelectBackward0>)\n",
      "tensor(-0.9579, grad_fn=<SelectBackward0>)\n",
      "tensor(-0.9579, grad_fn=<SelectBackward0>)\n",
      "tensor(-0.9579, grad_fn=<SelectBackward0>)\n"
     ]
    }
   ],
   "source": [
    "\n",
    "for i in range(5):\n",
    "    print(next(iter(custom_dm.train_dataloader()))[0][0])"
   ]
  },
  {
   "cell_type": "code",
   "execution_count": 146,
   "metadata": {},
   "outputs": [
    {
     "name": "stderr",
     "output_type": "stream",
     "text": [
      "GPU available: True (mps), used: False\n",
      "TPU available: False, using: 0 TPU cores\n",
      "HPU available: False, using: 0 HPUs\n",
      "/Users/shengchai/.local/share/virtualenvs/OpenSynth-EhRIPYd3/lib/python3.11/site-packages/pytorch_lightning/trainer/setup.py:177: GPU available but not used. You can set it by doing `Trainer(accelerator='gpu')`.\n",
      "/Users/shengchai/.local/share/virtualenvs/OpenSynth-EhRIPYd3/lib/python3.11/site-packages/pytorch_lightning/core/optimizer.py:182: `LightningModule.configure_optimizers` returned `None`, this fit will run with no optimizer\n",
      "\n",
      "  | Name       | Type                 | Params | Mode \n",
      "------------------------------------------------------------\n",
      "0 | gmm_module | GaussianMixtureModel | 0      | train\n",
      "1 | vae_module | FaradayVAE           | 402 K  | eval \n",
      "------------------------------------------------------------\n",
      "402 K     Trainable params\n",
      "0         Non-trainable params\n",
      "402 K     Total params\n",
      "1.609     Total estimated model params size (MB)\n",
      "1         Modules in train mode\n",
      "32        Modules in eval mode\n",
      "/Users/shengchai/.local/share/virtualenvs/OpenSynth-EhRIPYd3/lib/python3.11/site-packages/pytorch_lightning/trainer/connectors/data_connector.py:424: The 'train_dataloader' does not have many workers which may be a bottleneck. Consider increasing the value of the `num_workers` argument` to `num_workers=7` in the `DataLoader` to improve performance.\n",
      "/Users/shengchai/.local/share/virtualenvs/OpenSynth-EhRIPYd3/lib/python3.11/site-packages/pytorch_lightning/loops/fit_loop.py:298: The number of training batches (1) is smaller than the logging interval Trainer(log_every_n_steps=50). Set a lower value for log_every_n_steps if you want to see logs for the training epoch.\n"
     ]
    },
    {
     "name": "stdout",
     "output_type": "stream",
     "text": [
      "Epoch 0:   0%|          | 0/1 [00:00<?, ?it/s] Encoded batch: -0.9578906893730164, Means: -0.6564921736717224\n",
      "Epoch 1:   0%|          | 0/1 [00:00<?, ?it/s, v_num=142]        Encoded batch: -0.9578906893730164, Means: -0.7386166453361511\n",
      "Epoch 2:   0%|          | 0/1 [00:00<?, ?it/s, v_num=142]        Encoded batch: -0.9578906893730164, Means: -0.8044306039810181\n",
      "Epoch 3:   0%|          | 0/1 [00:00<?, ?it/s, v_num=142]        Encoded batch: -0.9578906893730164, Means: -0.8460958003997803\n",
      "Epoch 4:   0%|          | 0/1 [00:00<?, ?it/s, v_num=142]        Encoded batch: -0.9578906893730164, Means: -0.8952543139457703\n",
      "Epoch 5:   0%|          | 0/1 [00:00<?, ?it/s, v_num=142]        Encoded batch: -0.9578906893730164, Means: -0.9427421689033508\n",
      "Epoch 6:   0%|          | 0/1 [00:00<?, ?it/s, v_num=142]        Encoded batch: -0.9578906893730164, Means: -0.9695971012115479\n",
      "Epoch 7:   0%|          | 0/1 [00:00<?, ?it/s, v_num=142]        Encoded batch: -0.9578906893730164, Means: -0.9906909465789795\n",
      "Epoch 8:   0%|          | 0/1 [00:00<?, ?it/s, v_num=142]        Encoded batch: -0.9578906893730164, Means: -1.0022488832473755\n",
      "Epoch 9:   0%|          | 0/1 [00:00<?, ?it/s, v_num=142]        Encoded batch: -0.9578906893730164, Means: -1.0124491453170776\n",
      "Epoch 10:   0%|          | 0/1 [00:00<?, ?it/s, v_num=142]       Encoded batch: -0.9578906893730164, Means: -1.027382731437683\n",
      "Epoch 11:   0%|          | 0/1 [00:00<?, ?it/s, v_num=142]        Encoded batch: -0.9578906893730164, Means: -1.0495071411132812\n",
      "Epoch 12:   0%|          | 0/1 [00:00<?, ?it/s, v_num=142]        Encoded batch: -0.9578906893730164, Means: -1.0699790716171265\n",
      "Epoch 13:   0%|          | 0/1 [00:00<?, ?it/s, v_num=142]        Encoded batch: -0.9578906893730164, Means: -1.086930751800537\n",
      "Epoch 14:   0%|          | 0/1 [00:00<?, ?it/s, v_num=142]        Encoded batch: -0.9578906893730164, Means: -1.1016663312911987\n",
      "Epoch 15:   0%|          | 0/1 [00:00<?, ?it/s, v_num=142]        Encoded batch: -0.9578906893730164, Means: -1.1136500835418701\n",
      "Epoch 16:   0%|          | 0/1 [00:00<?, ?it/s, v_num=142]        Encoded batch: -0.9578906893730164, Means: -1.1248500347137451\n",
      "Epoch 17:   0%|          | 0/1 [00:00<?, ?it/s, v_num=142]        Encoded batch: -0.9578906893730164, Means: -1.1350464820861816\n",
      "Epoch 18:   0%|          | 0/1 [00:00<?, ?it/s, v_num=142]        Encoded batch: -0.9578906893730164, Means: -1.143317461013794\n",
      "Epoch 19:   0%|          | 0/1 [00:00<?, ?it/s, v_num=142]        Encoded batch: -0.9578906893730164, Means: -1.150623083114624\n",
      "Epoch 20:   0%|          | 0/1 [00:00<?, ?it/s, v_num=142]        Encoded batch: -0.9578906893730164, Means: -1.1579476594924927\n",
      "Epoch 21:   0%|          | 0/1 [00:00<?, ?it/s, v_num=142]        Encoded batch: -0.9578906893730164, Means: -1.1652151346206665\n",
      "Epoch 22:   0%|          | 0/1 [00:00<?, ?it/s, v_num=142]        Encoded batch: -0.9578906893730164, Means: -1.169773817062378\n",
      "Epoch 23:   0%|          | 0/1 [00:00<?, ?it/s, v_num=142]        Encoded batch: -0.9578906893730164, Means: -1.170084834098816\n",
      "Epoch 24:   0%|          | 0/1 [00:00<?, ?it/s, v_num=142]        Encoded batch: -0.9578906893730164, Means: -1.169291377067566\n",
      "Epoch 24: 100%|██████████| 1/1 [00:00<00:00,  2.04it/s, v_num=142]"
     ]
    },
    {
     "name": "stderr",
     "output_type": "stream",
     "text": [
      "`Trainer.fit` stopped: `max_epochs=25` reached.\n"
     ]
    },
    {
     "name": "stdout",
     "output_type": "stream",
     "text": [
      "Epoch 24: 100%|██████████| 1/1 [00:00<00:00,  2.03it/s, v_num=142]\n"
     ]
    }
   ],
   "source": [
    "from opensynth.models.faraday.new_gmm.new_gmm_model import GaussianMixtureLightningModule\n",
    "gmm_module = GaussianMixtureModel(\n",
    "    num_components=N_COMPONENTS,\n",
    "    num_features = input_data.shape[1],\n",
    "    reg_covar=REG_COVAR,\n",
    "    print_idx=IDX\n",
    ")\n",
    "gmm_module.initialise(gmm_init_params)\n",
    "gmm_lightning_module = GaussianMixtureLightningModule(\n",
    "    gmm_module = gmm_module,\n",
    "    vae_module = vae_model,\n",
    "    num_components = gmm_module.num_components,\n",
    "    num_features = gmm_module.num_features,\n",
    "    reg_covar = gmm_module.reg_covar\n",
    ")\n",
    "trainer = pl.Trainer(max_epochs=EPOCHS, accelerator=\"cpu\", deterministic=True )\n",
    "trainer.fit(gmm_lightning_module, custom_dm)"
   ]
  },
  {
   "cell_type": "markdown",
   "metadata": {},
   "source": [
    "# Compare"
   ]
  },
  {
   "cell_type": "code",
   "execution_count": 147,
   "metadata": {},
   "outputs": [],
   "source": [
    "IDX = 0"
   ]
  },
  {
   "cell_type": "code",
   "execution_count": 148,
   "metadata": {},
   "outputs": [
    {
     "data": {
      "text/plain": [
       "array([-1.19060958, -0.79441805,  0.27555317,  1.34464671, -1.19341921,\n",
       "        0.10304883, -1.36962645,  0.08209358,  0.0601619 ,  0.83084592,\n",
       "        0.06280524, -2.08669226, -0.60351705,  0.39965105, -3.02037693,\n",
       "        1.20683265,  6.60475729,  3.06455994])"
      ]
     },
     "execution_count": 148,
     "metadata": {},
     "output_type": "execute_result"
    }
   ],
   "source": [
    "skgmm.means_[IDX]"
   ]
  },
  {
   "cell_type": "code",
   "execution_count": 149,
   "metadata": {},
   "outputs": [
    {
     "data": {
      "text/plain": [
       "tensor([-1.1693, -0.8049,  0.2451,  1.3079, -1.1542,  0.1425, -1.3464,  0.1067,\n",
       "         0.0589,  0.8564,  0.0671, -2.0898, -0.5871,  0.3574, -3.0001,  1.1950,\n",
       "         6.7255,  3.0230])"
      ]
     },
     "execution_count": 149,
     "metadata": {},
     "output_type": "execute_result"
    }
   ],
   "source": [
    "trained_model.means[IDX]"
   ]
  },
  {
   "cell_type": "code",
   "execution_count": 150,
   "metadata": {},
   "outputs": [
    {
     "data": {
      "text/plain": [
       "array([-1.20616921e+00, -8.81784003e-01,  2.36022237e-01,  1.47247706e+00,\n",
       "       -1.26303836e+00,  3.81084423e-02, -1.49860506e+00, -4.57750754e-02,\n",
       "        9.90944693e-04,  8.19398482e-01,  5.70338124e-02, -2.42086896e+00,\n",
       "       -6.59784433e-01,  4.70582268e-01, -3.41993375e+00,  1.33218073e+00,\n",
       "        6.77889108e+00,  2.97328036e+00])"
      ]
     },
     "execution_count": 150,
     "metadata": {},
     "output_type": "execute_result"
    }
   ],
   "source": [
    "means[IDX]"
   ]
  },
  {
   "cell_type": "code",
   "execution_count": 151,
   "metadata": {},
   "outputs": [
    {
     "data": {
      "text/plain": [
       "tensor([-1.1693, -0.8049,  0.2451,  1.3079, -1.1542,  0.1425, -1.3464,  0.1067,\n",
       "         0.0589,  0.8564,  0.0671, -2.0898, -0.5871,  0.3574, -3.0001,  1.1950,\n",
       "         6.7255,  3.0230])"
      ]
     },
     "execution_count": 151,
     "metadata": {},
     "output_type": "execute_result"
    }
   ],
   "source": [
    "gmm_lightning_module.gmm_module.means[IDX]"
   ]
  },
  {
   "cell_type": "code",
   "execution_count": 152,
   "metadata": {},
   "outputs": [
    {
     "data": {
      "text/plain": [
       "tensor([-0.6032, -0.7337, -0.4493,  1.1442, -1.0089, -0.1294, -1.1521, -0.8871,\n",
       "         0.1370,  0.3750,  0.4332, -2.9347, -0.0834,  0.2875, -3.3654,  0.9473,\n",
       "         5.4575,  1.2549])"
      ]
     },
     "execution_count": 152,
     "metadata": {},
     "output_type": "execute_result"
    }
   ],
   "source": [
    "gmm_init_params[\"means\"][IDX]"
   ]
  },
  {
   "cell_type": "code",
   "execution_count": 153,
   "metadata": {},
   "outputs": [
    {
     "data": {
      "text/plain": [
       "array([  1.5434166 ,   1.00187662,   1.39301369,   4.49420078,\n",
       "         2.02338946,  10.61615705,  -7.82814269,   7.21609721,\n",
       "       -17.83936845,   9.0829797 , -10.68403807,   0.5435214 ,\n",
       "       -16.04140192,  11.54775514,  -5.85069145,   5.45892235,\n",
       "        -3.08427163,   2.62940158])"
      ]
     },
     "execution_count": 153,
     "metadata": {},
     "output_type": "execute_result"
    }
   ],
   "source": [
    "skgmm.precisions_cholesky_[IDX][0]"
   ]
  },
  {
   "cell_type": "code",
   "execution_count": 154,
   "metadata": {},
   "outputs": [
    {
     "data": {
      "text/plain": [
       "tensor([  1.5504,   0.9510,   1.5364,   5.1113,   2.7722,   9.6064,  -6.8977,\n",
       "          8.2303, -19.7553,   8.4623, -14.8302,   2.5196, -14.1206,   4.3731,\n",
       "         -1.5201,   4.2449,  -0.9276,   2.1517])"
      ]
     },
     "execution_count": 154,
     "metadata": {},
     "output_type": "execute_result"
    }
   ],
   "source": [
    "trained_model.precision_cholesky[IDX][0]"
   ]
  },
  {
   "cell_type": "code",
   "execution_count": 155,
   "metadata": {},
   "outputs": [
    {
     "data": {
      "text/plain": [
       "array([  1.4412036 ,   1.0956784 ,   1.20447844,   3.8879333 ,\n",
       "         1.13488524,  10.09129875,  -7.52550288,   5.8865005 ,\n",
       "       -14.65766528,   7.24199996,  -8.96899225,  -0.05576398,\n",
       "       -12.99109356,  11.68677064,  -5.66755523,   4.46847986,\n",
       "        -2.3947838 ,   1.66568229])"
      ]
     },
     "execution_count": 155,
     "metadata": {},
     "output_type": "execute_result"
    }
   ],
   "source": [
    "prec_chol[IDX][0]"
   ]
  },
  {
   "cell_type": "code",
   "execution_count": 156,
   "metadata": {},
   "outputs": [
    {
     "data": {
      "text/plain": [
       "tensor([  1.5504,   0.9510,   1.5364,   5.1113,   2.7722,   9.6064,  -6.8977,\n",
       "          8.2303, -19.7553,   8.4623, -14.8302,   2.5196, -14.1206,   4.3731,\n",
       "         -1.5201,   4.2449,  -0.9276,   2.1517])"
      ]
     },
     "execution_count": 156,
     "metadata": {},
     "output_type": "execute_result"
    }
   ],
   "source": [
    "gmm_lightning_module.gmm_module.precision_cholesky[IDX][0]"
   ]
  },
  {
   "cell_type": "code",
   "execution_count": 157,
   "metadata": {},
   "outputs": [
    {
     "data": {
      "text/plain": [
       "tensor([  1.4373,   0.7445,   1.1892,   1.7533,   0.6190,   6.6631,  -4.2845,\n",
       "          0.4039,  -7.5919,   0.9397,  -5.4953,   1.4045, -18.1528,   8.4870,\n",
       "         -6.0902,  -0.6787,   3.8729,  -0.0469])"
      ]
     },
     "execution_count": 157,
     "metadata": {},
     "output_type": "execute_result"
    }
   ],
   "source": [
    "gmm_init_params[\"precision_cholesky\"][IDX][0]"
   ]
  },
  {
   "cell_type": "code",
   "execution_count": null,
   "metadata": {},
   "outputs": [],
   "source": []
  },
  {
   "cell_type": "code",
   "execution_count": null,
   "metadata": {},
   "outputs": [],
   "source": []
  },
  {
   "cell_type": "code",
   "execution_count": null,
   "metadata": {},
   "outputs": [],
   "source": []
  }
 ],
 "metadata": {
  "kernelspec": {
   "display_name": "OpenSynth-EhRIPYd3",
   "language": "python",
   "name": "python3"
  },
  "language_info": {
   "codemirror_mode": {
    "name": "ipython",
    "version": 3
   },
   "file_extension": ".py",
   "mimetype": "text/x-python",
   "name": "python",
   "nbconvert_exporter": "python",
   "pygments_lexer": "ipython3",
   "version": "3.11.9"
  }
 },
 "nbformat": 4,
 "nbformat_minor": 2
}
