{
 "cells": [
  {
   "cell_type": "code",
   "execution_count": 1,
   "metadata": {},
   "outputs": [],
   "source": [
    "%load_ext autoreload\n",
    "%autoreload 2"
   ]
  },
  {
   "cell_type": "code",
   "execution_count": 2,
   "metadata": {},
   "outputs": [],
   "source": [
    "import pandas as pd\n",
    "full_data = pd.read_csv(\"../../data/processed/historical/train/lcl_data.csv\")\n",
    "df_100K = full_data.sample(100000, random_state=0)\n",
    "df_100K.to_csv(\"../../data/processed/historical/train/lcl_data_100K.csv\", index=False)"
   ]
  },
  {
   "cell_type": "markdown",
   "metadata": {},
   "source": [
    "# Load Data"
   ]
  },
  {
   "cell_type": "code",
   "execution_count": 3,
   "metadata": {},
   "outputs": [],
   "source": [
    "import torch\n",
    "import numpy as np\n",
    "import random\n",
    "RANDOM_STATE = 0\n",
    "torch.manual_seed(RANDOM_STATE)\n",
    "torch.use_deterministic_algorithms(True)\n",
    "g = torch.Generator()\n",
    "g.manual_seed(RANDOM_STATE)\n",
    "\n",
    "def seed_worker(worker_id):\n",
    "    worker_seed = torch.initial_seed() % 2**32\n",
    "    np.random.seed(worker_seed)\n",
    "    random.seed(worker_seed)"
   ]
  },
  {
   "cell_type": "code",
   "execution_count": 4,
   "metadata": {},
   "outputs": [],
   "source": [
    "from pathlib import Path\n",
    "from opensynth.data_modules.lcl_data_module import LCLDataModule\n",
    "import pytorch_lightning as pl\n",
    "\n",
    "import matplotlib.pyplot as plt\n",
    "\n",
    "data_path = Path(\"../../data/processed/historical/train/lcl_data_100K.csv\")\n",
    "stats_path = Path(\"../../data/processed/historical/train/mean_std.csv\")\n",
    "outlier_path = Path(\"../../data/processed/historical/train/outliers.csv\")\n",
    "\n",
    "dm = LCLDataModule(data_path=data_path, stats_path=stats_path, batch_size=25000, n_samples=100000)\n",
    "dm.setup()"
   ]
  },
  {
   "cell_type": "code",
   "execution_count": 5,
   "metadata": {},
   "outputs": [
    {
     "data": {
      "text/plain": [
       "FaradayVAE(\n",
       "  (encoder): Encoder(\n",
       "    (encoder_layers): Sequential(\n",
       "      (0): Linear(in_features=50, out_features=512, bias=True)\n",
       "      (1): GELU(approximate='none')\n",
       "      (2): Linear(in_features=512, out_features=256, bias=True)\n",
       "      (3): GELU(approximate='none')\n",
       "      (4): Linear(in_features=256, out_features=128, bias=True)\n",
       "      (5): GELU(approximate='none')\n",
       "      (6): Linear(in_features=128, out_features=64, bias=True)\n",
       "      (7): GELU(approximate='none')\n",
       "      (8): Linear(in_features=64, out_features=32, bias=True)\n",
       "      (9): GELU(approximate='none')\n",
       "      (10): Linear(in_features=32, out_features=16, bias=True)\n",
       "    )\n",
       "  )\n",
       "  (decoder): Decoder(\n",
       "    (latent): Linear(in_features=18, out_features=16, bias=True)\n",
       "    (latent_activations): GELU(approximate='none')\n",
       "    (decoder_layers): Sequential(\n",
       "      (0): Linear(in_features=16, out_features=32, bias=True)\n",
       "      (1): GELU(approximate='none')\n",
       "      (2): Linear(in_features=32, out_features=64, bias=True)\n",
       "      (3): GELU(approximate='none')\n",
       "      (4): Linear(in_features=64, out_features=128, bias=True)\n",
       "      (5): GELU(approximate='none')\n",
       "      (6): Linear(in_features=128, out_features=256, bias=True)\n",
       "      (7): GELU(approximate='none')\n",
       "      (8): Linear(in_features=256, out_features=512, bias=True)\n",
       "      (9): GELU(approximate='none')\n",
       "      (10): Linear(in_features=512, out_features=48, bias=True)\n",
       "    )\n",
       "  )\n",
       "  (reparametriser): ReparametrisationModule(\n",
       "    (mean): Linear(in_features=16, out_features=16, bias=True)\n",
       "    (logvar): Linear(in_features=16, out_features=16, bias=True)\n",
       "  )\n",
       ")"
      ]
     },
     "execution_count": 5,
     "metadata": {},
     "output_type": "execute_result"
    }
   ],
   "source": [
    "import torch\n",
    "from opensynth.models.faraday import FaradayVAE\n",
    "vae_model = torch.load(\"vae_model.pt\")\n",
    "vae_model.eval()"
   ]
  },
  {
   "cell_type": "code",
   "execution_count": 6,
   "metadata": {},
   "outputs": [],
   "source": [
    "from opensynth.models.faraday.gaussian_mixture.prepare_gmm_input import encode_data_for_gmm\n",
    "\n",
    "next_batch = next(iter(dm.train_dataloader()))\n",
    "input_tensor = encode_data_for_gmm(data=next_batch, vae_module=vae_model)\n",
    "input_data = input_tensor.detach().numpy()\n",
    "n_samples = len(input_tensor)"
   ]
  },
  {
   "cell_type": "code",
   "execution_count": 7,
   "metadata": {},
   "outputs": [],
   "source": [
    "N_COMPONENTS = 700\n",
    "REG_COVAR = 1e-4\n",
    "EPOCHS = 25\n",
    "IDX = 0\n",
    "CONVERGENCE_TOL = 1e-2\n"
   ]
  },
  {
   "cell_type": "code",
   "execution_count": 8,
   "metadata": {},
   "outputs": [
    {
     "data": {
      "text/plain": [
       "(torch.Size([25000, 18]), tensor(0.4973, grad_fn=<SelectBackward0>))"
      ]
     },
     "execution_count": 8,
     "metadata": {},
     "output_type": "execute_result"
    }
   ],
   "source": [
    "input_tensor.shape, input_tensor[0][0]"
   ]
  },
  {
   "cell_type": "markdown",
   "metadata": {},
   "source": [
    "# Init GMM"
   ]
  },
  {
   "cell_type": "code",
   "execution_count": 9,
   "metadata": {},
   "outputs": [
    {
     "name": "stdout",
     "output_type": "stream",
     "text": [
      "torch.float32 torch.float32 torch.float32\n"
     ]
    }
   ],
   "source": [
    "from opensynth.models.faraday.new_gmm import gmm_utils\n",
    "\n",
    "labels_, means_, responsibilities_ = gmm_utils.initialise_centroids(\n",
    "        X=input_data, n_components=N_COMPONENTS\n",
    "    )\n",
    "print(labels_.dtype, responsibilities_.dtype, means_.dtype)"
   ]
  },
  {
   "cell_type": "code",
   "execution_count": 10,
   "metadata": {},
   "outputs": [
    {
     "name": "stdout",
     "output_type": "stream",
     "text": [
      "tensor(6.6420)\n",
      "tensor(1.)\n"
     ]
    }
   ],
   "source": [
    "from opensynth.models.faraday.new_gmm.train_gmm import initialise_gmm_params\n",
    "\n",
    "gmm_init_params = initialise_gmm_params(\n",
    "    X=input_data,\n",
    "    n_components = N_COMPONENTS,\n",
    "    reg_covar=REG_COVAR,\n",
    ")\n",
    "print(gmm_init_params[\"precision_cholesky\"][IDX][0][0])\n",
    "print(gmm_init_params[\"weights\"].sum())"
   ]
  },
  {
   "cell_type": "markdown",
   "metadata": {},
   "source": [
    "# Torch GMM"
   ]
  },
  {
   "cell_type": "code",
   "execution_count": 11,
   "metadata": {},
   "outputs": [
    {
     "name": "stdout",
     "output_type": "stream",
     "text": [
      "Initial prec chol: 6.642029285430908. Initial mean: -0.11744648963212967\n"
     ]
    },
    {
     "name": "stderr",
     "output_type": "stream",
     "text": [
      "  4%|▍         | 1/25 [00:02<01:06,  2.78s/it]"
     ]
    },
    {
     "name": "stdout",
     "output_type": "stream",
     "text": [
      "log prob:  tensor(-1.7353, grad_fn=<NegBackward0>)\n"
     ]
    },
    {
     "name": "stderr",
     "output_type": "stream",
     "text": [
      "  8%|▊         | 2/25 [00:05<01:05,  2.87s/it]"
     ]
    },
    {
     "name": "stdout",
     "output_type": "stream",
     "text": [
      "log prob:  tensor(-2.1089, grad_fn=<NegBackward0>)\n"
     ]
    },
    {
     "name": "stderr",
     "output_type": "stream",
     "text": [
      " 12%|█▏        | 3/25 [00:08<00:57,  2.62s/it]"
     ]
    },
    {
     "name": "stdout",
     "output_type": "stream",
     "text": [
      "log prob:  tensor(-2.3179, grad_fn=<NegBackward0>)\n"
     ]
    },
    {
     "name": "stderr",
     "output_type": "stream",
     "text": [
      " 16%|█▌        | 4/25 [00:10<00:52,  2.50s/it]"
     ]
    },
    {
     "name": "stdout",
     "output_type": "stream",
     "text": [
      "log prob:  tensor(-2.4595, grad_fn=<NegBackward0>)\n"
     ]
    },
    {
     "name": "stderr",
     "output_type": "stream",
     "text": [
      " 20%|██        | 5/25 [00:12<00:50,  2.54s/it]"
     ]
    },
    {
     "name": "stdout",
     "output_type": "stream",
     "text": [
      "log prob:  tensor(-2.5652, grad_fn=<NegBackward0>)\n"
     ]
    },
    {
     "name": "stderr",
     "output_type": "stream",
     "text": [
      " 24%|██▍       | 6/25 [00:15<00:49,  2.62s/it]"
     ]
    },
    {
     "name": "stdout",
     "output_type": "stream",
     "text": [
      "log prob:  tensor(-2.6564, grad_fn=<NegBackward0>)\n"
     ]
    },
    {
     "name": "stderr",
     "output_type": "stream",
     "text": [
      " 28%|██▊       | 7/25 [00:18<00:48,  2.69s/it]"
     ]
    },
    {
     "name": "stdout",
     "output_type": "stream",
     "text": [
      "log prob:  tensor(-2.7336, grad_fn=<NegBackward0>)\n"
     ]
    },
    {
     "name": "stderr",
     "output_type": "stream",
     "text": [
      " 32%|███▏      | 8/25 [00:21<00:46,  2.74s/it]"
     ]
    },
    {
     "name": "stdout",
     "output_type": "stream",
     "text": [
      "log prob:  tensor(-2.7934, grad_fn=<NegBackward0>)\n"
     ]
    },
    {
     "name": "stderr",
     "output_type": "stream",
     "text": [
      " 36%|███▌      | 9/25 [00:24<00:45,  2.86s/it]"
     ]
    },
    {
     "name": "stdout",
     "output_type": "stream",
     "text": [
      "log prob:  tensor(-2.8381, grad_fn=<NegBackward0>)\n"
     ]
    },
    {
     "name": "stderr",
     "output_type": "stream",
     "text": [
      " 40%|████      | 10/25 [00:27<00:45,  3.00s/it]"
     ]
    },
    {
     "name": "stdout",
     "output_type": "stream",
     "text": [
      "log prob:  tensor(-2.8720, grad_fn=<NegBackward0>)\n"
     ]
    },
    {
     "name": "stderr",
     "output_type": "stream",
     "text": [
      " 44%|████▍     | 11/25 [00:31<00:44,  3.16s/it]"
     ]
    },
    {
     "name": "stdout",
     "output_type": "stream",
     "text": [
      "log prob:  tensor(-2.8965, grad_fn=<NegBackward0>)\n"
     ]
    },
    {
     "name": "stderr",
     "output_type": "stream",
     "text": [
      " 48%|████▊     | 12/25 [00:34<00:41,  3.21s/it]"
     ]
    },
    {
     "name": "stdout",
     "output_type": "stream",
     "text": [
      "log prob:  tensor(-2.9157, grad_fn=<NegBackward0>)\n"
     ]
    },
    {
     "name": "stderr",
     "output_type": "stream",
     "text": [
      " 52%|█████▏    | 13/25 [00:37<00:37,  3.15s/it]"
     ]
    },
    {
     "name": "stdout",
     "output_type": "stream",
     "text": [
      "log prob:  tensor(-2.9323, grad_fn=<NegBackward0>)\n"
     ]
    },
    {
     "name": "stderr",
     "output_type": "stream",
     "text": [
      " 56%|█████▌    | 14/25 [00:41<00:37,  3.43s/it]"
     ]
    },
    {
     "name": "stdout",
     "output_type": "stream",
     "text": [
      "log prob:  tensor(-2.9483, grad_fn=<NegBackward0>)\n"
     ]
    },
    {
     "name": "stderr",
     "output_type": "stream",
     "text": [
      " 60%|██████    | 15/25 [00:44<00:32,  3.23s/it]"
     ]
    },
    {
     "name": "stdout",
     "output_type": "stream",
     "text": [
      "log prob:  tensor(-2.9611, grad_fn=<NegBackward0>)\n"
     ]
    },
    {
     "name": "stderr",
     "output_type": "stream",
     "text": [
      " 64%|██████▍   | 16/25 [00:47<00:27,  3.08s/it]"
     ]
    },
    {
     "name": "stdout",
     "output_type": "stream",
     "text": [
      "log prob:  tensor(-2.9725, grad_fn=<NegBackward0>)\n"
     ]
    },
    {
     "name": "stderr",
     "output_type": "stream",
     "text": [
      " 68%|██████▊   | 17/25 [00:49<00:23,  2.90s/it]"
     ]
    },
    {
     "name": "stdout",
     "output_type": "stream",
     "text": [
      "log prob:  tensor(-2.9835, grad_fn=<NegBackward0>)\n"
     ]
    },
    {
     "name": "stderr",
     "output_type": "stream",
     "text": [
      " 68%|██████▊   | 17/25 [00:52<00:24,  3.08s/it]"
     ]
    },
    {
     "name": "stdout",
     "output_type": "stream",
     "text": [
      "log prob:  tensor(-2.9934, grad_fn=<NegBackward0>)\n",
      "Converged: True. Number of iterations: 17\n"
     ]
    },
    {
     "name": "stderr",
     "output_type": "stream",
     "text": [
      "\n"
     ]
    }
   ],
   "source": [
    "from opensynth.models.faraday.new_gmm.train_gmm import initialise_gmm_params, training_loop\n",
    "from opensynth.models.faraday.new_gmm.new_gmm_model import GaussianMixtureModel\n",
    "\n",
    "\n",
    "gmm_init_params = initialise_gmm_params(\n",
    "    X=input_data,\n",
    "    n_components = N_COMPONENTS,\n",
    "    reg_covar=REG_COVAR,\n",
    ")\n",
    "\n",
    "means = gmm_init_params[\"means\"].detach().numpy()\n",
    "weights = gmm_init_params[\"weights\"].detach().numpy()\n",
    "prec_chol = gmm_init_params[\"precision_cholesky\"].detach().numpy()\n",
    "print(f\"Initial prec chol: {prec_chol[IDX][0][0]}. Initial mean: {means[IDX][0]}\")\n",
    "\n",
    "torch_gmm = GaussianMixtureModel(\n",
    "    num_components=N_COMPONENTS,\n",
    "    num_features = input_data.shape[1],\n",
    "    reg_covar=REG_COVAR,\n",
    "    print_idx=IDX\n",
    ")\n",
    "torch_gmm.initialise(gmm_init_params)\n",
    "trained_model, log_prob_epochs = training_loop(model=torch_gmm, data=input_tensor, max_iter=EPOCHS)"
   ]
  },
  {
   "cell_type": "markdown",
   "metadata": {},
   "source": [
    "# SK Learn GMM Manual"
   ]
  },
  {
   "cell_type": "code",
   "execution_count": 12,
   "metadata": {},
   "outputs": [],
   "source": [
    "import numpy as np\n",
    "from scipy.special import logsumexp\n",
    "from scipy import linalg\n",
    "\n",
    "def is_symmetric_positive_definite(covariance):\n",
    "    is_symmetric = np.all([np.allclose(covariance[i], covariance[i].T) for i in range(covariance.shape[0])])\n",
    "    is_positive_definite = np.all([np.all(np.linalg.eigvalsh(covariance[i]) > 0.0) for i in range(covariance.shape[0])])\n",
    "    return is_symmetric and is_positive_definite\n",
    "\n",
    "def _estimate_gaussian_parameters(X, resp, reg_covar=REG_COVAR):\n",
    "    nk = resp.sum(axis=0) + 10 * np.finfo(resp.dtype).eps\n",
    "    means = np.dot(resp.T, X) / nk[:, np.newaxis]\n",
    "    n_components, n_features = means.shape\n",
    "    covariances = np.empty((n_components, n_features, n_features))\n",
    "    for k in range(n_components):\n",
    "        diff = X - means[k]\n",
    "        covariances[k] = np.dot(resp[:, k] * diff.T, diff) / nk[k]\n",
    "        covariances[k].flat[:: n_features + 1] += reg_covar\n",
    "\n",
    "    check_covariances = is_symmetric_positive_definite(covariances)\n",
    "    if not check_covariances:\n",
    "        raise ValueError(\"Covariance matrix is not positive definite.\")\n",
    "    return nk, means, covariances\n",
    "\n",
    "def _compute_precision_cholesky(covariances):\n",
    "    estimate_precision_error_message = (\n",
    "        \"Fitting the mixture model failed because some components have \"\n",
    "        \"ill-defined empirical covariance (for instance caused by singleton \"\n",
    "        \"or collapsed samples). Try to decrease the number of components, \"\n",
    "        \"or increase reg_covar.\"\n",
    "    )\n",
    "\n",
    "    n_components, n_features, _ = covariances.shape\n",
    "    precisions_chol = np.empty((n_components, n_features, n_features))\n",
    "    for k, covariance in enumerate(covariances):\n",
    "        try:\n",
    "            cov_chol = linalg.cholesky(covariance, lower=True)\n",
    "        except linalg.LinAlgError:\n",
    "            raise ValueError(estimate_precision_error_message)\n",
    "        precisions_chol[k] = linalg.solve_triangular(\n",
    "            cov_chol, np.eye(n_features), lower=True\n",
    "        ).T\n",
    "    return precisions_chol\n",
    "\n",
    "def _compute_log_det_cholesky(matrix_chol, n_features):\n",
    "    n_components, _, _ = matrix_chol.shape\n",
    "    log_det_chol = np.sum(\n",
    "        np.log(matrix_chol.reshape(n_components, -1)[:, :: n_features + 1]), 1\n",
    "    )\n",
    "    return log_det_chol\n",
    "\n",
    "def _estimate_log_gaussian_prob(X, means, precisions_chol):\n",
    "    n_samples, n_features = X.shape\n",
    "    n_components, _ = means.shape\n",
    "\n",
    "    log_det = _compute_log_det_cholesky(precisions_chol, n_features)\n",
    "\n",
    "    log_prob = np.empty((n_samples, n_components))\n",
    "    for k, (mu, prec_chol) in enumerate(zip(means, precisions_chol)):\n",
    "        y = np.dot(X, prec_chol) - np.dot(mu, prec_chol)\n",
    "        log_prob[:, k] = np.sum(np.square(y), axis=1)\n",
    "    return -0.5 * (n_features * np.log(2 * np.pi) + log_prob) + log_det\n",
    "\n",
    "def _estimate_log_weights(weights):\n",
    "        return np.log(weights)\n",
    "\n",
    "def _estimate_weighted_log_prob(X, means, precisions_chol, weights):\n",
    "        return _estimate_log_gaussian_prob(X, means, precisions_chol) + _estimate_log_weights(weights)\n",
    "\n",
    "\n",
    "def _estimate_log_prob_resp(X, means, precisions_chol, weights):\n",
    "    weighted_log_prob = _estimate_weighted_log_prob(X, means, precisions_chol, weights)\n",
    "    log_prob_norm = logsumexp(weighted_log_prob, axis=1)\n",
    "    with np.errstate(under=\"ignore\"):\n",
    "        log_resp = weighted_log_prob - log_prob_norm[:, np.newaxis]\n",
    "    return log_prob_norm, log_resp\n",
    "\n",
    "def _e_step(X,means, precisions_chol, weights):\n",
    "    log_prob_norm, log_resp = _estimate_log_prob_resp(X, means, precisions_chol, weights)\n",
    "    return np.mean(log_prob_norm), log_resp\n",
    "\n",
    "def _m_step(X, log_reponsibilities, reg_covar=REG_COVAR):\n",
    "\n",
    "    weights_, means_, covariances_ = _estimate_gaussian_parameters(X,np.exp(log_reponsibilities),reg_covar=reg_covar)\n",
    "    weights_ /= weights_.sum()\n",
    "\n",
    "    precision_cholesky_ = _compute_precision_cholesky(covariances=covariances_)\n",
    "\n",
    "    return precision_cholesky_, weights_, means_, covariances_"
   ]
  },
  {
   "cell_type": "code",
   "execution_count": 13,
   "metadata": {},
   "outputs": [
    {
     "name": "stdout",
     "output_type": "stream",
     "text": [
      "Initial prec chol: 6.642029285430908. Initial mean: -0.11744648963212967\n",
      "Old Prec Chol: 6.642029285430908. Old means: -0.11744648963212967\n",
      "New prec chol: 6.432963578683903. New means: -0.13688528732254718\n",
      "log prob: 1.735338299854014, change: inf\n",
      "Old Prec Chol: 6.432963578683903. Old means: -0.13688528732254718\n",
      "New prec chol: 6.423680953707583. New means: -0.15136358003929168\n",
      "log prob: 2.108812957430841, change: 0.3734746575768271\n",
      "Old Prec Chol: 6.423680953707583. Old means: -0.15136358003929168\n",
      "New prec chol: 6.537481563374545. New means: -0.161987004486275\n",
      "log prob: 2.3177299763142356, change: 0.20891701888339442\n",
      "Old Prec Chol: 6.537481563374545. Old means: -0.161987004486275\n",
      "New prec chol: 6.631282302442071. New means: -0.1674405691472452\n",
      "log prob: 2.45929037554233, change: 0.14156039922809427\n",
      "Old Prec Chol: 6.631282302442071. Old means: -0.1674405691472452\n",
      "New prec chol: 6.648750994180154. New means: -0.16985654740635123\n",
      "log prob: 2.564971648966961, change: 0.10568127342463107\n",
      "Old Prec Chol: 6.648750994180154. Old means: -0.16985654740635123\n",
      "New prec chol: 6.636889575667359. New means: -0.17108486456011165\n",
      "log prob: 2.6561813627597837, change: 0.09120971379282272\n",
      "Old Prec Chol: 6.636889575667359. Old means: -0.17108486456011165\n",
      "New prec chol: 6.648425231643479. New means: -0.1727036463887882\n",
      "log prob: 2.7333848731059414, change: 0.07720351034615769\n",
      "Old Prec Chol: 6.648425231643479. Old means: -0.1727036463887882\n",
      "New prec chol: 6.675251427776331. New means: -0.17600432370559255\n",
      "log prob: 2.79326310096209, change: 0.05987822785614849\n",
      "Old Prec Chol: 6.675251427776331. Old means: -0.17600432370559255\n",
      "New prec chol: 6.7002360642056. New means: -0.17982304209078792\n",
      "log prob: 2.837865989127494, change: 0.04460288816540414\n",
      "Old Prec Chol: 6.7002360642056. Old means: -0.17982304209078792\n",
      "New prec chol: 6.722012623289658. New means: -0.1835376707943166\n",
      "log prob: 2.8717778120023514, change: 0.03391182287485739\n",
      "Old Prec Chol: 6.722012623289658. Old means: -0.1835376707943166\n",
      "New prec chol: 6.726505334949369. New means: -0.18717522358299882\n",
      "log prob: 2.896278476920349, change: 0.02450066491799774\n",
      "Old Prec Chol: 6.726505334949369. Old means: -0.18717522358299882\n",
      "New prec chol: 6.729101891896849. New means: -0.19086594993055175\n",
      "log prob: 2.9154589650479714, change: 0.019180488127622297\n",
      "Old Prec Chol: 6.729101891896849. Old means: -0.19086594993055175\n",
      "New prec chol: 6.719687696704188. New means: -0.1943729664136195\n",
      "log prob: 2.9321336417197763, change: 0.01667467667180489\n",
      "Old Prec Chol: 6.719687696704188. Old means: -0.1943729664136195\n",
      "New prec chol: 6.6861629424980125. New means: -0.19735712820386742\n",
      "log prob: 2.9480121257833867, change: 0.015878484063610365\n",
      "Old Prec Chol: 6.6861629424980125. Old means: -0.19735712820386742\n",
      "New prec chol: 6.654227820164873. New means: -0.2004639633084859\n",
      "log prob: 2.9608539088145767, change: 0.01284178303118999\n",
      "Old Prec Chol: 6.654227820164873. Old means: -0.2004639633084859\n",
      "New prec chol: 6.633572651954161. New means: -0.2041328360996828\n",
      "log prob: 2.972248641485388, change: 0.011394732670811258\n",
      "Old Prec Chol: 6.633572651954161. Old means: -0.2041328360996828\n",
      "New prec chol: 6.619214954341687. New means: -0.20825328868012016\n",
      "log prob: 2.9832836303675268, change: 0.01103498888213883\n",
      "Old Prec Chol: 6.619214954341687. Old means: -0.20825328868012016\n",
      "New prec chol: 6.610355462177425. New means: -0.21271617493620365\n",
      "log prob: 2.993166596692301, change: 0.009882966324774145\n",
      "Converged: True. Number of iterations: 17\n"
     ]
    }
   ],
   "source": [
    "means = gmm_init_params[\"means\"].detach().numpy()\n",
    "weights = gmm_init_params[\"weights\"].detach().numpy()\n",
    "prec_chol = gmm_init_params[\"precision_cholesky\"].detach().numpy()\n",
    "\n",
    "print(f\"Initial prec chol: {prec_chol[IDX][0][0]}. Initial mean: {means[IDX][0]}\")\n",
    "\n",
    "converged = False\n",
    "lower_bound = -np.inf\n",
    "np_log_prob_epochs = []\n",
    "for i in range(EPOCHS):\n",
    "    prev_lower_bound = lower_bound\n",
    "\n",
    "    print(f\"Old Prec Chol: {prec_chol[IDX][0][0]}. Old means: {means[IDX][0]}\")\n",
    "    log_prob, log_resp = _e_step(input_data, means, prec_chol, weights)\n",
    "    prec_chol, weights, means, covar = _m_step(input_data, log_resp)\n",
    "\n",
    "    print(f\"New prec chol: {prec_chol[IDX][0][0]}. New means: {means[IDX][0]}\")\n",
    "\n",
    "    # Converegence\n",
    "    lower_bound = -log_prob\n",
    "    change = abs(lower_bound - prev_lower_bound)\n",
    "    print(f\"log prob: {log_prob}, change: {change}\")\n",
    "    np_log_prob_epochs.append(lower_bound)\n",
    "    if change < CONVERGENCE_TOL:\n",
    "        converged = True\n",
    "        break\n",
    "\n",
    "print(f'Converged: {converged}. Number of iterations: {i}')"
   ]
  },
  {
   "cell_type": "code",
   "execution_count": 14,
   "metadata": {},
   "outputs": [],
   "source": [
    "import matplotlib.pyplot as plt"
   ]
  },
  {
   "cell_type": "code",
   "execution_count": null,
   "metadata": {},
   "outputs": [
    {
     "data": {
      "image/png": "[encoded data removed]",
      "text/plain": [
       "<Figure size 640x480 with 1 Axes>"
      ]
     },
     "metadata": {},
     "output_type": "display_data"
    }
   ],
   "source": [
    "torch_log_prob_epochs = [log_prob.detach().item() for log_prob in log_prob_epochs]\n",
    "plt.plot(np.arange(0, i+1), torch_log_prob_epochs, label='torch')\n",
    "plt.plot(np.arange(0, i+1), np_log_prob_epochs, label='numpy', linestyle='--')\n",
    "plt.xlabel('epochs')\n",
    "plt.ylabel('log prob')\n",
    "plt.title('500 components')\n",
    "plt.legend()\n",
    "plt.show()"
   ]
  },
  {
   "cell_type": "markdown",
   "metadata": {},
   "source": [
    "# SK Learn GMM Epoch"
   ]
  },
  {
   "cell_type": "code",
   "execution_count": 17,
   "metadata": {},
   "outputs": [
    {
     "name": "stdout",
     "output_type": "stream",
     "text": [
      "Initialization 0\n",
      "  Iteration 1\t time lapse 12.56763s\t ll change inf\n",
      "  Iteration 2\t time lapse 6.11678s\t ll change 0.39296\n",
      "  Iteration 3\t time lapse 6.40847s\t ll change 0.21495\n",
      "  Iteration 4\t time lapse 6.80483s\t ll change 0.14734\n",
      "  Iteration 5\t time lapse 6.41462s\t ll change 0.10943\n",
      "  Iteration 6\t time lapse 6.53152s\t ll change 0.09462\n",
      "  Iteration 7\t time lapse 7.16391s\t ll change 0.07798\n",
      "  Iteration 8\t time lapse 6.39741s\t ll change 0.06258\n",
      "  Iteration 9\t time lapse 6.58530s\t ll change 0.04706\n",
      "  Iteration 10\t time lapse 7.47697s\t ll change 0.03431\n",
      "  Iteration 11\t time lapse 7.17728s\t ll change 0.02518\n",
      "  Iteration 12\t time lapse 5.82799s\t ll change 0.02044\n",
      "  Iteration 13\t time lapse 5.33615s\t ll change 0.01895\n",
      "  Iteration 14\t time lapse 5.03128s\t ll change 0.01658\n",
      "  Iteration 15\t time lapse 5.36255s\t ll change 0.01540\n",
      "  Iteration 16\t time lapse 5.06910s\t ll change 0.01316\n",
      "  Iteration 17\t time lapse 5.21010s\t ll change 0.01053\n",
      "  Iteration 18\t time lapse 5.35777s\t ll change 0.00982\n",
      "Initialization converged. time lapse 116.84348s\t lower bound 4.67765.\n"
     ]
    }
   ],
   "source": [
    "from sklearn.mixture import GaussianMixture\n",
    "\n",
    "init_weights = gmm_init_params[\"weights\"]\n",
    "init_means = gmm_init_params[\"means\"]\n",
    "\n",
    "skgmm = GaussianMixture(n_components=N_COMPONENTS, covariance_type='full', tol=CONVERGENCE_TOL, max_iter=EPOCHS, random_state=0, means_init = init_means, weights_init=init_weights, verbose=2, verbose_interval=1)\n",
    "skgmm.fit(input_data)\n",
    "skgmm_pred = skgmm.predict(input_data)"
   ]
  },
  {
   "cell_type": "code",
   "execution_count": 18,
   "metadata": {},
   "outputs": [
    {
     "data": {
      "text/plain": [
       "(True, 18)"
      ]
     },
     "execution_count": 18,
     "metadata": {},
     "output_type": "execute_result"
    }
   ],
   "source": [
    "skgmm.converged_, skgmm.n_iter_"
   ]
  },
  {
   "cell_type": "markdown",
   "metadata": {},
   "source": [
    "# Torch Lightning"
   ]
  },
  {
   "cell_type": "code",
   "execution_count": 19,
   "metadata": {},
   "outputs": [],
   "source": [
    "from torch.utils.data import Dataset, DataLoader\n",
    "from pytorch_lightning import LightningDataModule\n",
    "class CustomDataset(Dataset):\n",
    "    def __init__(self, data_tensor: torch.Tensor):\n",
    "        self.data = data_tensor\n",
    "    def __len__(self):\n",
    "        return len(self.data)\n",
    "    def __getitem__(self, idx):\n",
    "        return self.data[idx]\n",
    "    \n",
    "class CustomDataModule(LightningDataModule):\n",
    "    def __init__(self, data_tensor: torch.Tensor, batch_size: int):\n",
    "        super().__init__()\n",
    "        self.data_tensor = data_tensor\n",
    "        self.batch_size = batch_size\n",
    "    def setup(self, stage=\"\"):\n",
    "        self.custom_ds = CustomDataset(self.data_tensor)\n",
    "    def train_dataloader(self):\n",
    "        return DataLoader(self.custom_ds, batch_size=self.batch_size, shuffle=False, generator=g, worker_init_fn=seed_worker)\n",
    "    \n",
    "custom_dm = CustomDataModule(data_tensor=input_tensor, batch_size=25000)\n",
    "custom_dm.setup(stage=\"\")"
   ]
  },
  {
   "cell_type": "code",
   "execution_count": 20,
   "metadata": {},
   "outputs": [
    {
     "name": "stdout",
     "output_type": "stream",
     "text": [
      "tensor(0.4973, grad_fn=<SelectBackward0>)\n",
      "tensor(0.4973, grad_fn=<SelectBackward0>)\n",
      "tensor(0.4973, grad_fn=<SelectBackward0>)\n",
      "tensor(0.4973, grad_fn=<SelectBackward0>)\n",
      "tensor(0.4973, grad_fn=<SelectBackward0>)\n"
     ]
    }
   ],
   "source": [
    "\n",
    "for i in range(5):\n",
    "    print(next(iter(custom_dm.train_dataloader()))[0][0])"
   ]
  },
  {
   "cell_type": "code",
   "execution_count": null,
   "metadata": {},
   "outputs": [
    {
     "name": "stderr",
     "output_type": "stream",
     "text": [
      "GPU available: True (mps), used: False\n",
      "TPU available: False, using: 0 TPU cores\n",
      "HPU available: False, using: 0 HPUs\n",
      "/Users/charlotte.avery/.virtualenvs/OpenSynth-BNsxhSIM/lib/python3.11/site-packages/pytorch_lightning/trainer/setup.py:177: GPU available but not used. You can set it by doing `Trainer(accelerator='gpu')`.\n",
      "/Users/charlotte.avery/.virtualenvs/OpenSynth-BNsxhSIM/lib/python3.11/site-packages/pytorch_lightning/trainer/connectors/logger_connector/logger_connector.py:75: Starting from v1.9.0, `tensorboardX` has been removed as a dependency of the `pytorch_lightning` package, due to potential conflicts with other packages in the ML ecosystem. For this reason, `logger=True` will use `CSVLogger` as the default logger, unless the `tensorboard` or `tensorboardX` packages are found. Please `pip install lightning[extra]` or one of them to enable TensorBoard support by default\n",
      "/Users/charlotte.avery/.virtualenvs/OpenSynth-BNsxhSIM/lib/python3.11/site-packages/pytorch_lightning/core/optimizer.py:182: `LightningModule.configure_optimizers` returned `None`, this fit will run with no optimizer\n",
      "\n",
      "  | Name                      | Type                    | Params | Mode \n",
      "------------------------------------------------------------------------------\n",
      "0 | gmm_module                | GaussianMixtureModel    | 0      | train\n",
      "1 | vae_module                | FaradayVAE              | 402 K  | eval \n",
      "2 | weight_metric             | WeightsMetric           | 0      | train\n",
      "3 | mean_metric               | MeansMetric             | 0      | train\n",
      "4 | precision_cholesky_metric | PrecisionCholeskyMetric | 0      | train\n",
      "5 | covariance_metric         | CovarianceMetric        | 0      | train\n",
      "6 | nll                       | NLLMetric               | 0      | train\n",
      "------------------------------------------------------------------------------\n",
      "402 K     Trainable params\n",
      "0         Non-trainable params\n",
      "402 K     Total params\n",
      "1.609     Total estimated model params size (MB)\n",
      "6         Modules in train mode\n",
      "32        Modules in eval mode\n"
     ]
    },
    {
     "name": "stdout",
     "output_type": "stream",
     "text": [
      "Initial prec chol: 6.642029285430908. Initial mean: -0.11744648963212967\n"
     ]
    },
    {
     "name": "stderr",
     "output_type": "stream",
     "text": [
      "/Users/charlotte.avery/.virtualenvs/OpenSynth-BNsxhSIM/lib/python3.11/site-packages/pytorch_lightning/trainer/connectors/data_connector.py:424: The 'train_dataloader' does not have many workers which may be a bottleneck. Consider increasing the value of the `num_workers` argument` to `num_workers=7` in the `DataLoader` to improve performance.\n",
      "/Users/charlotte.avery/.virtualenvs/OpenSynth-BNsxhSIM/lib/python3.11/site-packages/pytorch_lightning/loops/fit_loop.py:298: The number of training batches (1) is smaller than the logging interval Trainer(log_every_n_steps=50). Set a lower value for log_every_n_steps if you want to see logs for the training epoch.\n"
     ]
    },
    {
     "name": "stdout",
     "output_type": "stream",
     "text": [
      "Epoch 0: 100%|██████████| 1/1 [00:02<00:00,  0.49it/s, v_num=90]Local weights at rank: 0 - means: 0.0055, -0.1369\n",
      "Reduced weights, means, covar: 0.0055, -0.1369, 0.0242\n",
      "log prob:  tensor(-1.7353)\n",
      "Epoch 1: 100%|██████████| 1/1 [00:01<00:00,  0.62it/s, v_num=90]Local weights at rank: 0 - means: 0.0061, -0.1514\n",
      "Reduced weights, means, covar: 0.0061, -0.1514, 0.0242\n",
      "log prob:  tensor(-2.1089)\n",
      "Epoch 2: 100%|██████████| 1/1 [00:01<00:00,  0.62it/s, v_num=90]Local weights at rank: 0 - means: 0.0064, -0.1620\n",
      "Reduced weights, means, covar: 0.0064, -0.1620, 0.0234\n",
      "log prob:  tensor(-2.3179)\n",
      "Epoch 3: 100%|██████████| 1/1 [00:01<00:00,  0.69it/s, v_num=90]Local weights at rank: 0 - means: 0.0066, -0.1674\n",
      "Reduced weights, means, covar: 0.0066, -0.1674, 0.0227\n",
      "log prob:  tensor(-2.4595)\n",
      "Epoch 4: 100%|██████████| 1/1 [00:01<00:00,  0.75it/s, v_num=90]Local weights at rank: 0 - means: 0.0066, -0.1699\n",
      "Reduced weights, means, covar: 0.0066, -0.1699, 0.0226\n",
      "log prob:  tensor(-2.5652)\n",
      "Epoch 5: 100%|██████████| 1/1 [00:01<00:00,  0.81it/s, v_num=90]Local weights at rank: 0 - means: 0.0066, -0.1711\n",
      "Reduced weights, means, covar: 0.0066, -0.1711, 0.0227\n",
      "log prob:  tensor(-2.6564)\n",
      "Epoch 6: 100%|██████████| 1/1 [00:01<00:00,  0.87it/s, v_num=90]Local weights at rank: 0 - means: 0.0065, -0.1727\n",
      "Reduced weights, means, covar: 0.0065, -0.1727, 0.0226\n",
      "log prob:  tensor(-2.7336)\n",
      "Epoch 7: 100%|██████████| 1/1 [00:01<00:00,  0.89it/s, v_num=90]Local weights at rank: 0 - means: 0.0063, -0.1760\n",
      "Reduced weights, means, covar: 0.0063, -0.1760, 0.0224\n",
      "log prob:  tensor(-2.7934)\n",
      "Epoch 8: 100%|██████████| 1/1 [00:01<00:00,  0.76it/s, v_num=90]Local weights at rank: 0 - means: 0.0060, -0.1798\n",
      "Reduced weights, means, covar: 0.0060, -0.1798, 0.0223\n",
      "log prob:  tensor(-2.8381)\n",
      "Epoch 9: 100%|██████████| 1/1 [00:01<00:00,  0.88it/s, v_num=90]Local weights at rank: 0 - means: 0.0059, -0.1835\n",
      "Reduced weights, means, covar: 0.0059, -0.1835, 0.0221\n",
      "log prob:  tensor(-2.8720)\n",
      "Epoch 10: 100%|██████████| 1/1 [00:01<00:00,  0.66it/s, v_num=90]Local weights at rank: 0 - means: 0.0057, -0.1872\n",
      "Reduced weights, means, covar: 0.0057, -0.1872, 0.0221\n",
      "log prob:  tensor(-2.8965)\n",
      "Epoch 11: 100%|██████████| 1/1 [00:01<00:00,  0.62it/s, v_num=90]Local weights at rank: 0 - means: 0.0056, -0.1908\n",
      "Reduced weights, means, covar: 0.0056, -0.1908, 0.0221\n",
      "log prob:  tensor(-2.9157)\n",
      "Epoch 12: 100%|██████████| 1/1 [00:01<00:00,  0.65it/s, v_num=90]Local weights at rank: 0 - means: 0.0055, -0.1943\n",
      "Reduced weights, means, covar: 0.0055, -0.1943, 0.0221\n",
      "log prob:  tensor(-2.9323)\n",
      "Epoch 13: 100%|██████████| 1/1 [00:01<00:00,  0.61it/s, v_num=90]Local weights at rank: 0 - means: 0.0055, -0.1972\n",
      "Reduced weights, means, covar: 0.0055, -0.1972, 0.0224\n",
      "log prob:  tensor(-2.9483)\n",
      "Epoch 14: 100%|██████████| 1/1 [00:01<00:00,  0.55it/s, v_num=90]Local weights at rank: 0 - means: 0.0054, -0.2003\n",
      "Reduced weights, means, covar: 0.0054, -0.2003, 0.0226\n",
      "log prob:  tensor(-2.9611)\n",
      "Epoch 15: 100%|██████████| 1/1 [00:01<00:00,  0.56it/s, v_num=90]Local weights at rank: 0 - means: 0.0053, -0.2039\n",
      "Reduced weights, means, covar: 0.0053, -0.2039, 0.0227\n",
      "log prob:  tensor(-2.9725)\n",
      "Epoch 16: 100%|██████████| 1/1 [00:01<00:00,  0.57it/s, v_num=90]Local weights at rank: 0 - means: 0.0053, -0.2080\n",
      "Reduced weights, means, covar: 0.0053, -0.2080, 0.0228\n",
      "log prob:  tensor(-2.9835)\n",
      "Epoch 17: 100%|██████████| 1/1 [00:01<00:00,  0.55it/s, v_num=90]Local weights at rank: 0 - means: 0.0053, -0.2124\n",
      "Reduced weights, means, covar: 0.0053, -0.2124, 0.0229\n",
      "log prob:  tensor(-2.9934)\n",
      "Epoch 17: 100%|██████████| 1/1 [00:01<00:00,  0.55it/s, v_num=90]\n"
     ]
    }
   ],
   "source": [
    "from opensynth.models.faraday.new_gmm.new_gmm_model import GaussianMixtureLightningModule, GaussianMixtureModel\n",
    "gmm_module = GaussianMixtureModel(\n",
    "    num_components=N_COMPONENTS,\n",
    "    num_features = input_data.shape[1],\n",
    "    reg_covar=REG_COVAR,\n",
    "    print_idx=IDX\n",
    ")\n",
    "gmm_module.initialise(gmm_init_params)\n",
    "print(f\"Initial prec chol: {gmm_module.precision_cholesky[IDX][0][0]}. Initial mean: {gmm_module.means[IDX][0]}\")\n",
    "\n",
    "gmm_lightning_module = GaussianMixtureLightningModule(\n",
    "    gmm_module = gmm_module,\n",
    "    vae_module = vae_model,\n",
    "    num_components = gmm_module.num_components,\n",
    "    num_features = gmm_module.num_features,\n",
    "    reg_covar = gmm_module.reg_covar,\n",
    "    convergence_tolerance = CONVERGENCE_TOL,\n",
    "    sync_on_batch=False\n",
    ")\n",
    "trainer = pl.Trainer(max_epochs=EPOCHS, accelerator=\"cpu\", deterministic=True )\n",
    "trainer.fit(gmm_lightning_module, custom_dm)"
   ]
  },
  {
   "cell_type": "code",
   "execution_count": 22,
   "metadata": {},
   "outputs": [
    {
     "data": {
      "text/plain": [
       "(tensor(0.0053), tensor(-0.2124))"
      ]
     },
     "execution_count": 22,
     "metadata": {},
     "output_type": "execute_result"
    }
   ],
   "source": [
    "gmm_lightning_module.weight_metric.compute()[0], gmm_lightning_module.mean_metric.compute()[0][0]"
   ]
  },
  {
   "cell_type": "markdown",
   "metadata": {},
   "source": [
    "# Compare"
   ]
  },
  {
   "cell_type": "code",
   "execution_count": 23,
   "metadata": {},
   "outputs": [],
   "source": [
    "IDX = 0"
   ]
  },
  {
   "cell_type": "code",
   "execution_count": 24,
   "metadata": {},
   "outputs": [
    {
     "data": {
      "text/html": [
       "<div>\n",
       "<style scoped>\n",
       "    .dataframe tbody tr th:only-of-type {\n",
       "        vertical-align: middle;\n",
       "    }\n",
       "\n",
       "    .dataframe tbody tr th {\n",
       "        vertical-align: top;\n",
       "    }\n",
       "\n",
       "    .dataframe thead th {\n",
       "        text-align: right;\n",
       "    }\n",
       "</style>\n",
       "<table border=\"1\" class=\"dataframe\">\n",
       "  <thead>\n",
       "    <tr style=\"text-align: right;\">\n",
       "      <th></th>\n",
       "      <th>skgmm</th>\n",
       "      <th>numpy</th>\n",
       "      <th>torch</th>\n",
       "      <th>lightning</th>\n",
       "    </tr>\n",
       "  </thead>\n",
       "  <tbody>\n",
       "    <tr>\n",
       "      <th>0</th>\n",
       "      <td>-0.177812</td>\n",
       "      <td>-0.212716</td>\n",
       "      <td>-0.212372</td>\n",
       "      <td>-0.212372</td>\n",
       "    </tr>\n",
       "    <tr>\n",
       "      <th>1</th>\n",
       "      <td>-2.630335</td>\n",
       "      <td>-2.505732</td>\n",
       "      <td>-2.505953</td>\n",
       "      <td>-2.505953</td>\n",
       "    </tr>\n",
       "    <tr>\n",
       "      <th>2</th>\n",
       "      <td>0.244407</td>\n",
       "      <td>0.219610</td>\n",
       "      <td>0.218786</td>\n",
       "      <td>0.218786</td>\n",
       "    </tr>\n",
       "    <tr>\n",
       "      <th>3</th>\n",
       "      <td>0.060124</td>\n",
       "      <td>0.126913</td>\n",
       "      <td>0.127881</td>\n",
       "      <td>0.127881</td>\n",
       "    </tr>\n",
       "    <tr>\n",
       "      <th>4</th>\n",
       "      <td>-0.049596</td>\n",
       "      <td>-0.020005</td>\n",
       "      <td>-0.020234</td>\n",
       "      <td>-0.020234</td>\n",
       "    </tr>\n",
       "    <tr>\n",
       "      <th>5</th>\n",
       "      <td>-0.029421</td>\n",
       "      <td>-0.061361</td>\n",
       "      <td>-0.061332</td>\n",
       "      <td>-0.061332</td>\n",
       "    </tr>\n",
       "    <tr>\n",
       "      <th>6</th>\n",
       "      <td>0.387513</td>\n",
       "      <td>0.331236</td>\n",
       "      <td>0.330309</td>\n",
       "      <td>0.330309</td>\n",
       "    </tr>\n",
       "    <tr>\n",
       "      <th>7</th>\n",
       "      <td>2.323282</td>\n",
       "      <td>2.380669</td>\n",
       "      <td>2.381529</td>\n",
       "      <td>2.381529</td>\n",
       "    </tr>\n",
       "    <tr>\n",
       "      <th>8</th>\n",
       "      <td>-0.012398</td>\n",
       "      <td>-0.012253</td>\n",
       "      <td>-0.012595</td>\n",
       "      <td>-0.012595</td>\n",
       "    </tr>\n",
       "    <tr>\n",
       "      <th>9</th>\n",
       "      <td>-2.338854</td>\n",
       "      <td>-2.501915</td>\n",
       "      <td>-2.501398</td>\n",
       "      <td>-2.501398</td>\n",
       "    </tr>\n",
       "    <tr>\n",
       "      <th>10</th>\n",
       "      <td>0.449570</td>\n",
       "      <td>0.347859</td>\n",
       "      <td>0.347187</td>\n",
       "      <td>0.347187</td>\n",
       "    </tr>\n",
       "    <tr>\n",
       "      <th>11</th>\n",
       "      <td>0.675564</td>\n",
       "      <td>0.796676</td>\n",
       "      <td>0.795087</td>\n",
       "      <td>0.795087</td>\n",
       "    </tr>\n",
       "    <tr>\n",
       "      <th>12</th>\n",
       "      <td>-0.061282</td>\n",
       "      <td>-0.141880</td>\n",
       "      <td>-0.142444</td>\n",
       "      <td>-0.142444</td>\n",
       "    </tr>\n",
       "    <tr>\n",
       "      <th>13</th>\n",
       "      <td>0.810963</td>\n",
       "      <td>0.740431</td>\n",
       "      <td>0.740757</td>\n",
       "      <td>0.740757</td>\n",
       "    </tr>\n",
       "    <tr>\n",
       "      <th>14</th>\n",
       "      <td>1.408608</td>\n",
       "      <td>1.468580</td>\n",
       "      <td>1.467806</td>\n",
       "      <td>1.467806</td>\n",
       "    </tr>\n",
       "    <tr>\n",
       "      <th>15</th>\n",
       "      <td>-2.258430</td>\n",
       "      <td>-2.242791</td>\n",
       "      <td>-2.242586</td>\n",
       "      <td>-2.242586</td>\n",
       "    </tr>\n",
       "    <tr>\n",
       "      <th>16</th>\n",
       "      <td>4.677418</td>\n",
       "      <td>4.710169</td>\n",
       "      <td>4.711856</td>\n",
       "      <td>4.711856</td>\n",
       "    </tr>\n",
       "    <tr>\n",
       "      <th>17</th>\n",
       "      <td>0.403793</td>\n",
       "      <td>0.425830</td>\n",
       "      <td>0.425249</td>\n",
       "      <td>0.425249</td>\n",
       "    </tr>\n",
       "  </tbody>\n",
       "</table>\n",
       "</div>"
      ],
      "text/plain": [
       "       skgmm     numpy     torch  lightning\n",
       "0  -0.177812 -0.212716 -0.212372  -0.212372\n",
       "1  -2.630335 -2.505732 -2.505953  -2.505953\n",
       "2   0.244407  0.219610  0.218786   0.218786\n",
       "3   0.060124  0.126913  0.127881   0.127881\n",
       "4  -0.049596 -0.020005 -0.020234  -0.020234\n",
       "5  -0.029421 -0.061361 -0.061332  -0.061332\n",
       "6   0.387513  0.331236  0.330309   0.330309\n",
       "7   2.323282  2.380669  2.381529   2.381529\n",
       "8  -0.012398 -0.012253 -0.012595  -0.012595\n",
       "9  -2.338854 -2.501915 -2.501398  -2.501398\n",
       "10  0.449570  0.347859  0.347187   0.347187\n",
       "11  0.675564  0.796676  0.795087   0.795087\n",
       "12 -0.061282 -0.141880 -0.142444  -0.142444\n",
       "13  0.810963  0.740431  0.740757   0.740757\n",
       "14  1.408608  1.468580  1.467806   1.467806\n",
       "15 -2.258430 -2.242791 -2.242586  -2.242586\n",
       "16  4.677418  4.710169  4.711856   4.711856\n",
       "17  0.403793  0.425830  0.425249   0.425249"
      ]
     },
     "execution_count": 24,
     "metadata": {},
     "output_type": "execute_result"
    }
   ],
   "source": [
    "df_compare_means = pd.DataFrame()\n",
    "df_compare_means[\"skgmm\"] = skgmm.means_[IDX]\n",
    "df_compare_means[\"numpy\"] = means[IDX]\n",
    "df_compare_means[\"torch\"] = trained_model.means[IDX]\n",
    "df_compare_means[\"lightning\"] = gmm_lightning_module.gmm_module.means[IDX]\n",
    "df_compare_means"
   ]
  },
  {
   "cell_type": "code",
   "execution_count": 25,
   "metadata": {},
   "outputs": [
    {
     "data": {
      "text/plain": [
       "tensor([-1.1745e-01, -2.6930e+00,  1.3211e-01,  2.0796e-01,  8.0334e-02,\n",
       "        -4.6100e-03,  2.8707e-01,  2.2114e+00, -2.9962e-02, -2.3726e+00,\n",
       "         3.7961e-01,  4.0148e-01, -4.9165e-03,  7.3653e-01,  1.4565e+00,\n",
       "        -2.3367e+00,  4.8403e+00,  5.3782e-01])"
      ]
     },
     "execution_count": 25,
     "metadata": {},
     "output_type": "execute_result"
    }
   ],
   "source": [
    "gmm_init_params[\"means\"][IDX]"
   ]
  },
  {
   "cell_type": "code",
   "execution_count": 26,
   "metadata": {},
   "outputs": [
    {
     "data": {
      "text/html": [
       "<div>\n",
       "<style scoped>\n",
       "    .dataframe tbody tr th:only-of-type {\n",
       "        vertical-align: middle;\n",
       "    }\n",
       "\n",
       "    .dataframe tbody tr th {\n",
       "        vertical-align: top;\n",
       "    }\n",
       "\n",
       "    .dataframe thead th {\n",
       "        text-align: right;\n",
       "    }\n",
       "</style>\n",
       "<table border=\"1\" class=\"dataframe\">\n",
       "  <thead>\n",
       "    <tr style=\"text-align: right;\">\n",
       "      <th></th>\n",
       "      <th>skgmm</th>\n",
       "      <th>numpy</th>\n",
       "      <th>torch</th>\n",
       "      <th>lightning</th>\n",
       "    </tr>\n",
       "  </thead>\n",
       "  <tbody>\n",
       "    <tr>\n",
       "      <th>0</th>\n",
       "      <td>0.022647</td>\n",
       "      <td>0.022885</td>\n",
       "      <td>0.022873</td>\n",
       "      <td>0.022873</td>\n",
       "    </tr>\n",
       "    <tr>\n",
       "      <th>1</th>\n",
       "      <td>-0.066062</td>\n",
       "      <td>-0.070538</td>\n",
       "      <td>-0.070572</td>\n",
       "      <td>-0.070572</td>\n",
       "    </tr>\n",
       "    <tr>\n",
       "      <th>2</th>\n",
       "      <td>-0.031553</td>\n",
       "      <td>-0.037055</td>\n",
       "      <td>-0.036989</td>\n",
       "      <td>-0.036989</td>\n",
       "    </tr>\n",
       "    <tr>\n",
       "      <th>3</th>\n",
       "      <td>0.034193</td>\n",
       "      <td>0.040163</td>\n",
       "      <td>0.040070</td>\n",
       "      <td>0.040070</td>\n",
       "    </tr>\n",
       "    <tr>\n",
       "      <th>4</th>\n",
       "      <td>0.005880</td>\n",
       "      <td>0.002422</td>\n",
       "      <td>0.002553</td>\n",
       "      <td>0.002553</td>\n",
       "    </tr>\n",
       "    <tr>\n",
       "      <th>5</th>\n",
       "      <td>0.008600</td>\n",
       "      <td>0.007099</td>\n",
       "      <td>0.007122</td>\n",
       "      <td>0.007122</td>\n",
       "    </tr>\n",
       "    <tr>\n",
       "      <th>6</th>\n",
       "      <td>-0.025484</td>\n",
       "      <td>-0.032502</td>\n",
       "      <td>-0.032373</td>\n",
       "      <td>-0.032373</td>\n",
       "    </tr>\n",
       "    <tr>\n",
       "      <th>7</th>\n",
       "      <td>0.024867</td>\n",
       "      <td>0.038144</td>\n",
       "      <td>0.037946</td>\n",
       "      <td>0.037946</td>\n",
       "    </tr>\n",
       "    <tr>\n",
       "      <th>8</th>\n",
       "      <td>-0.008028</td>\n",
       "      <td>-0.010404</td>\n",
       "      <td>-0.010352</td>\n",
       "      <td>-0.010352</td>\n",
       "    </tr>\n",
       "    <tr>\n",
       "      <th>9</th>\n",
       "      <td>0.001745</td>\n",
       "      <td>-0.009538</td>\n",
       "      <td>-0.009610</td>\n",
       "      <td>-0.009610</td>\n",
       "    </tr>\n",
       "    <tr>\n",
       "      <th>10</th>\n",
       "      <td>-0.004443</td>\n",
       "      <td>-0.011328</td>\n",
       "      <td>-0.011214</td>\n",
       "      <td>-0.011214</td>\n",
       "    </tr>\n",
       "    <tr>\n",
       "      <th>11</th>\n",
       "      <td>-0.078811</td>\n",
       "      <td>-0.074499</td>\n",
       "      <td>-0.074424</td>\n",
       "      <td>-0.074424</td>\n",
       "    </tr>\n",
       "    <tr>\n",
       "      <th>12</th>\n",
       "      <td>0.004723</td>\n",
       "      <td>0.001993</td>\n",
       "      <td>0.002088</td>\n",
       "      <td>0.002088</td>\n",
       "    </tr>\n",
       "    <tr>\n",
       "      <th>13</th>\n",
       "      <td>0.024915</td>\n",
       "      <td>0.025441</td>\n",
       "      <td>0.025389</td>\n",
       "      <td>0.025389</td>\n",
       "    </tr>\n",
       "    <tr>\n",
       "      <th>14</th>\n",
       "      <td>-0.008354</td>\n",
       "      <td>-0.008811</td>\n",
       "      <td>-0.008645</td>\n",
       "      <td>-0.008645</td>\n",
       "    </tr>\n",
       "    <tr>\n",
       "      <th>15</th>\n",
       "      <td>-0.029624</td>\n",
       "      <td>-0.034760</td>\n",
       "      <td>-0.034843</td>\n",
       "      <td>-0.034843</td>\n",
       "    </tr>\n",
       "    <tr>\n",
       "      <th>16</th>\n",
       "      <td>-0.023554</td>\n",
       "      <td>-0.010180</td>\n",
       "      <td>-0.010315</td>\n",
       "      <td>-0.010315</td>\n",
       "    </tr>\n",
       "    <tr>\n",
       "      <th>17</th>\n",
       "      <td>-0.003680</td>\n",
       "      <td>-0.000780</td>\n",
       "      <td>-0.000671</td>\n",
       "      <td>-0.000671</td>\n",
       "    </tr>\n",
       "  </tbody>\n",
       "</table>\n",
       "</div>"
      ],
      "text/plain": [
       "       skgmm     numpy     torch  lightning\n",
       "0   0.022647  0.022885  0.022873   0.022873\n",
       "1  -0.066062 -0.070538 -0.070572  -0.070572\n",
       "2  -0.031553 -0.037055 -0.036989  -0.036989\n",
       "3   0.034193  0.040163  0.040070   0.040070\n",
       "4   0.005880  0.002422  0.002553   0.002553\n",
       "5   0.008600  0.007099  0.007122   0.007122\n",
       "6  -0.025484 -0.032502 -0.032373  -0.032373\n",
       "7   0.024867  0.038144  0.037946   0.037946\n",
       "8  -0.008028 -0.010404 -0.010352  -0.010352\n",
       "9   0.001745 -0.009538 -0.009610  -0.009610\n",
       "10 -0.004443 -0.011328 -0.011214  -0.011214\n",
       "11 -0.078811 -0.074499 -0.074424  -0.074424\n",
       "12  0.004723  0.001993  0.002088   0.002088\n",
       "13  0.024915  0.025441  0.025389   0.025389\n",
       "14 -0.008354 -0.008811 -0.008645  -0.008645\n",
       "15 -0.029624 -0.034760 -0.034843  -0.034843\n",
       "16 -0.023554 -0.010180 -0.010315  -0.010315\n",
       "17 -0.003680 -0.000780 -0.000671  -0.000671"
      ]
     },
     "execution_count": 26,
     "metadata": {},
     "output_type": "execute_result"
    }
   ],
   "source": [
    "df_compare_covar = pd.DataFrame()\n",
    "df_compare_covar[\"skgmm\"] = skgmm.covariances_[IDX][0]\n",
    "df_compare_covar[\"numpy\"] = covar[IDX][0]\n",
    "df_compare_covar[\"torch\"] = trained_model.covariances.detach().numpy()[IDX][0]\n",
    "df_compare_covar[\"lightning\"] = gmm_lightning_module.gmm_module.covariances.detach().numpy()[IDX][0]\n",
    "df_compare_covar"
   ]
  },
  {
   "cell_type": "code",
   "execution_count": 27,
   "metadata": {},
   "outputs": [
    {
     "data": {
      "text/html": [
       "<div>\n",
       "<style scoped>\n",
       "    .dataframe tbody tr th:only-of-type {\n",
       "        vertical-align: middle;\n",
       "    }\n",
       "\n",
       "    .dataframe tbody tr th {\n",
       "        vertical-align: top;\n",
       "    }\n",
       "\n",
       "    .dataframe thead th {\n",
       "        text-align: right;\n",
       "    }\n",
       "</style>\n",
       "<table border=\"1\" class=\"dataframe\">\n",
       "  <thead>\n",
       "    <tr style=\"text-align: right;\">\n",
       "      <th></th>\n",
       "      <th>skgmm</th>\n",
       "      <th>numpy</th>\n",
       "      <th>torch</th>\n",
       "      <th>lightning</th>\n",
       "    </tr>\n",
       "  </thead>\n",
       "  <tbody>\n",
       "    <tr>\n",
       "      <th>0</th>\n",
       "      <td>6.645059</td>\n",
       "      <td>6.610355</td>\n",
       "      <td>6.612116</td>\n",
       "      <td>6.612116</td>\n",
       "    </tr>\n",
       "    <tr>\n",
       "      <th>1</th>\n",
       "      <td>4.610498</td>\n",
       "      <td>4.368615</td>\n",
       "      <td>4.367012</td>\n",
       "      <td>4.367012</td>\n",
       "    </tr>\n",
       "    <tr>\n",
       "      <th>2</th>\n",
       "      <td>5.306633</td>\n",
       "      <td>6.294993</td>\n",
       "      <td>6.288661</td>\n",
       "      <td>6.288661</td>\n",
       "    </tr>\n",
       "    <tr>\n",
       "      <th>3</th>\n",
       "      <td>-0.631353</td>\n",
       "      <td>-0.398878</td>\n",
       "      <td>-0.395308</td>\n",
       "      <td>-0.395308</td>\n",
       "    </tr>\n",
       "    <tr>\n",
       "      <th>4</th>\n",
       "      <td>-3.371952</td>\n",
       "      <td>-3.881848</td>\n",
       "      <td>-3.935514</td>\n",
       "      <td>-3.935514</td>\n",
       "    </tr>\n",
       "    <tr>\n",
       "      <th>5</th>\n",
       "      <td>-14.655278</td>\n",
       "      <td>-12.413238</td>\n",
       "      <td>-12.399793</td>\n",
       "      <td>-12.399793</td>\n",
       "    </tr>\n",
       "    <tr>\n",
       "      <th>6</th>\n",
       "      <td>10.701320</td>\n",
       "      <td>9.999307</td>\n",
       "      <td>10.014248</td>\n",
       "      <td>10.014248</td>\n",
       "    </tr>\n",
       "    <tr>\n",
       "      <th>7</th>\n",
       "      <td>8.580544</td>\n",
       "      <td>6.946692</td>\n",
       "      <td>6.951899</td>\n",
       "      <td>6.951899</td>\n",
       "    </tr>\n",
       "    <tr>\n",
       "      <th>8</th>\n",
       "      <td>1.601643</td>\n",
       "      <td>3.532776</td>\n",
       "      <td>3.516963</td>\n",
       "      <td>3.516963</td>\n",
       "    </tr>\n",
       "    <tr>\n",
       "      <th>9</th>\n",
       "      <td>-7.043057</td>\n",
       "      <td>-6.561041</td>\n",
       "      <td>-6.538032</td>\n",
       "      <td>-6.538032</td>\n",
       "    </tr>\n",
       "    <tr>\n",
       "      <th>10</th>\n",
       "      <td>1.561974</td>\n",
       "      <td>4.005077</td>\n",
       "      <td>4.005848</td>\n",
       "      <td>4.005848</td>\n",
       "    </tr>\n",
       "    <tr>\n",
       "      <th>11</th>\n",
       "      <td>5.829812</td>\n",
       "      <td>5.304793</td>\n",
       "      <td>5.319723</td>\n",
       "      <td>5.319723</td>\n",
       "    </tr>\n",
       "    <tr>\n",
       "      <th>12</th>\n",
       "      <td>-9.063113</td>\n",
       "      <td>-7.404270</td>\n",
       "      <td>-7.390814</td>\n",
       "      <td>-7.390814</td>\n",
       "    </tr>\n",
       "    <tr>\n",
       "      <th>13</th>\n",
       "      <td>-3.261489</td>\n",
       "      <td>-1.128210</td>\n",
       "      <td>-1.148718</td>\n",
       "      <td>-1.148718</td>\n",
       "    </tr>\n",
       "    <tr>\n",
       "      <th>14</th>\n",
       "      <td>5.297851</td>\n",
       "      <td>0.733817</td>\n",
       "      <td>0.713779</td>\n",
       "      <td>0.713779</td>\n",
       "    </tr>\n",
       "    <tr>\n",
       "      <th>15</th>\n",
       "      <td>-3.590018</td>\n",
       "      <td>-2.616844</td>\n",
       "      <td>-2.619453</td>\n",
       "      <td>-2.619453</td>\n",
       "    </tr>\n",
       "    <tr>\n",
       "      <th>16</th>\n",
       "      <td>6.422232</td>\n",
       "      <td>2.742836</td>\n",
       "      <td>2.744523</td>\n",
       "      <td>2.744523</td>\n",
       "    </tr>\n",
       "    <tr>\n",
       "      <th>17</th>\n",
       "      <td>1.030066</td>\n",
       "      <td>-5.327221</td>\n",
       "      <td>-5.333878</td>\n",
       "      <td>-5.333878</td>\n",
       "    </tr>\n",
       "  </tbody>\n",
       "</table>\n",
       "</div>"
      ],
      "text/plain": [
       "        skgmm      numpy      torch  lightning\n",
       "0    6.645059   6.610355   6.612116   6.612116\n",
       "1    4.610498   4.368615   4.367012   4.367012\n",
       "2    5.306633   6.294993   6.288661   6.288661\n",
       "3   -0.631353  -0.398878  -0.395308  -0.395308\n",
       "4   -3.371952  -3.881848  -3.935514  -3.935514\n",
       "5  -14.655278 -12.413238 -12.399793 -12.399793\n",
       "6   10.701320   9.999307  10.014248  10.014248\n",
       "7    8.580544   6.946692   6.951899   6.951899\n",
       "8    1.601643   3.532776   3.516963   3.516963\n",
       "9   -7.043057  -6.561041  -6.538032  -6.538032\n",
       "10   1.561974   4.005077   4.005848   4.005848\n",
       "11   5.829812   5.304793   5.319723   5.319723\n",
       "12  -9.063113  -7.404270  -7.390814  -7.390814\n",
       "13  -3.261489  -1.128210  -1.148718  -1.148718\n",
       "14   5.297851   0.733817   0.713779   0.713779\n",
       "15  -3.590018  -2.616844  -2.619453  -2.619453\n",
       "16   6.422232   2.742836   2.744523   2.744523\n",
       "17   1.030066  -5.327221  -5.333878  -5.333878"
      ]
     },
     "execution_count": 27,
     "metadata": {},
     "output_type": "execute_result"
    }
   ],
   "source": [
    "df_compare_pre_chol = pd.DataFrame()\n",
    "df_compare_pre_chol[\"skgmm\"] = skgmm.precisions_cholesky_[IDX][0]\n",
    "df_compare_pre_chol[\"numpy\"] = prec_chol[IDX][0]\n",
    "df_compare_pre_chol[\"torch\"] = trained_model.precision_cholesky.detach().numpy()[IDX][0]\n",
    "df_compare_pre_chol[\"lightning\"] = gmm_lightning_module.gmm_module.precision_cholesky.detach().numpy()[IDX][0]\n",
    "df_compare_pre_chol"
   ]
  },
  {
   "cell_type": "code",
   "execution_count": 28,
   "metadata": {},
   "outputs": [
    {
     "data": {
      "text/html": [
       "<div>\n",
       "<style scoped>\n",
       "    .dataframe tbody tr th:only-of-type {\n",
       "        vertical-align: middle;\n",
       "    }\n",
       "\n",
       "    .dataframe tbody tr th {\n",
       "        vertical-align: top;\n",
       "    }\n",
       "\n",
       "    .dataframe thead th {\n",
       "        text-align: right;\n",
       "    }\n",
       "</style>\n",
       "<table border=\"1\" class=\"dataframe\">\n",
       "  <thead>\n",
       "    <tr style=\"text-align: right;\">\n",
       "      <th></th>\n",
       "      <th>skgmm</th>\n",
       "      <th>numpy</th>\n",
       "      <th>torch</th>\n",
       "      <th>lightning</th>\n",
       "    </tr>\n",
       "  </thead>\n",
       "  <tbody>\n",
       "    <tr>\n",
       "      <th>0</th>\n",
       "      <td>0.004938</td>\n",
       "      <td>0.005264</td>\n",
       "      <td>0.005259</td>\n",
       "      <td>0.005259</td>\n",
       "    </tr>\n",
       "    <tr>\n",
       "      <th>1</th>\n",
       "      <td>0.000120</td>\n",
       "      <td>0.000120</td>\n",
       "      <td>0.000120</td>\n",
       "      <td>0.000120</td>\n",
       "    </tr>\n",
       "    <tr>\n",
       "      <th>2</th>\n",
       "      <td>0.002965</td>\n",
       "      <td>0.002925</td>\n",
       "      <td>0.002924</td>\n",
       "      <td>0.002924</td>\n",
       "    </tr>\n",
       "    <tr>\n",
       "      <th>3</th>\n",
       "      <td>0.001440</td>\n",
       "      <td>0.001375</td>\n",
       "      <td>0.001375</td>\n",
       "      <td>0.001375</td>\n",
       "    </tr>\n",
       "    <tr>\n",
       "      <th>4</th>\n",
       "      <td>0.001119</td>\n",
       "      <td>0.001119</td>\n",
       "      <td>0.001119</td>\n",
       "      <td>0.001119</td>\n",
       "    </tr>\n",
       "    <tr>\n",
       "      <th>5</th>\n",
       "      <td>0.000200</td>\n",
       "      <td>0.000200</td>\n",
       "      <td>0.000200</td>\n",
       "      <td>0.000200</td>\n",
       "    </tr>\n",
       "    <tr>\n",
       "      <th>6</th>\n",
       "      <td>0.007004</td>\n",
       "      <td>0.005061</td>\n",
       "      <td>0.005051</td>\n",
       "      <td>0.005051</td>\n",
       "    </tr>\n",
       "    <tr>\n",
       "      <th>7</th>\n",
       "      <td>0.000040</td>\n",
       "      <td>0.000040</td>\n",
       "      <td>0.000040</td>\n",
       "      <td>0.000040</td>\n",
       "    </tr>\n",
       "    <tr>\n",
       "      <th>8</th>\n",
       "      <td>0.001442</td>\n",
       "      <td>0.001443</td>\n",
       "      <td>0.001443</td>\n",
       "      <td>0.001443</td>\n",
       "    </tr>\n",
       "    <tr>\n",
       "      <th>9</th>\n",
       "      <td>0.000080</td>\n",
       "      <td>0.000080</td>\n",
       "      <td>0.000080</td>\n",
       "      <td>0.000080</td>\n",
       "    </tr>\n",
       "  </tbody>\n",
       "</table>\n",
       "</div>"
      ],
      "text/plain": [
       "      skgmm     numpy     torch  lightning\n",
       "0  0.004938  0.005264  0.005259   0.005259\n",
       "1  0.000120  0.000120  0.000120   0.000120\n",
       "2  0.002965  0.002925  0.002924   0.002924\n",
       "3  0.001440  0.001375  0.001375   0.001375\n",
       "4  0.001119  0.001119  0.001119   0.001119\n",
       "5  0.000200  0.000200  0.000200   0.000200\n",
       "6  0.007004  0.005061  0.005051   0.005051\n",
       "7  0.000040  0.000040  0.000040   0.000040\n",
       "8  0.001442  0.001443  0.001443   0.001443\n",
       "9  0.000080  0.000080  0.000080   0.000080"
      ]
     },
     "execution_count": 28,
     "metadata": {},
     "output_type": "execute_result"
    }
   ],
   "source": [
    "df_compare_weights = pd.DataFrame()\n",
    "df_compare_weights[\"skgmm\"] = skgmm.weights_[:10]\n",
    "df_compare_weights[\"numpy\"] = weights[:10]\n",
    "df_compare_weights[\"torch\"] = trained_model.weights[:10]\n",
    "df_compare_weights[\"lightning\"] = gmm_lightning_module.gmm_module.weights.detach().numpy()[:10]\n",
    "df_compare_weights"
   ]
  },
  {
   "cell_type": "markdown",
   "metadata": {},
   "source": [
    "# Sampling"
   ]
  },
  {
   "cell_type": "code",
   "execution_count": 29,
   "metadata": {},
   "outputs": [],
   "source": [
    "def sample(means_, covariances_, weights_, n_samples):\n",
    "    rng = np.random.RandomState(RANDOM_STATE)\n",
    "    n_samples_comp = rng.multinomial(n_samples, weights_)\n",
    "    \n",
    "    X = np.vstack(\n",
    "            [\n",
    "                rng.multivariate_normal(mean, covariance, int(sample))\n",
    "                for (mean, covariance, sample) in zip(\n",
    "                    means_, covariances_, n_samples_comp\n",
    "                )\n",
    "            ]\n",
    "        )\n",
    "    \n",
    "    y = np.concatenate(\n",
    "        [np.full(sample, j, dtype=int) for j, sample in enumerate(n_samples_comp)]\n",
    "    )\n",
    "    return (X, y)"
   ]
  },
  {
   "cell_type": "code",
   "execution_count": 30,
   "metadata": {},
   "outputs": [],
   "source": [
    "def torch_sample(means_, covariances_, weights_, n_samples):\n",
    "    # Set up the random generator with a specified seed\n",
    "    generator = torch.Generator().manual_seed(RANDOM_STATE)\n",
    "    \n",
    "    # Sample component counts from the multinomial distribution\n",
    "    n_samples_comp = torch.multinomial(weights_, n_samples, replacement=True, generator=generator).bincount(minlength=len(weights_))\n",
    "    \n",
    "    # Initialize lists to collect samples and labels\n",
    "    X = []\n",
    "    y = []\n",
    "    \n",
    "    # Sample from each component based on the number of samples\n",
    "    for j, (mean, covariance, sample_count) in enumerate(zip(means_, covariances_, n_samples_comp)):\n",
    "        if sample_count > 0:  # Only sample if we need samples from this component\n",
    "            dist = torch.distributions.MultivariateNormal(\n",
    "                mean, covariance\n",
    "            )\n",
    "            samples = dist.sample((sample_count,))\n",
    "            X.append(samples)\n",
    "            y.append(torch.full((sample_count,), j, dtype=torch.int64))\n",
    "    \n",
    "    # Concatenate all samples and labels into single tensors\n",
    "    X = torch.vstack(X)\n",
    "    y = torch.cat(y)\n",
    "    \n",
    "    return X, y"
   ]
  },
  {
   "cell_type": "code",
   "execution_count": 31,
   "metadata": {},
   "outputs": [],
   "source": [
    "N_SAMPLES = 250"
   ]
  },
  {
   "cell_type": "code",
   "execution_count": 32,
   "metadata": {},
   "outputs": [
    {
     "data": {
      "text/plain": [
       "(array([-1.12875661e-01, -3.12396643e+00,  4.06773316e-04,  2.82460393e-01,\n",
       "         1.16172226e-01, -8.79575001e-02,  2.30796585e-01,  2.46989285e+00,\n",
       "        -8.22130688e-02, -2.84766877e+00,  3.78023198e-01,  5.54822997e-01,\n",
       "         9.32978802e-02,  8.86258616e-01,  1.68589723e+00, -2.69251050e+00,\n",
       "         3.42595060e+00,  6.72179315e-01]),\n",
       " 0)"
      ]
     },
     "execution_count": 32,
     "metadata": {},
     "output_type": "execute_result"
    }
   ],
   "source": [
    "skgmm_samples = sample(skgmm.means_, skgmm.covariances_, skgmm.weights_, n_samples = N_SAMPLES)\n",
    "\n",
    "skgmm_X, skgmm_y = skgmm_samples\n",
    "skgmm_X[IDX], skgmm_y[IDX]"
   ]
  },
  {
   "cell_type": "code",
   "execution_count": 33,
   "metadata": {},
   "outputs": [
    {
     "data": {
      "text/plain": [
       "(array([-0.1912099 , -2.71073442,  0.79864298, -0.44077533,  0.11529497,\n",
       "         0.00573171,  0.92426352,  2.063336  ,  0.12719504, -2.50545085,\n",
       "         0.88694172,  1.28716994,  0.23383632,  0.83769176,  1.87811581,\n",
       "        -2.51606552,  4.87421859,  0.22942809]),\n",
       " 0)"
      ]
     },
     "execution_count": 33,
     "metadata": {},
     "output_type": "execute_result"
    }
   ],
   "source": [
    "samples = sample(means, covar, weights, n_samples = N_SAMPLES)\n",
    "\n",
    "X, y = samples\n",
    "X[IDX], y[IDX]"
   ]
  },
  {
   "cell_type": "code",
   "execution_count": 34,
   "metadata": {},
   "outputs": [
    {
     "data": {
      "text/plain": [
       "(tensor([-1.3360e-01, -2.7357e+00,  5.0481e-01, -3.0986e-01, -4.0325e-01,\n",
       "          5.5966e-02,  5.2489e-01,  1.7848e+00,  2.3873e-03, -1.9278e+00,\n",
       "          6.8150e-01,  8.2515e-01,  6.2167e-01,  6.8055e-01,  1.0813e+00,\n",
       "         -2.2938e+00,  6.7474e+00,  1.9539e-01]),\n",
       " tensor(0))"
      ]
     },
     "execution_count": 34,
     "metadata": {},
     "output_type": "execute_result"
    }
   ],
   "source": [
    "train_model_samples = torch_sample(trained_model.means, trained_model.covariances, trained_model.weights, n_samples = N_SAMPLES)\n",
    "train_model_X, train_model_y = train_model_samples\n",
    "train_model_X[IDX], train_model_y[IDX]"
   ]
  },
  {
   "cell_type": "code",
   "execution_count": 35,
   "metadata": {},
   "outputs": [
    {
     "data": {
      "text/plain": [
       "(tensor([-1.3360e-01, -2.7357e+00,  5.0481e-01, -3.0986e-01, -4.0325e-01,\n",
       "          5.5966e-02,  5.2489e-01,  1.7848e+00,  2.3873e-03, -1.9278e+00,\n",
       "          6.8150e-01,  8.2515e-01,  6.2167e-01,  6.8055e-01,  1.0813e+00,\n",
       "         -2.2938e+00,  6.7474e+00,  1.9539e-01]),\n",
       " tensor(0))"
      ]
     },
     "execution_count": 35,
     "metadata": {},
     "output_type": "execute_result"
    }
   ],
   "source": [
    "gmm_lightning_samples = torch_sample(gmm_lightning_module.gmm_module.means, gmm_lightning_module.gmm_module.covariances, gmm_lightning_module.gmm_module.weights, n_samples = N_SAMPLES)\n",
    "gmm_lightning_X, gmm_lightning_y = train_model_samples\n",
    "gmm_lightning_X[IDX], gmm_lightning_y[IDX]"
   ]
  },
  {
   "cell_type": "code",
   "execution_count": null,
   "metadata": {},
   "outputs": [],
   "source": []
  }
 ],
 "metadata": {
  "kernelspec": {
   "display_name": "OpenSynth-BNsxhSIM",
   "language": "python",
   "name": "python3"
  },
  "language_info": {
   "codemirror_mode": {
    "name": "ipython",
    "version": 3
   },
   "file_extension": ".py",
   "mimetype": "text/x-python",
   "name": "python",
   "nbconvert_exporter": "python",
   "pygments_lexer": "ipython3",
   "version": "3.11.9"
  }
 },
 "nbformat": 4,
 "nbformat_minor": 2
}
