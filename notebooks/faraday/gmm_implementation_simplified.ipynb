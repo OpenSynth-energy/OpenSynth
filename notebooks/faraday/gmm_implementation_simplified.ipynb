{
 "cells": [
  {
   "cell_type": "code",
   "execution_count": 13,
   "metadata": {},
   "outputs": [
    {
     "name": "stdout",
     "output_type": "stream",
     "text": [
      "The autoreload extension is already loaded. To reload it, use:\n",
      "  %reload_ext autoreload\n"
     ]
    }
   ],
   "source": [
    "%load_ext autoreload\n",
    "%autoreload 2"
   ]
  },
  {
   "cell_type": "code",
   "execution_count": 14,
   "metadata": {},
   "outputs": [],
   "source": [
    "import pandas as pd\n",
    "full_data = pd.read_csv(\"../../data/processed/historical/train/lcl_data.csv\")\n",
    "df_25K = full_data.sample(25000, random_state=0)\n",
    "df_25K.to_csv(\"../../data/processed/historical/train/lcl_data_25K.csv\", index=False)"
   ]
  },
  {
   "cell_type": "markdown",
   "metadata": {},
   "source": [
    "# Load Data"
   ]
  },
  {
   "cell_type": "code",
   "execution_count": 15,
   "metadata": {},
   "outputs": [],
   "source": [
    "import torch\n",
    "import numpy as np\n",
    "import random\n",
    "RANDOM_STATE = 0\n",
    "torch.manual_seed(RANDOM_STATE)\n",
    "torch.use_deterministic_algorithms(True)\n",
    "g = torch.Generator()\n",
    "g.manual_seed(RANDOM_STATE)\n",
    "\n",
    "def seed_worker(worker_id):\n",
    "    worker_seed = torch.initial_seed() % 2**32\n",
    "    np.random.seed(worker_seed)\n",
    "    random.seed(worker_seed)"
   ]
  },
  {
   "cell_type": "code",
   "execution_count": 16,
   "metadata": {},
   "outputs": [],
   "source": [
    "from pathlib import Path\n",
    "from opensynth.data_modules.lcl_data_module import LCLDataModule\n",
    "import pytorch_lightning as pl\n",
    "\n",
    "import matplotlib.pyplot as plt\n",
    "\n",
    "data_path = Path(\"../../data/processed/historical/train/lcl_data_25K.csv\")\n",
    "stats_path = Path(\"../../data/processed/historical/train/mean_std.csv\")\n",
    "outlier_path = Path(\"../../data/processed/historical/train/outliers.csv\")\n",
    "\n",
    "dm = LCLDataModule(data_path=data_path, stats_path=stats_path, batch_size=25000, n_samples=25000)\n",
    "dm.setup()"
   ]
  },
  {
   "cell_type": "code",
   "execution_count": 17,
   "metadata": {},
   "outputs": [
    {
     "name": "stderr",
     "output_type": "stream",
     "text": [
      "/var/folders/w2/2x1gj41j1xb5z153q5m_4rn80000gn/T/ipykernel_47063/2311655816.py:3: FutureWarning: You are using `torch.load` with `weights_only=False` (the current default value), which uses the default pickle module implicitly. It is possible to construct malicious pickle data which will execute arbitrary code during unpickling (See https://github.com/pytorch/pytorch/blob/main/SECURITY.md#untrusted-models for more details). In a future release, the default value for `weights_only` will be flipped to `True`. This limits the functions that could be executed during unpickling. Arbitrary objects will no longer be allowed to be loaded via this mode unless they are explicitly allowlisted by the user via `torch.serialization.add_safe_globals`. We recommend you start setting `weights_only=True` for any use case where you don't have full control of the loaded file. Please open an issue on GitHub for any issues related to this experimental feature.\n",
      "  vae_model = torch.load(\"vae_model.pt\")\n"
     ]
    },
    {
     "data": {
      "text/plain": [
       "FaradayVAE(\n",
       "  (encoder): Encoder(\n",
       "    (encoder_layers): Sequential(\n",
       "      (0): Linear(in_features=50, out_features=512, bias=True)\n",
       "      (1): GELU(approximate='none')\n",
       "      (2): Linear(in_features=512, out_features=256, bias=True)\n",
       "      (3): GELU(approximate='none')\n",
       "      (4): Linear(in_features=256, out_features=128, bias=True)\n",
       "      (5): GELU(approximate='none')\n",
       "      (6): Linear(in_features=128, out_features=64, bias=True)\n",
       "      (7): GELU(approximate='none')\n",
       "      (8): Linear(in_features=64, out_features=32, bias=True)\n",
       "      (9): GELU(approximate='none')\n",
       "      (10): Linear(in_features=32, out_features=16, bias=True)\n",
       "    )\n",
       "  )\n",
       "  (decoder): Decoder(\n",
       "    (latent): Linear(in_features=18, out_features=16, bias=True)\n",
       "    (latent_activations): GELU(approximate='none')\n",
       "    (decoder_layers): Sequential(\n",
       "      (0): Linear(in_features=16, out_features=32, bias=True)\n",
       "      (1): GELU(approximate='none')\n",
       "      (2): Linear(in_features=32, out_features=64, bias=True)\n",
       "      (3): GELU(approximate='none')\n",
       "      (4): Linear(in_features=64, out_features=128, bias=True)\n",
       "      (5): GELU(approximate='none')\n",
       "      (6): Linear(in_features=128, out_features=256, bias=True)\n",
       "      (7): GELU(approximate='none')\n",
       "      (8): Linear(in_features=256, out_features=512, bias=True)\n",
       "      (9): GELU(approximate='none')\n",
       "      (10): Linear(in_features=512, out_features=48, bias=True)\n",
       "    )\n",
       "  )\n",
       "  (reparametriser): ReparametrisationModule(\n",
       "    (mean): Linear(in_features=16, out_features=16, bias=True)\n",
       "    (logvar): Linear(in_features=16, out_features=16, bias=True)\n",
       "  )\n",
       ")"
      ]
     },
     "execution_count": 17,
     "metadata": {},
     "output_type": "execute_result"
    }
   ],
   "source": [
    "import torch\n",
    "from opensynth.models.faraday import FaradayVAE\n",
    "vae_model = torch.load(\"vae_model.pt\")\n",
    "vae_model.eval()"
   ]
  },
  {
   "cell_type": "code",
   "execution_count": 18,
   "metadata": {},
   "outputs": [],
   "source": [
    "from opensynth.models.faraday.gaussian_mixture.prepare_gmm_input import encode_data_for_gmm\n",
    "\n",
    "next_batch = next(iter(dm.train_dataloader()))\n",
    "input_tensor = encode_data_for_gmm(data=next_batch, vae_module=vae_model)\n",
    "input_data = input_tensor.detach().numpy()\n",
    "n_samples = len(input_tensor)"
   ]
  },
  {
   "cell_type": "code",
   "execution_count": 66,
   "metadata": {},
   "outputs": [],
   "source": [
    "N_COMPONENTS = 250\n",
    "REG_COVAR = 1e-4\n",
    "EPOCHS = 25\n",
    "IDX = 0\n",
    "CONVERGENCE_TOL = 1e-2\n"
   ]
  },
  {
   "cell_type": "code",
   "execution_count": 12,
   "metadata": {},
   "outputs": [
    {
     "data": {
      "text/plain": [
       "tensor(0.0195, grad_fn=<SelectBackward0>)"
      ]
     },
     "execution_count": 12,
     "metadata": {},
     "output_type": "execute_result"
    }
   ],
   "source": [
    "input_tensor[0][0]"
   ]
  },
  {
   "cell_type": "markdown",
   "metadata": {},
   "source": [
    "# Init GMM"
   ]
  },
  {
   "cell_type": "code",
   "execution_count": 20,
   "metadata": {},
   "outputs": [
    {
     "name": "stdout",
     "output_type": "stream",
     "text": [
      "torch.float32 torch.float32 torch.float32\n"
     ]
    }
   ],
   "source": [
    "from opensynth.models.faraday.new_gmm import gmm_utils\n",
    "\n",
    "labels_, means_, responsibilities_ = gmm_utils.initialise_centroids(\n",
    "        X=input_data, n_components=N_COMPONENTS\n",
    "    )\n",
    "print(labels_.dtype, responsibilities_.dtype, means_.dtype)"
   ]
  },
  {
   "cell_type": "code",
   "execution_count": 21,
   "metadata": {},
   "outputs": [
    {
     "name": "stdout",
     "output_type": "stream",
     "text": [
      "tensor(4.1672)\n",
      "tensor(1.)\n"
     ]
    }
   ],
   "source": [
    "from opensynth.models.faraday.new_gmm.train_gmm import initialise_gmm_params\n",
    "\n",
    "gmm_init_params = initialise_gmm_params(\n",
    "    X=input_data,\n",
    "    n_components = N_COMPONENTS,\n",
    "    reg_covar=REG_COVAR,\n",
    ")\n",
    "print(gmm_init_params[\"precision_cholesky\"][IDX][0][0])\n",
    "print(gmm_init_params[\"weights\"].sum())"
   ]
  },
  {
   "cell_type": "code",
   "execution_count": 22,
   "metadata": {},
   "outputs": [
    {
     "name": "stderr",
     "output_type": "stream",
     "text": [
      "100%|██████████| 25/25 [00:08<00:00,  2.89it/s]\n"
     ]
    }
   ],
   "source": [
    "from opensynth.models.faraday.new_gmm.train_gmm import initialise_gmm_params, training_loop\n",
    "from opensynth.models.faraday.new_gmm.new_gmm_model import GaussianMixtureModel\n",
    "\n",
    "\n",
    "gmm_init_params = initialise_gmm_params(\n",
    "    X=input_data,\n",
    "    n_components = N_COMPONENTS,\n",
    "    reg_covar=REG_COVAR,\n",
    ")\n",
    "torch_gmm = GaussianMixtureModel(\n",
    "    num_components=N_COMPONENTS,\n",
    "    num_features = input_data.shape[1],\n",
    "    reg_covar=REG_COVAR,\n",
    "    print_idx=IDX\n",
    ")\n",
    "torch_gmm.initialise(gmm_init_params)\n",
    "trained_model = training_loop(model=torch_gmm, data=input_tensor, max_iter=EPOCHS)"
   ]
  },
  {
   "cell_type": "markdown",
   "metadata": {},
   "source": [
    "# SK Learn GMM Manual"
   ]
  },
  {
   "cell_type": "code",
   "execution_count": 23,
   "metadata": {},
   "outputs": [],
   "source": [
    "import numpy as np\n",
    "from scipy.special import logsumexp\n",
    "from scipy import linalg\n",
    "\n",
    "def _estimate_gaussian_parameters(X, resp, reg_covar=REG_COVAR):\n",
    "    nk = resp.sum(axis=0) + 10 * np.finfo(resp.dtype).eps\n",
    "    means = np.dot(resp.T, X) / nk[:, np.newaxis]\n",
    "    n_components, n_features = means.shape\n",
    "    covariances = np.empty((n_components, n_features, n_features))\n",
    "    for k in range(n_components):\n",
    "        diff = X - means[k]\n",
    "        covariances[k] = np.dot(resp[:, k] * diff.T, diff) / nk[k]\n",
    "        covariances[k].flat[:: n_features + 1] += reg_covar\n",
    "    return nk, means, covariances\n",
    "\n",
    "def _compute_precision_cholesky(covariances):\n",
    "    estimate_precision_error_message = (\n",
    "        \"Fitting the mixture model failed because some components have \"\n",
    "        \"ill-defined empirical covariance (for instance caused by singleton \"\n",
    "        \"or collapsed samples). Try to decrease the number of components, \"\n",
    "        \"or increase reg_covar.\"\n",
    "    )\n",
    "\n",
    "    n_components, n_features, _ = covariances.shape\n",
    "    precisions_chol = np.empty((n_components, n_features, n_features))\n",
    "    for k, covariance in enumerate(covariances):\n",
    "        try:\n",
    "            cov_chol = linalg.cholesky(covariance, lower=True)\n",
    "        except linalg.LinAlgError:\n",
    "            raise ValueError(estimate_precision_error_message)\n",
    "        precisions_chol[k] = linalg.solve_triangular(\n",
    "            cov_chol, np.eye(n_features), lower=True\n",
    "        ).T\n",
    "    return precisions_chol\n",
    "\n",
    "def _compute_log_det_cholesky(matrix_chol, n_features):\n",
    "    n_components, _, _ = matrix_chol.shape\n",
    "    log_det_chol = np.sum(\n",
    "        np.log(matrix_chol.reshape(n_components, -1)[:, :: n_features + 1]), 1\n",
    "    )\n",
    "    return log_det_chol\n",
    "\n",
    "def _estimate_log_gaussian_prob(X, means, precisions_chol):\n",
    "    n_samples, n_features = X.shape\n",
    "    n_components, _ = means.shape\n",
    "\n",
    "    log_det = _compute_log_det_cholesky(precisions_chol, n_features)\n",
    "\n",
    "    log_prob = np.empty((n_samples, n_components))\n",
    "    for k, (mu, prec_chol) in enumerate(zip(means, precisions_chol)):\n",
    "        y = np.dot(X, prec_chol) - np.dot(mu, prec_chol)\n",
    "        log_prob[:, k] = np.sum(np.square(y), axis=1)\n",
    "    return -0.5 * (n_features * np.log(2 * np.pi) + log_prob) + log_det\n",
    "\n",
    "def _estimate_log_weights(weights):\n",
    "        return np.log(weights)\n",
    "\n",
    "def _estimate_weighted_log_prob(X, means, precisions_chol, weights):\n",
    "        return _estimate_log_gaussian_prob(X, means, precisions_chol) + _estimate_log_weights(weights)\n",
    "\n",
    "\n",
    "def _estimate_log_prob_resp(X, means, precisions_chol, weights):\n",
    "    weighted_log_prob = _estimate_weighted_log_prob(X, means, precisions_chol, weights)\n",
    "    log_prob_norm = logsumexp(weighted_log_prob, axis=1)\n",
    "    with np.errstate(under=\"ignore\"):\n",
    "        log_resp = weighted_log_prob - log_prob_norm[:, np.newaxis]\n",
    "    return log_prob_norm, log_resp\n",
    "\n",
    "def _e_step(X,means, precisions_chol, weights):\n",
    "    log_prob_norm, log_resp = _estimate_log_prob_resp(X, means, precisions_chol, weights)\n",
    "    return np.mean(log_prob_norm), log_resp\n",
    "\n",
    "def _m_step(X, log_reponsibilities, reg_covar=REG_COVAR):\n",
    "\n",
    "    weights_, means_, covariances_ = _estimate_gaussian_parameters(X,np.exp(log_reponsibilities),reg_covar=reg_covar)\n",
    "\n",
    "    precision_cholesky_ = _compute_precision_cholesky(covariances=covariances_)\n",
    "\n",
    "    return precision_cholesky_, weights_, means_"
   ]
  },
  {
   "cell_type": "code",
   "execution_count": 68,
   "metadata": {},
   "outputs": [
    {
     "name": "stdout",
     "output_type": "stream",
     "text": [
      "Initial prec chol: 4.156552314758301. Initial mean: 0.18224604427814484\n",
      "Old Prec Chol: 4.156552314758301. Old means: 0.18224604427814484\n",
      "New prec chol: 4.21163155249816. New means: 0.16120435878158323\n",
      "Change: inf\n",
      "Old Prec Chol: 4.21163155249816. Old means: 0.16120435878158323\n",
      "New prec chol: 4.284132502748568. New means: 0.13693155041770586\n",
      "Change: 10.723142805224304\n",
      "Old Prec Chol: 4.284132502748568. Old means: 0.13693155041770586\n",
      "New prec chol: 4.144575468926109. New means: 0.11688720733005029\n",
      "Change: 0.23741509353996193\n",
      "Old Prec Chol: 4.144575468926109. Old means: 0.11688720733005029\n",
      "New prec chol: 3.8862033482301266. New means: 0.09808561390437934\n",
      "Change: 0.15518131910796384\n",
      "Old Prec Chol: 3.8862033482301266. Old means: 0.09808561390437934\n",
      "New prec chol: 3.7472209039770306. New means: 0.08675231976610723\n",
      "Change: 0.11684219461641554\n",
      "Old Prec Chol: 3.7472209039770306. Old means: 0.08675231976610723\n",
      "New prec chol: 3.6843574862228907. New means: 0.0776786422072779\n",
      "Change: 0.09738800686370297\n",
      "Old Prec Chol: 3.6843574862228907. Old means: 0.0776786422072779\n",
      "New prec chol: 3.637417987776543. New means: 0.0705628341570019\n",
      "Change: 0.08625412800453525\n",
      "Old Prec Chol: 3.637417987776543. Old means: 0.0705628341570019\n",
      "New prec chol: 3.5947462711069176. New means: 0.06535574908949938\n",
      "Change: 0.07516564258769165\n",
      "Old Prec Chol: 3.5947462711069176. Old means: 0.06535574908949938\n",
      "New prec chol: 3.55633942505005. New means: 0.06041951728762128\n",
      "Change: 0.05901841828528198\n",
      "Old Prec Chol: 3.55633942505005. Old means: 0.06041951728762128\n",
      "New prec chol: 3.5231391997021118. New means: 0.05507122805469787\n",
      "Change: 0.04860843801579762\n",
      "Old Prec Chol: 3.5231391997021118. Old means: 0.05507122805469787\n",
      "New prec chol: 3.4941932033498846. New means: 0.050102456248847994\n",
      "Change: 0.041554669382984244\n",
      "Old Prec Chol: 3.4941932033498846. Old means: 0.050102456248847994\n",
      "New prec chol: 3.468375316792397. New means: 0.04625664631387174\n",
      "Change: 0.032237465814992206\n",
      "Old Prec Chol: 3.468375316792397. Old means: 0.04625664631387174\n",
      "New prec chol: 3.444901287081387. New means: 0.042955236047743726\n",
      "Change: 0.02719270046411104\n",
      "Old Prec Chol: 3.444901287081387. Old means: 0.042955236047743726\n",
      "New prec chol: 3.423364316154408. New means: 0.04152113460207092\n",
      "Change: 0.023307039119524475\n",
      "Old Prec Chol: 3.423364316154408. Old means: 0.04152113460207092\n",
      "New prec chol: 3.3842602034260225. New means: 0.04321816414794289\n",
      "Change: 0.01755237385029318\n",
      "Old Prec Chol: 3.3842602034260225. Old means: 0.04321816414794289\n",
      "New prec chol: 3.3282454087739604. New means: 0.0480051838543332\n",
      "Change: 0.015401359911054513\n",
      "Old Prec Chol: 3.3282454087739604. Old means: 0.0480051838543332\n",
      "New prec chol: 3.2787302248148618. New means: 0.05367511206959222\n",
      "Change: 0.014397402391141512\n",
      "Old Prec Chol: 3.2787302248148618. Old means: 0.05367511206959222\n",
      "New prec chol: 3.2587744416530247. New means: 0.056159004052447385\n",
      "Change: 0.011717546899342679\n",
      "Old Prec Chol: 3.2587744416530247. Old means: 0.056159004052447385\n",
      "New prec chol: 3.2438972509999764. New means: 0.0576140284741523\n",
      "Change: 0.010329225463712177\n",
      "Old Prec Chol: 3.2438972509999764. Old means: 0.0576140284741523\n",
      "New prec chol: 3.233113976830266. New means: 0.059272290046097\n",
      "Change: 0.008692254990126713\n",
      "Converged: True. Number of iterations: 19\n"
     ]
    }
   ],
   "source": [
    "means = gmm_init_params[\"means\"].detach().numpy()\n",
    "weights = gmm_init_params[\"weights\"].detach().numpy()\n",
    "prec_chol = gmm_init_params[\"precision_cholesky\"].detach().numpy()\n",
    "\n",
    "print(f\"Initial prec chol: {prec_chol[IDX][0][0]}. Initial mean: {means[IDX][0]}\")\n",
    "\n",
    "converged = False\n",
    "lower_bound = -np.inf\n",
    "\n",
    "for i in range(EPOCHS):\n",
    "    prev_lower_bound = lower_bound\n",
    "\n",
    "    print(f\"Old Prec Chol: {prec_chol[IDX][0][0]}. Old means: {means[IDX][0]}\")\n",
    "    log_prob, log_resp = _e_step(input_data, means, prec_chol, weights)\n",
    "    prec_chol, weights, means = _m_step(input_data, log_resp)\n",
    "\n",
    "    print(f\"New prec chol: {prec_chol[IDX][0][0]}. New means: {means[IDX][0]}\")\n",
    "\n",
    "    # Converegence\n",
    "    lower_bound = log_prob\n",
    "    change = abs(lower_bound - prev_lower_bound)\n",
    "    print(f\"Change: {change}\")\n",
    "    if change < CONVERGENCE_TOL:\n",
    "        converged = True\n",
    "        break\n",
    "\n",
    "print(f'Converged: {converged}. Number of iterations: {i}')"
   ]
  },
  {
   "cell_type": "markdown",
   "metadata": {},
   "source": [
    "# SK Learn GMM Epoch"
   ]
  },
  {
   "cell_type": "code",
   "execution_count": 43,
   "metadata": {},
   "outputs": [],
   "source": [
    "from sklearn.mixture import GaussianMixture\n",
    "\n",
    "init_weights = gmm_init_params[\"weights\"]\n",
    "init_means = gmm_init_params[\"means\"]\n",
    "\n",
    "skgmm = GaussianMixture(n_components=N_COMPONENTS, covariance_type='full', tol=CONVERGENCE_TOL, max_iter=EPOCHS, random_state=0, means_init = init_means, weights_init=init_weights)\n",
    "skgmm.fit(input_data)\n",
    "skgmm_pred = skgmm.predict(input_data)"
   ]
  },
  {
   "cell_type": "markdown",
   "metadata": {},
   "source": [
    "# Torch Lightning"
   ]
  },
  {
   "cell_type": "code",
   "execution_count": 26,
   "metadata": {},
   "outputs": [],
   "source": [
    "from torch.utils.data import Dataset, DataLoader\n",
    "from pytorch_lightning import LightningDataModule\n",
    "class CustomDataset(Dataset):\n",
    "    def __init__(self, data_tensor: torch.Tensor):\n",
    "        self.data = data_tensor\n",
    "    def __len__(self):\n",
    "        return len(self.data)\n",
    "    def __getitem__(self, idx):\n",
    "        return self.data[idx]\n",
    "    \n",
    "class CustomDataModule(LightningDataModule):\n",
    "    def __init__(self, data_tensor: torch.Tensor, batch_size: int):\n",
    "        super().__init__()\n",
    "        self.data_tensor = data_tensor\n",
    "        self.batch_size = batch_size\n",
    "    def setup(self, stage=\"\"):\n",
    "        self.custom_ds = CustomDataset(self.data_tensor)\n",
    "    def train_dataloader(self):\n",
    "        return DataLoader(self.custom_ds, batch_size=self.batch_size, shuffle=False, generator=g, worker_init_fn=seed_worker)\n",
    "    \n",
    "custom_dm = CustomDataModule(data_tensor=input_tensor, batch_size=25000)\n",
    "custom_dm.setup(stage=\"\")"
   ]
  },
  {
   "cell_type": "code",
   "execution_count": 27,
   "metadata": {},
   "outputs": [
    {
     "name": "stdout",
     "output_type": "stream",
     "text": [
      "tensor(0.0195, grad_fn=<SelectBackward0>)\n",
      "tensor(0.0195, grad_fn=<SelectBackward0>)\n",
      "tensor(0.0195, grad_fn=<SelectBackward0>)\n",
      "tensor(0.0195, grad_fn=<SelectBackward0>)\n",
      "tensor(0.0195, grad_fn=<SelectBackward0>)\n"
     ]
    }
   ],
   "source": [
    "\n",
    "for i in range(5):\n",
    "    print(next(iter(custom_dm.train_dataloader()))[0][0])"
   ]
  },
  {
   "cell_type": "code",
   "execution_count": 53,
   "metadata": {},
   "outputs": [
    {
     "name": "stderr",
     "output_type": "stream",
     "text": [
      "GPU available: True (mps), used: False\n",
      "TPU available: False, using: 0 TPU cores\n",
      "HPU available: False, using: 0 HPUs\n",
      "\n",
      "  | Name       | Type                 | Params | Mode \n",
      "------------------------------------------------------------\n",
      "0 | gmm_module | GaussianMixtureModel | 0      | train\n",
      "1 | vae_module | FaradayVAE           | 402 K  | eval \n",
      "------------------------------------------------------------\n",
      "402 K     Trainable params\n",
      "0         Non-trainable params\n",
      "402 K     Total params\n",
      "1.609     Total estimated model params size (MB)\n",
      "1         Modules in train mode\n",
      "32        Modules in eval mode\n"
     ]
    },
    {
     "name": "stdout",
     "output_type": "stream",
     "text": [
      "Epoch 0:   0%|          | 0/1 [00:00<?, ?it/s] Encoded batch: 0.019506216049194336,Means: 0.16120463609695435\n",
      "Epoch 1:   0%|          | 0/1 [00:00<?, ?it/s, v_num=4]        Encoded batch: 0.019506216049194336,Means: 0.1358889639377594\n",
      "Epoch 2:   0%|          | 0/1 [00:00<?, ?it/s, v_num=4]        Encoded batch: 0.019506216049194336,Means: 0.11478003114461899\n",
      "Epoch 3:   0%|          | 0/1 [00:00<?, ?it/s, v_num=4]        Encoded batch: 0.019506216049194336,Means: 0.09881109744310379\n",
      "Epoch 4:   0%|          | 0/1 [00:00<?, ?it/s, v_num=4]        Encoded batch: 0.019506216049194336,Means: 0.08712901175022125\n",
      "Epoch 5:   0%|          | 0/1 [00:00<?, ?it/s, v_num=4]        Encoded batch: 0.019506216049194336,Means: 0.07263205200433731\n",
      "Epoch 6:   0%|          | 0/1 [00:00<?, ?it/s, v_num=4]        Encoded batch: 0.019506216049194336,Means: 0.05905861780047417\n",
      "Epoch 7:   0%|          | 0/1 [00:00<?, ?it/s, v_num=4]        Encoded batch: 0.019506216049194336,Means: 0.048808977007865906\n",
      "Epoch 8:   0%|          | 0/1 [00:00<?, ?it/s, v_num=4]        Encoded batch: 0.019506216049194336,Means: 0.041254740208387375\n",
      "Epoch 9:   0%|          | 0/1 [00:00<?, ?it/s, v_num=4]        Encoded batch: 0.019506216049194336,Means: 0.03409744054079056\n",
      "Epoch 10:   0%|          | 0/1 [00:00<?, ?it/s, v_num=4]       Encoded batch: 0.019506216049194336,Means: 0.026222102344036102\n",
      "Epoch 11:   0%|          | 0/1 [00:00<?, ?it/s, v_num=4]        Encoded batch: 0.019506216049194336,Means: 0.01848374307155609\n",
      "Epoch 12:   0%|          | 0/1 [00:00<?, ?it/s, v_num=4]        Encoded batch: 0.019506216049194336,Means: 0.01311457809060812\n",
      "Epoch 13:   0%|          | 0/1 [00:00<?, ?it/s, v_num=4]        Encoded batch: 0.019506216049194336,Means: 0.007905421778559685\n",
      "Epoch 14:   0%|          | 0/1 [00:00<?, ?it/s, v_num=4]        Encoded batch: 0.019506216049194336,Means: 0.0009237731574103236\n",
      "Epoch 15:   0%|          | 0/1 [00:00<?, ?it/s, v_num=4]        Encoded batch: 0.019506216049194336,Means: -0.007378332782536745\n",
      "Epoch 16:   0%|          | 0/1 [00:00<?, ?it/s, v_num=4]        Encoded batch: 0.019506216049194336,Means: -0.0164902675896883\n",
      "Epoch 17:   0%|          | 0/1 [00:00<?, ?it/s, v_num=4]        Encoded batch: 0.019506216049194336,Means: -0.022907527163624763\n",
      "Epoch 18:   0%|          | 0/1 [00:00<?, ?it/s, v_num=4]        Encoded batch: 0.019506216049194336,Means: -0.02909868210554123\n",
      "Epoch 18: 100%|██████████| 1/1 [00:00<00:00,  2.35it/s, v_num=4]\n"
     ]
    }
   ],
   "source": [
    "from opensynth.models.faraday.new_gmm.new_gmm_model import GaussianMixtureLightningModule\n",
    "gmm_module = GaussianMixtureModel(\n",
    "    num_components=N_COMPONENTS,\n",
    "    num_features = input_data.shape[1],\n",
    "    reg_covar=REG_COVAR,\n",
    "    print_idx=IDX\n",
    ")\n",
    "gmm_module.initialise(gmm_init_params)\n",
    "gmm_lightning_module = GaussianMixtureLightningModule(\n",
    "    gmm_module = gmm_module,\n",
    "    vae_module = vae_model,\n",
    "    num_components = gmm_module.num_components,\n",
    "    num_features = gmm_module.num_features,\n",
    "    reg_covar = gmm_module.reg_covar,\n",
    "    convergence_tolerance = CONVERGENCE_TOL\n",
    ")\n",
    "trainer = pl.Trainer(max_epochs=EPOCHS, accelerator=\"cpu\", deterministic=True )\n",
    "trainer.fit(gmm_lightning_module, custom_dm)"
   ]
  },
  {
   "cell_type": "markdown",
   "metadata": {},
   "source": [
    "# Compare"
   ]
  },
  {
   "cell_type": "code",
   "execution_count": 54,
   "metadata": {},
   "outputs": [],
   "source": [
    "IDX = 0"
   ]
  },
  {
   "cell_type": "code",
   "execution_count": 55,
   "metadata": {},
   "outputs": [
    {
     "data": {
      "text/plain": [
       "array([-0.03409357, -1.60444181, -0.84525173,  1.52687141,  0.52739176,\n",
       "       -0.08208853, -0.52802043,  3.27411926, -0.26092997, -1.67757124,\n",
       "       -0.45017775, -1.3417439 , -2.34126148,  1.01930178,  1.13318752,\n",
       "       -1.19118948,  7.24041631,  2.94375444])"
      ]
     },
     "execution_count": 55,
     "metadata": {},
     "output_type": "execute_result"
    }
   ],
   "source": [
    "skgmm.means_[IDX]"
   ]
  },
  {
   "cell_type": "code",
   "execution_count": 56,
   "metadata": {},
   "outputs": [
    {
     "data": {
      "text/plain": [
       "tensor([-0.0496, -1.5120, -0.8428,  1.5137,  0.5313, -0.0923, -0.5077,  3.3233,\n",
       "        -0.2645, -1.6030, -0.4354, -1.3286, -2.4643,  1.0428,  1.1234, -1.0958,\n",
       "         7.2376,  2.8979])"
      ]
     },
     "execution_count": 56,
     "metadata": {},
     "output_type": "execute_result"
    }
   ],
   "source": [
    "trained_model.means[IDX]"
   ]
  },
  {
   "cell_type": "code",
   "execution_count": 57,
   "metadata": {},
   "outputs": [
    {
     "data": {
      "text/plain": [
       "array([ 0.05927229, -1.82203529, -1.10582344,  1.86211818,  0.59518445,\n",
       "       -0.0850846 , -0.86206195,  3.34695201, -0.32593068, -1.957371  ,\n",
       "       -0.71917021, -1.64930341, -2.25145595,  0.90938136,  1.09867196,\n",
       "       -1.39409819,  7.54327722,  2.87144065])"
      ]
     },
     "execution_count": 57,
     "metadata": {},
     "output_type": "execute_result"
    }
   ],
   "source": [
    "means[IDX]"
   ]
  },
  {
   "cell_type": "code",
   "execution_count": 58,
   "metadata": {},
   "outputs": [
    {
     "data": {
      "text/plain": [
       "tensor([-0.0291, -1.5898, -0.8670,  1.5469,  0.5635, -0.0816, -0.5269,  3.3206,\n",
       "        -0.2614, -1.6546, -0.4404, -1.3841, -2.4280,  1.0509,  1.1529, -1.1667,\n",
       "         7.2701,  2.8376])"
      ]
     },
     "execution_count": 58,
     "metadata": {},
     "output_type": "execute_result"
    }
   ],
   "source": [
    "gmm_lightning_module.gmm_module.means[IDX]"
   ]
  },
  {
   "cell_type": "code",
   "execution_count": 59,
   "metadata": {},
   "outputs": [
    {
     "data": {
      "text/plain": [
       "tensor([ 0.1822, -2.7588, -1.0983,  1.7424,  0.2821, -0.0517, -0.9845,  3.2832,\n",
       "        -0.2812, -2.2875, -0.6615, -1.5619, -1.2599,  0.9391,  0.9560, -2.0816,\n",
       "         5.9167,  3.9500])"
      ]
     },
     "execution_count": 59,
     "metadata": {},
     "output_type": "execute_result"
    }
   ],
   "source": [
    "gmm_init_params[\"means\"][IDX]"
   ]
  },
  {
   "cell_type": "code",
   "execution_count": 60,
   "metadata": {},
   "outputs": [
    {
     "data": {
      "text/plain": [
       "array([ 3.62810758,  2.5046845 ,  3.00098303, -0.97427171, -2.99772135,\n",
       "       -5.10590263,  3.19043596, 12.39832528,  0.46417462, -7.09667743,\n",
       "        3.30860913,  6.35795778, -5.38121506, -7.91289196,  4.75926963,\n",
       "        4.36874473,  3.94478268,  6.27902463])"
      ]
     },
     "execution_count": 60,
     "metadata": {},
     "output_type": "execute_result"
    }
   ],
   "source": [
    "skgmm.precisions_cholesky_[IDX][0]"
   ]
  },
  {
   "cell_type": "code",
   "execution_count": 61,
   "metadata": {},
   "outputs": [
    {
     "data": {
      "text/plain": [
       "tensor([ 3.7405,  2.7770,  2.0497, -1.4382, -3.5489, -3.9533,  3.7853, 10.4361,\n",
       "        -0.8158, -4.6887,  1.9838,  0.9060, -6.9250, -5.2341,  3.1970,  3.3125,\n",
       "         6.2404,  4.4628])"
      ]
     },
     "execution_count": 61,
     "metadata": {},
     "output_type": "execute_result"
    }
   ],
   "source": [
    "trained_model.precision_cholesky[IDX][0]"
   ]
  },
  {
   "cell_type": "code",
   "execution_count": 62,
   "metadata": {},
   "outputs": [
    {
     "data": {
      "text/plain": [
       "array([ 3.23311398,  3.00014493,  2.17134816, -2.10335049, -2.93972487,\n",
       "       -4.50479356,  2.84537901, 12.56316785,  1.79440568, -4.35304584,\n",
       "        2.79591458,  2.80417888, -5.89923265, -3.83837919,  1.841089  ,\n",
       "        2.72552406,  4.37941362,  3.91518476])"
      ]
     },
     "execution_count": 62,
     "metadata": {},
     "output_type": "execute_result"
    }
   ],
   "source": [
    "prec_chol[IDX][0]"
   ]
  },
  {
   "cell_type": "code",
   "execution_count": 63,
   "metadata": {},
   "outputs": [
    {
     "data": {
      "text/plain": [
       "tensor([ 3.7507,  2.9416,  2.1470, -1.3012, -3.5715, -4.0825,  3.6712, 10.4498,\n",
       "        -0.9893, -4.7431,  2.0277,  1.2090, -6.9990, -5.0247,  3.0595,  3.6701,\n",
       "         5.6456,  4.3372])"
      ]
     },
     "execution_count": 63,
     "metadata": {},
     "output_type": "execute_result"
    }
   ],
   "source": [
    "gmm_lightning_module.gmm_module.precision_cholesky[IDX][0]"
   ]
  },
  {
   "cell_type": "code",
   "execution_count": 64,
   "metadata": {},
   "outputs": [
    {
     "data": {
      "text/plain": [
       "tensor([ 4.1566,  1.6513,  2.5846, -2.7945, -3.7173, -4.3137,  2.0308,  6.6499,\n",
       "        -0.3323, -2.4590, -0.2854,  3.9629, -2.3193, -2.7534, -1.5411, -0.7101,\n",
       "         2.3265, -0.1992])"
      ]
     },
     "execution_count": 64,
     "metadata": {},
     "output_type": "execute_result"
    }
   ],
   "source": [
    "gmm_init_params[\"precision_cholesky\"][IDX][0]"
   ]
  },
  {
   "cell_type": "code",
   "execution_count": null,
   "metadata": {},
   "outputs": [],
   "source": []
  }
 ],
 "metadata": {
  "kernelspec": {
   "display_name": "OpenSynth-BNsxhSIM",
   "language": "python",
   "name": "python3"
  },
  "language_info": {
   "codemirror_mode": {
    "name": "ipython",
    "version": 3
   },
   "file_extension": ".py",
   "mimetype": "text/x-python",
   "name": "python",
   "nbconvert_exporter": "python",
   "pygments_lexer": "ipython3",
   "version": "3.11.9"
  }
 },
 "nbformat": 4,
 "nbformat_minor": 2
}
