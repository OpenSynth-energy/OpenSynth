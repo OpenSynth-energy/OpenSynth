{
 "cells": [
  {
   "cell_type": "markdown",
   "metadata": {},
   "source": [
    "# Privacy evaluation \n",
    "\n",
    "This tutorial explains how to evaluate the privacy of synthetic smart meter data. This notebook is based on the Faraday architecture, trained on Low Carbon London dataset.\n",
    "\n",
    "- For more information on Faraday's architecture, refer to the [Faraday paper](https://arxiv.org/abs/2404.04314).\n",
    "- For more information on evaluation method, refer to the paper by Centre for Net Zero on [Defining 'Good': Evaluation Framework for Synthetic Smart Meter Data\n",
    "](https://arxiv.org/abs/2407.11785). \n",
    "\n",
    "### Pre-requisites\n",
    "\n",
    "1. If you haven't already, please download LCL dataset from [data.london.gov.uk](https://data.london.gov.uk/dataset/smartmeter-energy-use-data-in-london-households).\n",
    "2. If you haven't already, you need to first train a model (refer to the `faraday_tutorial.ipynb` notebook).\n"
   ]
  },
  {
   "cell_type": "code",
   "execution_count": 1,
   "metadata": {},
   "outputs": [],
   "source": [
    "%load_ext autoreload\n",
    "%autoreload 2"
   ]
  },
  {
   "cell_type": "code",
   "execution_count": 2,
   "metadata": {},
   "outputs": [],
   "source": [
    "import os\n",
    "import sys\n",
    "\n",
    "import logging\n",
    "logging.basicConfig(level=logging.INFO)"
   ]
  },
  {
   "cell_type": "markdown",
   "metadata": {},
   "source": [
    "# 💿 Loading LCL Data"
   ]
  },
  {
   "cell_type": "code",
   "execution_count": 3,
   "metadata": {},
   "outputs": [],
   "source": [
    "from pathlib import Path\n",
    "from opensynth.data_modules.lcl_data_module import LCLDataModule\n",
    "import pytorch_lightning as pl\n",
    "\n",
    "import matplotlib.pyplot as plt\n",
    "\n",
    "data_path = Path(\"../../data/processed/historical/train/lcl_data.csv\")\n",
    "stats_path = Path(\"../../data/processed/historical/train/mean_std.csv\")\n",
    "outlier_path = Path(\"../../data/processed/historical/train/outliers.csv\")\n",
    "\n",
    "# Original training data with no outliers\n",
    "dm = LCLDataModule(data_path=data_path, stats_path=stats_path, batch_size=5000, n_samples=20000)\n",
    "dm.setup()"
   ]
  },
  {
   "cell_type": "code",
   "execution_count": 4,
   "metadata": {},
   "outputs": [],
   "source": [
    "# Training data with implausible outliers injected for privacy attacks\n",
    "dm_with_outliers = LCLDataModule(data_path=data_path, stats_path=stats_path, batch_size=5000, n_samples=20000, outlier_path=outlier_path)\n",
    "dm_with_outliers.setup()"
   ]
  },
  {
   "cell_type": "code",
   "execution_count": 5,
   "metadata": {},
   "outputs": [],
   "source": [
    "# Holdout data\n",
    "holdout_path = Path(\"../../data/processed/historical/holdout/lcl_data.csv\")\n",
    "dm_holdout = LCLDataModule(data_path=holdout_path, stats_path=stats_path, batch_size=5000, n_samples=20000)\n",
    "dm_holdout.setup()"
   ]
  },
  {
   "cell_type": "markdown",
   "metadata": {},
   "source": [
    "# 🤖 Load Pretrained Faraday model"
   ]
  },
  {
   "cell_type": "code",
   "execution_count": 6,
   "metadata": {},
   "outputs": [],
   "source": [
    "from opensynth.models.energydiff.diffusion import PLDiffusion1D\n",
    "import numpy as np\n",
    "import torch"
   ]
  },
  {
   "cell_type": "code",
   "execution_count": 7,
   "metadata": {},
   "outputs": [],
   "source": [
    "df_model = PLDiffusion1D.load_from_checkpoint(\"lightning_logs/\"+\n",
    "                                              \"version_3/\"+\n",
    "                                              \"checkpoints/\"+\n",
    "                                              \"epoch=999-step=19000.ckpt\")"
   ]
  },
  {
   "cell_type": "code",
   "execution_count": 12,
   "metadata": {},
   "outputs": [
    {
     "name": "stderr",
     "output_type": "stream",
     "text": [
      "/var/folders/1l/4hsqmyts089_gc67gmnw8__80000gn/T/ipykernel_97052/3369320387.py:1: FutureWarning: You are using `torch.load` with `weights_only=False` (the current default value), which uses the default pickle module implicitly. It is possible to construct malicious pickle data which will execute arbitrary code during unpickling (See https://github.com/pytorch/pytorch/blob/main/SECURITY.md#untrusted-models for more details). In a future release, the default value for `weights_only` will be flipped to `True`. This limits the functions that could be executed during unpickling. Arbitrary objects will no longer be allowed to be loaded via this mode unless they are explicitly allowlisted by the user via `torch.serialization.add_safe_globals`. We recommend you start setting `weights_only=True` for any use case where you don't have full control of the loaded file. Please open an issue on GitHub for any issues related to this experimental feature.\n",
      "  df_kwh = torch.load(\"lightning_logs/version_3\"\n"
     ]
    }
   ],
   "source": [
    "df_kwh = torch.load(\"lightning_logs/version_3\"\n",
    "                        +\"/samples/dpm_kwh_calib.pt\")\n",
    "# pay attention to the map location"
   ]
  },
  {
   "cell_type": "markdown",
   "metadata": {},
   "source": [
    "# 1️⃣ Reconstruction Attack"
   ]
  },
  {
   "cell_type": "markdown",
   "metadata": {},
   "source": [
    "As described in the Defining good paper, the reconstruction attack involves:\n",
    "\n",
    "1. Train the generative model with implausible outliers injected (100)\n",
    "2. Generate a random sample of data from the injected outliers (10000)\n",
    "3. Calculate the pairwise euclidean distances of each injected outlier with every sample in the batch of randomly generated data.\n",
    "4. Aggregate the results to retrieve the nearest generated sample for each outlier, and express the distance as a ratio of the norm of the outlier's vector.\n",
    "5. Visualise results in a cumulative distribution function."
   ]
  },
  {
   "cell_type": "markdown",
   "metadata": {},
   "source": [
    "### 🏭 Create Reconstruction Attack Dataset"
   ]
  },
  {
   "cell_type": "code",
   "execution_count": 15,
   "metadata": {},
   "outputs": [],
   "source": [
    "from opensynth.evaluation.privacy import reconstruction_attack\n",
    "\n",
    "# n_samples == batch_size\n",
    "real_kwh = next(iter(dm_with_outliers.train_dataloader()))['kwh']\n",
    "real_kwh = dm_with_outliers.reconstruct_kwh(real_kwh)\n",
    "outlier_kwh = next(iter(dm_with_outliers.outlier_dataloader()))['kwh']\n",
    "outlier_kwh = dm_with_outliers.reconstruct_kwh(outlier_kwh)\n",
    "\n",
    "df_attack_dataset = reconstruction_attack.ReconstructionAttackDataset(\n",
    "    synthetic_samples=df_kwh,\n",
    "    real_samples=real_kwh,\n",
    "    outlier_samples=outlier_kwh\n",
    ")"
   ]
  },
  {
   "cell_type": "markdown",
   "metadata": {},
   "source": [
    "### 🧮 Calculating pair-wise euclidean distances"
   ]
  },
  {
   "cell_type": "code",
   "execution_count": 16,
   "metadata": {},
   "outputs": [
    {
     "name": "stderr",
     "output_type": "stream",
     "text": [
      "INFO:opensynth.evaluation.privacy.reconstruction_attack:Calculating pairwise euclidean distance..\n",
      "INFO:opensynth.evaluation.privacy.reconstruction_attack:Converting wide to long table..\n",
      "INFO:opensynth.evaluation.privacy.reconstruction_attack:Calculating vector norm..\n"
     ]
    }
   ],
   "source": [
    "\n",
    "df_distance_norm = reconstruction_attack.calculate_distance_norm(\n",
    "    real = df_attack_dataset.outlier_samples,\n",
    "    fake = df_attack_dataset.synthetic_samples,\n",
    "    group_min=True\n",
    ")"
   ]
  },
  {
   "cell_type": "markdown",
   "metadata": {},
   "source": [
    "### 📈 Plotting cumulative distribution function"
   ]
  },
  {
   "cell_type": "markdown",
   "metadata": {},
   "source": [
    "In the defining good paper, it is recommended that threshold ratio be set to 0.3. This is analogous to saying that for a outlier profile with daily total consumption of 30kwh, a generated profile with total consumption within 30% (21±9kwh) is sufficient to render that outlier compromised.\n",
    "\n",
    "Using this threshold, we can see that GMMs trained with 1500 clusters, about 16.5% of outliers would have rended about 53% of outliers successfully reconstructed, whilst GMM trained with only 1 cluster is very private. All synthetic data generated lies outside of 0.6 X norm of injected outliers. "
   ]
  },
  {
   "cell_type": "code",
   "execution_count": 17,
   "metadata": {},
   "outputs": [
    {
     "data": {
      "text/plain": [
       "(0.0, 1.0)"
      ]
     },
     "execution_count": 17,
     "metadata": {},
     "output_type": "execute_result"
    },
    {
     "data": {
      "image/png": "[encoded data removed]",
      "text/plain": [
       "<Figure size 640x480 with 1 Axes>"
      ]
     },
     "metadata": {},
     "output_type": "display_data"
    }
   ],
   "source": [
    "import pandas as pd\n",
    "import seaborn as sns\n",
    "\n",
    "\n",
    "df_distance_norm[\"model\"] = \"energydiff\"\n",
    "\n",
    "df_reconstruction_attack_results = pd.concat([\n",
    "    df_distance_norm,\n",
    "]).reset_index(drop=True)\n",
    "\n",
    "sns.ecdfplot(data=df_reconstruction_attack_results, x=\"ratio\", hue=\"model\")\n",
    "plt.xlim(0, 1)"
   ]
  },
  {
   "cell_type": "markdown",
   "metadata": {},
   "source": [
    "# 2️⃣ Membership Inference Attacks"
   ]
  },
  {
   "cell_type": "markdown",
   "metadata": {},
   "source": [
    "**_note: EnergyDiff in its original design is not tailored for dealing with privacy attacks. However, it is possible to evaluate the privacy of synthetic data using the membership inference attack._**\n",
    "\n",
    "As described in the Defining good paper, the membership inference attack involves:\n",
    "\n",
    "1. Train a discriminator that attempts to distinguish between synthetically generated data and the holdout set (real data but unseen during training of the generative model.)\n",
    "2. Create an 'attack dataset' that comprises of 1) Seen outliers during the training of the generative model 2) Unseen outliers but belonging to the same distribution to the seen outliers, and 3) Unseen outliers but belonging to a different distribution. A random guess would yield a precision of 33%.\n",
    "3. Use the trained discriminative model to predict on the attack dataset and report on the precision, and check that it is no better than random guess."
   ]
  },
  {
   "cell_type": "markdown",
   "metadata": {},
   "source": [
    "### 🏭 Create Membership Inference Attack Dataset"
   ]
  },
  {
   "cell_type": "code",
   "execution_count": 19,
   "metadata": {},
   "outputs": [
    {
     "name": "stderr",
     "output_type": "stream",
     "text": [
      "INFO:opensynth.datasets.low_carbon_london.preprocess_lcl:🎲 Generating unseen outliers with mean:0.2087 and mean_factor: 20.0000\n",
      "INFO:opensynth.datasets.low_carbon_london.preprocess_lcl:🎲 Generating unseen outliers with mean:0.0000 and mean_factor: 20.0000\n"
     ]
    }
   ],
   "source": [
    "from opensynth.evaluation.privacy import membership_inference_attack as mia\n",
    "import pytorch_lightning as pl\n",
    "\n",
    "# n_samples == batch_size\n",
    "dm_mia_df = mia.MembershipInferenceDataModule(\n",
    "    model=df_model,\n",
    "    dm_train=dm_with_outliers,\n",
    "    dm_holdout=dm_holdout,\n",
    "    batch_size=5000,\n",
    "    synthetic_samples=df_kwh\n",
    ")\n",
    "dm_mia_df.setup(\"\")"
   ]
  },
  {
   "cell_type": "markdown",
   "metadata": {},
   "source": [
    "### 🤖 Train discriminator models"
   ]
  },
  {
   "cell_type": "markdown",
   "metadata": {},
   "source": [
    "#### EnergyDiff"
   ]
  },
  {
   "cell_type": "code",
   "execution_count": 20,
   "metadata": {},
   "outputs": [
    {
     "name": "stderr",
     "output_type": "stream",
     "text": [
      "GPU available: True (mps), used: True\n",
      "TPU available: False, using: 0 TPU cores\n",
      "HPU available: False, using: 0 HPUs\n",
      "/Users/nanlin/miniforge3/envs/opensynth-dev/lib/python3.12/site-packages/pytorch_lightning/trainer/connectors/logger_connector/logger_connector.py:75: Starting from v1.9.0, `tensorboardX` has been removed as a dependency of the `pytorch_lightning` package, due to potential conflicts with other packages in the ML ecosystem. For this reason, `logger=True` will use `CSVLogger` as the default logger, unless the `tensorboard` or `tensorboardX` packages are found. Please `pip install lightning[extra]` or one of them to enable TensorBoard support by default\n",
      "\n",
      "  | Name    | Type                      | Params | Mode \n",
      "--------------------------------------------------------------\n",
      "0 | loss_fn | BCEWithLogitsLoss         | 0      | train\n",
      "1 | model   | MembershipInferenceModule | 2.2 K  | train\n",
      "--------------------------------------------------------------\n",
      "2.2 K     Trainable params\n",
      "0         Non-trainable params\n",
      "2.2 K     Total params\n",
      "0.009     Total estimated model params size (MB)\n",
      "11        Modules in train mode\n",
      "0         Modules in eval mode\n"
     ]
    },
    {
     "name": "stdout",
     "output_type": "stream",
     "text": [
      "Sanity Checking: |          | 0/? [00:00<?, ?it/s]"
     ]
    },
    {
     "name": "stderr",
     "output_type": "stream",
     "text": [
      "/Users/nanlin/miniforge3/envs/opensynth-dev/lib/python3.12/site-packages/pytorch_lightning/trainer/connectors/data_connector.py:424: The 'val_dataloader' does not have many workers which may be a bottleneck. Consider increasing the value of the `num_workers` argument` to `num_workers=7` in the `DataLoader` to improve performance.\n"
     ]
    },
    {
     "name": "stdout",
     "output_type": "stream",
     "text": [
      "                                                                           "
     ]
    },
    {
     "name": "stderr",
     "output_type": "stream",
     "text": [
      "/Users/nanlin/miniforge3/envs/opensynth-dev/lib/python3.12/site-packages/pytorch_lightning/trainer/connectors/data_connector.py:424: The 'train_dataloader' does not have many workers which may be a bottleneck. Consider increasing the value of the `num_workers` argument` to `num_workers=7` in the `DataLoader` to improve performance.\n",
      "/Users/nanlin/miniforge3/envs/opensynth-dev/lib/python3.12/site-packages/pytorch_lightning/loops/fit_loop.py:298: The number of training batches (6) is smaller than the logging interval Trainer(log_every_n_steps=50). Set a lower value for log_every_n_steps if you want to see logs for the training epoch.\n"
     ]
    },
    {
     "name": "stdout",
     "output_type": "stream",
     "text": [
      "Epoch 99: 100%|██████████| 6/6 [00:00<00:00, 14.82it/s, v_num=4, Eval BCE Loss=0.689, Eval Accuracy=0.534, Train BCE Loss=0.667, Train Accuracy=0.574]"
     ]
    },
    {
     "name": "stderr",
     "output_type": "stream",
     "text": [
      "`Trainer.fit` stopped: `max_epochs=100` reached.\n"
     ]
    },
    {
     "name": "stdout",
     "output_type": "stream",
     "text": [
      "Epoch 99: 100%|██████████| 6/6 [00:00<00:00, 14.32it/s, v_num=4, Eval BCE Loss=0.689, Eval Accuracy=0.534, Train BCE Loss=0.667, Train Accuracy=0.574]\n"
     ]
    }
   ],
   "source": [
    "mia_model_df = mia.MembershipInferenceModel(learning_rate=0.02,\n",
    "                                            input_size=48)\n",
    "train_dl = dm_mia_df.train_dataloader()\n",
    "eval_dl = dm_mia_df.eval_dataloader()\n",
    "trainer = pl.Trainer(max_epochs=100, accelerator=\"auto\", strategy=\"auto\")\n",
    "trainer.fit(mia_model_df, \n",
    "            train_dataloaders=train_dl,\n",
    "            val_dataloaders=eval_dl)"
   ]
  },
  {
   "cell_type": "markdown",
   "metadata": {},
   "source": [
    "### 🎯 Check Precision"
   ]
  },
  {
   "cell_type": "markdown",
   "metadata": {},
   "source": [
    "Results show that EnergyDiff trained with the hyperparameters specified in `energydiff_tutorial.ipynb` has similar MIA results with Faraday with 150 and 1500 GMM Clusters. \n"
   ]
  },
  {
   "cell_type": "code",
   "execution_count": 21,
   "metadata": {},
   "outputs": [
    {
     "name": "stdout",
     "output_type": "stream",
     "text": [
      "Segment: Precision: 0.48 +/- 0.06,\n",
      "F1: 0.48, Acc: 0.65,\n",
      "True Positives: 48,\n",
      "False Positive: 52,\n",
      "Total N: 300,\n",
      "Total Positive: 100,\n",
      "Random Precision : 0.33,\n"
     ]
    }
   ],
   "source": [
    "df_mia_results_df = mia.get_mia_predictions(mia_model_df,\n",
    "                                                     dm_mia_df)\n",
    "mia.print_mia_results(df_mia_results_df)"
   ]
  },
  {
   "cell_type": "markdown",
   "metadata": {},
   "source": [
    "#### Check MIA attack outlier distribution"
   ]
  },
  {
   "cell_type": "code",
   "execution_count": 22,
   "metadata": {},
   "outputs": [],
   "source": [
    "dfseen = dm_mia_df.attack_dataset.df.query(\"type=='seen'\")\n",
    "dfunseen_same = dm_mia_df.attack_dataset.df.query(\"type=='unseen_same'\")\n",
    "dfunseen_diff = dm_mia_df.attack_dataset.df.query(\"type=='unseen_diff'\")\n",
    "assert len(dfseen) == len(dfunseen_same) == len(dfunseen_diff) == 100"
   ]
  },
  {
   "cell_type": "code",
   "execution_count": 23,
   "metadata": {},
   "outputs": [],
   "source": [
    "seen_tensor = np.array(dfseen[\"tensors\"].tolist())\n",
    "unseen_same_tensor = np.array(dfunseen_same[\"tensors\"].tolist())\n",
    "unseen_diff_tensor = np.array(dfunseen_diff[\"tensors\"].tolist())\n",
    "\n",
    "tsne_input = np.concatenate([seen_tensor, unseen_same_tensor, unseen_diff_tensor])\n",
    "\n",
    "from sklearn.manifold import TSNE\n",
    "tsne = TSNE(n_components=2, random_state=0)\n",
    "tsne_output = tsne.fit_transform(tsne_input)"
   ]
  },
  {
   "cell_type": "code",
   "execution_count": 24,
   "metadata": {},
   "outputs": [
    {
     "data": {
      "text/plain": [
       "<matplotlib.legend.Legend at 0x3180aede0>"
      ]
     },
     "execution_count": 24,
     "metadata": {},
     "output_type": "execute_result"
    },
    {
     "data": {
      "image/png": "[encoded data removed]",
      "text/plain": [
       "<Figure size 640x480 with 1 Axes>"
      ]
     },
     "metadata": {},
     "output_type": "display_data"
    }
   ],
   "source": [
    "plt.scatter(tsne_output[:100, 0], tsne_output[:100, 1], label=\"Seen\")\n",
    "plt.scatter(tsne_output[100:200, 0], tsne_output[100:200, 1], label=\"Unseen (Same)\")\n",
    "plt.scatter(tsne_output[200:, 0], tsne_output[200:, 1], label=\"Unseen (Diff)\")\n",
    "plt.legend()"
   ]
  },
  {
   "cell_type": "code",
   "execution_count": 25,
   "metadata": {},
   "outputs": [
    {
     "data": {
      "text/plain": [
       "<matplotlib.legend.Legend at 0x334c12180>"
      ]
     },
     "execution_count": 25,
     "metadata": {},
     "output_type": "execute_result"
    },
    {
     "data": {
      "image/png": "[encoded data removed]",
      "text/plain": [
       "<Figure size 640x480 with 1 Axes>"
      ]
     },
     "metadata": {},
     "output_type": "display_data"
    }
   ],
   "source": [
    "from sklearn.decomposition import PCA\n",
    "pca = PCA(n_components=2)\n",
    "pca.fit(seen_tensor)\n",
    "\n",
    "seen_pca = pca.transform(seen_tensor)\n",
    "unseen_same_pca = pca.transform(unseen_same_tensor)\n",
    "unseen_diff_pca = pca.transform(unseen_diff_tensor)\n",
    "\n",
    "plt.scatter(seen_pca[:, 0], seen_pca[:, 1], label=\"Seen\")\n",
    "plt.scatter(unseen_same_pca[:, 0], unseen_same_pca[:, 1], label=\"Unseen (Same)\")\n",
    "plt.scatter(unseen_diff_pca[:, 0], unseen_diff_pca[:, 1], label=\"Unseen (Diff)\")\n",
    "plt.legend()"
   ]
  }
 ],
 "metadata": {
  "kernelspec": {
   "display_name": "opensynth",
   "language": "python",
   "name": "python3"
  },
  "language_info": {
   "codemirror_mode": {
    "name": "ipython",
    "version": 3
   },
   "file_extension": ".py",
   "mimetype": "text/x-python",
   "name": "python",
   "nbconvert_exporter": "python",
   "pygments_lexer": "ipython3",
   "version": "3.11.10"
  }
 },
 "nbformat": 4,
 "nbformat_minor": 2
}
